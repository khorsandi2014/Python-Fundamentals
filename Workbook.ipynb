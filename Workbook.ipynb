{
 "cells": [
  {
   "cell_type": "markdown",
   "id": "twelve-volleyball",
   "metadata": {},
   "source": [
    "# Important Points About Python\n",
    "* it was created in 1989-ish as a reaction to Perl and other scripting languages\n",
    "   * it's raison d'être is to manipulate text/files/etc.\n",
    "   * it's a horrible language for numerics\n",
    "* simple types (int, float, bool) vs. containers (str)\n",
    "  * container = thing that holds other thing (\"contains\" other things)\n",
    "* immutable vs. mutable data types\n",
    "  * immutable: str, tuple\n",
    "  * mutable: list, dict, set\n",
    "* Python is \"duck typed\n",
    "* built-in functions _cannot_ modify an object\n",
    "  * methods _can_ modify an object (but they don't have to)\n",
    "* Python embraces \"truthiness\"\n",
    "  * 0, 0.0 are False (all other numbers are True)\n",
    "  * empty containers are False (non-empty containers are True)\n",
    "  * None acts like False\n",
    "* iterables allow you to iterate over them\n",
    "  * essentially containers\n",
    "  * file objects are also iterables"
   ]
  },
  {
   "cell_type": "markdown",
   "id": "golden-engine",
   "metadata": {},
   "source": [
    "# Important Points About Teaching\n",
    "* know when to \"zoom in\" / \"zoom out\"\n",
    "  * know when to go down the rabbit hole (or not)\n",
    "* \"layperson\" explanation"
   ]
  },
  {
   "cell_type": "markdown",
   "id": "temporal-details",
   "metadata": {},
   "source": [
    "# Programming Principles\n",
    "* DRY = Don't Repeat Yourself\n",
    "* \"Programs are written for others to read and only incidentally for computers to execute.\" –Hal Abelson\n",
    "* Eagleson's Law: \"Code written more than 6 months ago might as well have been written by someone else.\"\n",
    "* If you want to go back in time and argue with a younger version of yourself, be a programmer!"
   ]
  },
  {
   "cell_type": "code",
   "execution_count": 1,
   "id": "latin-scott",
   "metadata": {},
   "outputs": [
    {
     "data": {
      "text/plain": [
       "'53.3'"
      ]
     },
     "execution_count": 1,
     "metadata": {},
     "output_type": "execute_result"
    }
   ],
   "source": [
    "str(53.3)"
   ]
  },
  {
   "cell_type": "code",
   "execution_count": 8,
   "id": "existing-trigger",
   "metadata": {},
   "outputs": [
    {
     "data": {
      "text/plain": [
       "'False'"
      ]
     },
     "execution_count": 8,
     "metadata": {},
     "output_type": "execute_result"
    }
   ],
   "source": [
    "str(False)"
   ]
  },
  {
   "cell_type": "code",
   "execution_count": 10,
   "id": "jewish-hearts",
   "metadata": {},
   "outputs": [
    {
     "data": {
      "text/plain": [
       "'34'"
      ]
     },
     "execution_count": 10,
     "metadata": {},
     "output_type": "execute_result"
    }
   ],
   "source": [
    "false = 34 # terrible form, do not do this\n",
    "str(false)"
   ]
  },
  {
   "cell_type": "code",
   "execution_count": 3,
   "id": "limiting-slovak",
   "metadata": {},
   "outputs": [
    {
     "data": {
      "text/plain": [
       "300"
      ]
     },
     "execution_count": 3,
     "metadata": {},
     "output_type": "execute_result"
    }
   ],
   "source": [
    "int('300')"
   ]
  },
  {
   "cell_type": "code",
   "execution_count": 4,
   "id": "pregnant-isolation",
   "metadata": {},
   "outputs": [
    {
     "ename": "ValueError",
     "evalue": "invalid literal for int() with base 10: '30x'",
     "output_type": "error",
     "traceback": [
      "\u001b[0;31m---------------------------------------------------------------------------\u001b[0m",
      "\u001b[0;31mValueError\u001b[0m                                Traceback (most recent call last)",
      "\u001b[0;32m<ipython-input-4-77320cf3b4dd>\u001b[0m in \u001b[0;36m<module>\u001b[0;34m\u001b[0m\n\u001b[0;32m----> 1\u001b[0;31m \u001b[0mint\u001b[0m\u001b[0;34m(\u001b[0m\u001b[0;34m'30x'\u001b[0m\u001b[0;34m)\u001b[0m\u001b[0;34m\u001b[0m\u001b[0;34m\u001b[0m\u001b[0m\n\u001b[0m",
      "\u001b[0;31mValueError\u001b[0m: invalid literal for int() with base 10: '30x'"
     ]
    }
   ],
   "source": [
    "int('30x')"
   ]
  },
  {
   "cell_type": "code",
   "execution_count": 5,
   "id": "pleasant-tuning",
   "metadata": {},
   "outputs": [
    {
     "data": {
      "text/plain": [
       "bool"
      ]
     },
     "execution_count": 5,
     "metadata": {},
     "output_type": "execute_result"
    }
   ],
   "source": [
    "type(False)"
   ]
  },
  {
   "cell_type": "code",
   "execution_count": 6,
   "id": "educated-guide",
   "metadata": {},
   "outputs": [
    {
     "data": {
      "text/plain": [
       "str"
      ]
     },
     "execution_count": 6,
     "metadata": {},
     "output_type": "execute_result"
    }
   ],
   "source": [
    "type('False')"
   ]
  },
  {
   "cell_type": "code",
   "execution_count": 7,
   "id": "engaging-democracy",
   "metadata": {},
   "outputs": [
    {
     "data": {
      "text/plain": [
       "float"
      ]
     },
     "execution_count": 7,
     "metadata": {},
     "output_type": "execute_result"
    }
   ],
   "source": [
    "type(3.5)"
   ]
  },
  {
   "cell_type": "code",
   "execution_count": 15,
   "id": "unusual-royal",
   "metadata": {},
   "outputs": [
    {
     "name": "stdout",
     "output_type": "stream",
     "text": [
      "1\n"
     ]
    }
   ],
   "source": [
    "%%python\n",
    "# the code will be run in Python 2\n",
    "print(3 / 2)"
   ]
  },
  {
   "cell_type": "code",
   "execution_count": 13,
   "id": "legitimate-raise",
   "metadata": {},
   "outputs": [
    {
     "data": {
      "text/plain": [
       "1.5"
      ]
     },
     "execution_count": 13,
     "metadata": {},
     "output_type": "execute_result"
    }
   ],
   "source": [
    "3 / 2"
   ]
  },
  {
   "cell_type": "code",
   "execution_count": 16,
   "id": "unlikely-pontiac",
   "metadata": {},
   "outputs": [
    {
     "data": {
      "text/plain": [
       "0"
      ]
     },
     "execution_count": 16,
     "metadata": {},
     "output_type": "execute_result"
    }
   ],
   "source": [
    "12 % 2"
   ]
  },
  {
   "cell_type": "markdown",
   "id": "three-designation",
   "metadata": {},
   "source": [
    "## Fun Fact: Card Shuffling\n",
    "\n",
    "* let's use the Python interpreter as a simple calculator\n",
    "* goal is to prove that every time you shuffle a deck of cards...\n",
    "  * ...you get an ordering which is unique in human history"
   ]
  },
  {
   "cell_type": "code",
   "execution_count": 18,
   "id": "developing-premium",
   "metadata": {},
   "outputs": [],
   "source": [
    "# how many orderings?\n",
    "# 52 x 51 x 50 x 49 ... x 1 = 52!\n",
    "import math"
   ]
  },
  {
   "cell_type": "code",
   "execution_count": 19,
   "id": "furnished-blues",
   "metadata": {},
   "outputs": [
    {
     "data": {
      "text/plain": [
       "80658175170943878571660636856403766975289505440883277824000000000000"
      ]
     },
     "execution_count": 19,
     "metadata": {},
     "output_type": "execute_result"
    }
   ],
   "source": [
    "# number of ways to shuffle 52 cards ... ~ 8 x 10^68\n",
    "# atoms in universe 10^78 ... 10^80\n",
    "math.factorial(52)"
   ]
  },
  {
   "cell_type": "code",
   "execution_count": 20,
   "id": "fallen-process",
   "metadata": {},
   "outputs": [
    {
     "data": {
      "text/plain": [
       "189734400000000000000"
      ]
     },
     "execution_count": 20,
     "metadata": {},
     "output_type": "execute_result"
    }
   ],
   "source": [
    "# 1221 A.D. (800 years ago)\n",
    "# 7.5B people on earth\n",
    "# been doing nothing but shuffling cards once a second for 800 years\n",
    "800 * 7_500_000_000 * 366 * 24 * 60 * 60"
   ]
  },
  {
   "cell_type": "code",
   "execution_count": 21,
   "id": "spoken-ozone",
   "metadata": {},
   "outputs": [
    {
     "data": {
      "text/plain": [
       "2.3523269600122258e-48"
      ]
     },
     "execution_count": 21,
     "metadata": {},
     "output_type": "execute_result"
    }
   ],
   "source": [
    "# fraction of possible shuffles seens so far\n",
    "189734400000000000000 / 80658175170943878571660636856403766975289505440883277824000000000000"
   ]
  },
  {
   "cell_type": "code",
   "execution_count": 22,
   "id": "killing-madonna",
   "metadata": {},
   "outputs": [
    {
     "name": "stdout",
     "output_type": "stream",
     "text": [
      "2.3523269600122258e-48\n"
     ]
    }
   ],
   "source": [
    ".0000000000...00000000235"
   ]
  },
  {
   "cell_type": "code",
   "execution_count": 23,
   "id": "expected-father",
   "metadata": {},
   "outputs": [],
   "source": [
    "a, b, o, p = 'b', 'a', 'p', 'o'"
   ]
  },
  {
   "cell_type": "code",
   "execution_count": 24,
   "id": "deadly-marijuana",
   "metadata": {},
   "outputs": [
    {
     "data": {
      "text/plain": [
       "'pop'"
      ]
     },
     "execution_count": 24,
     "metadata": {},
     "output_type": "execute_result"
    }
   ],
   "source": [
    "o + p + o"
   ]
  },
  {
   "cell_type": "code",
   "execution_count": 25,
   "id": "criminal-google",
   "metadata": {},
   "outputs": [
    {
     "data": {
      "text/plain": [
       "'bbba'"
      ]
     },
     "execution_count": 25,
     "metadata": {},
     "output_type": "execute_result"
    }
   ],
   "source": [
    "a * 3 + b"
   ]
  },
  {
   "cell_type": "code",
   "execution_count": 26,
   "id": "opponent-adult",
   "metadata": {},
   "outputs": [
    {
     "data": {
      "text/plain": [
       "'bookkeeper'"
      ]
     },
     "execution_count": 26,
     "metadata": {},
     "output_type": "execute_result"
    }
   ],
   "source": [
    "a + p * 2 + 'k' * 2 + 'e' * 2 + o + 'er'"
   ]
  },
  {
   "cell_type": "code",
   "execution_count": 27,
   "id": "portuguese-batman",
   "metadata": {},
   "outputs": [],
   "source": [
    "cost = '€300'"
   ]
  },
  {
   "cell_type": "code",
   "execution_count": 28,
   "id": "exterior-protection",
   "metadata": {},
   "outputs": [
    {
     "data": {
      "text/plain": [
       "'€300'"
      ]
     },
     "execution_count": 28,
     "metadata": {},
     "output_type": "execute_result"
    }
   ],
   "source": [
    "cost"
   ]
  },
  {
   "cell_type": "code",
   "execution_count": 29,
   "id": "bulgarian-omega",
   "metadata": {},
   "outputs": [],
   "source": [
    "name = 'Foobar Café'"
   ]
  },
  {
   "cell_type": "code",
   "execution_count": 30,
   "id": "outside-assembly",
   "metadata": {},
   "outputs": [
    {
     "data": {
      "text/plain": [
       "'Foobar Café'"
      ]
     },
     "execution_count": 30,
     "metadata": {},
     "output_type": "execute_result"
    }
   ],
   "source": [
    "name"
   ]
  },
  {
   "cell_type": "code",
   "execution_count": 31,
   "id": "daily-conservation",
   "metadata": {},
   "outputs": [
    {
     "data": {
      "text/plain": [
       "11"
      ]
     },
     "execution_count": 31,
     "metadata": {},
     "output_type": "execute_result"
    }
   ],
   "source": [
    "len(name)"
   ]
  },
  {
   "cell_type": "code",
   "execution_count": 32,
   "id": "suited-wisconsin",
   "metadata": {},
   "outputs": [
    {
     "data": {
      "text/plain": [
       "4"
      ]
     },
     "execution_count": 32,
     "metadata": {},
     "output_type": "execute_result"
    }
   ],
   "source": [
    "len(cost)"
   ]
  },
  {
   "cell_type": "code",
   "execution_count": 33,
   "id": "violent-polymer",
   "metadata": {},
   "outputs": [
    {
     "data": {
      "text/plain": [
       "2"
      ]
     },
     "execution_count": 33,
     "metadata": {},
     "output_type": "execute_result"
    }
   ],
   "source": [
    "len('hi')"
   ]
  },
  {
   "cell_type": "code",
   "execution_count": 34,
   "id": "adjustable-cathedral",
   "metadata": {},
   "outputs": [
    {
     "ename": "TypeError",
     "evalue": "object of type 'int' has no len()",
     "output_type": "error",
     "traceback": [
      "\u001b[0;31m---------------------------------------------------------------------------\u001b[0m",
      "\u001b[0;31mTypeError\u001b[0m                                 Traceback (most recent call last)",
      "\u001b[0;32m<ipython-input-34-00d7b5c8c880>\u001b[0m in \u001b[0;36m<module>\u001b[0;34m\u001b[0m\n\u001b[0;32m----> 1\u001b[0;31m \u001b[0mlen\u001b[0m\u001b[0;34m(\u001b[0m\u001b[0;36m4\u001b[0m\u001b[0;34m)\u001b[0m\u001b[0;34m\u001b[0m\u001b[0;34m\u001b[0m\u001b[0m\n\u001b[0m",
      "\u001b[0;31mTypeError\u001b[0m: object of type 'int' has no len()"
     ]
    }
   ],
   "source": [
    "len(4)"
   ]
  },
  {
   "cell_type": "code",
   "execution_count": 35,
   "id": "olympic-wednesday",
   "metadata": {},
   "outputs": [],
   "source": [
    "import random   "
   ]
  },
  {
   "cell_type": "code",
   "execution_count": 36,
   "id": "accepted-conflict",
   "metadata": {},
   "outputs": [
    {
     "data": {
      "text/plain": [
       "140198066993872"
      ]
     },
     "execution_count": 36,
     "metadata": {},
     "output_type": "execute_result"
    }
   ],
   "source": [
    "id(random)"
   ]
  },
  {
   "cell_type": "code",
   "execution_count": 37,
   "id": "graphic-impact",
   "metadata": {},
   "outputs": [
    {
     "data": {
      "text/plain": [
       "['BPF',\n",
       " 'LOG4',\n",
       " 'NV_MAGICCONST',\n",
       " 'RECIP_BPF',\n",
       " 'Random',\n",
       " 'SG_MAGICCONST',\n",
       " 'SystemRandom',\n",
       " 'TWOPI',\n",
       " '_BuiltinMethodType',\n",
       " '_MethodType',\n",
       " '_Sequence',\n",
       " '_Set',\n",
       " '__all__',\n",
       " '__builtins__',\n",
       " '__cached__',\n",
       " '__doc__',\n",
       " '__file__',\n",
       " '__loader__',\n",
       " '__name__',\n",
       " '__package__',\n",
       " '__spec__',\n",
       " '_acos',\n",
       " '_bisect',\n",
       " '_ceil',\n",
       " '_cos',\n",
       " '_e',\n",
       " '_exp',\n",
       " '_inst',\n",
       " '_itertools',\n",
       " '_log',\n",
       " '_os',\n",
       " '_pi',\n",
       " '_random',\n",
       " '_sha512',\n",
       " '_sin',\n",
       " '_sqrt',\n",
       " '_test',\n",
       " '_test_generator',\n",
       " '_urandom',\n",
       " '_warn',\n",
       " 'betavariate',\n",
       " 'choice',\n",
       " 'choices',\n",
       " 'expovariate',\n",
       " 'gammavariate',\n",
       " 'gauss',\n",
       " 'getrandbits',\n",
       " 'getstate',\n",
       " 'lognormvariate',\n",
       " 'normalvariate',\n",
       " 'paretovariate',\n",
       " 'randint',\n",
       " 'random',\n",
       " 'randrange',\n",
       " 'sample',\n",
       " 'seed',\n",
       " 'setstate',\n",
       " 'shuffle',\n",
       " 'triangular',\n",
       " 'uniform',\n",
       " 'vonmisesvariate',\n",
       " 'weibullvariate']"
      ]
     },
     "execution_count": 37,
     "metadata": {},
     "output_type": "execute_result"
    }
   ],
   "source": [
    "dir(random)"
   ]
  },
  {
   "cell_type": "code",
   "execution_count": 38,
   "id": "revolutionary-helen",
   "metadata": {},
   "outputs": [
    {
     "name": "stdout",
     "output_type": "stream",
     "text": [
      "Help on module random:\n",
      "\n",
      "NAME\n",
      "    random - Random variable generators.\n",
      "\n",
      "MODULE REFERENCE\n",
      "    https://docs.python.org/3.7/library/random\n",
      "    \n",
      "    The following documentation is automatically generated from the Python\n",
      "    source files.  It may be incomplete, incorrect or include features that\n",
      "    are considered implementation detail and may vary between Python\n",
      "    implementations.  When in doubt, consult the module reference at the\n",
      "    location listed above.\n",
      "\n",
      "DESCRIPTION\n",
      "        integers\n",
      "        --------\n",
      "               uniform within range\n",
      "    \n",
      "        sequences\n",
      "        ---------\n",
      "               pick random element\n",
      "               pick random sample\n",
      "               pick weighted random sample\n",
      "               generate random permutation\n",
      "    \n",
      "        distributions on the real line:\n",
      "        ------------------------------\n",
      "               uniform\n",
      "               triangular\n",
      "               normal (Gaussian)\n",
      "               lognormal\n",
      "               negative exponential\n",
      "               gamma\n",
      "               beta\n",
      "               pareto\n",
      "               Weibull\n",
      "    \n",
      "        distributions on the circle (angles 0 to 2pi)\n",
      "        ---------------------------------------------\n",
      "               circular uniform\n",
      "               von Mises\n",
      "    \n",
      "    General notes on the underlying Mersenne Twister core generator:\n",
      "    \n",
      "    * The period is 2**19937-1.\n",
      "    * It is one of the most extensively tested generators in existence.\n",
      "    * The random() method is implemented in C, executes in a single Python step,\n",
      "      and is, therefore, threadsafe.\n",
      "\n",
      "CLASSES\n",
      "    _random.Random(builtins.object)\n",
      "        Random\n",
      "            SystemRandom\n",
      "    \n",
      "    class Random(_random.Random)\n",
      "     |  Random(x=None)\n",
      "     |  \n",
      "     |  Random number generator base class used by bound module functions.\n",
      "     |  \n",
      "     |  Used to instantiate instances of Random to get generators that don't\n",
      "     |  share state.\n",
      "     |  \n",
      "     |  Class Random can also be subclassed if you want to use a different basic\n",
      "     |  generator of your own devising: in that case, override the following\n",
      "     |  methods:  random(), seed(), getstate(), and setstate().\n",
      "     |  Optionally, implement a getrandbits() method so that randrange()\n",
      "     |  can cover arbitrarily large ranges.\n",
      "     |  \n",
      "     |  Method resolution order:\n",
      "     |      Random\n",
      "     |      _random.Random\n",
      "     |      builtins.object\n",
      "     |  \n",
      "     |  Methods defined here:\n",
      "     |  \n",
      "     |  __getstate__(self)\n",
      "     |      # Issue 17489: Since __reduce__ was defined to fix #759889 this is no\n",
      "     |      # longer called; we leave it here because it has been here since random was\n",
      "     |      # rewritten back in 2001 and why risk breaking something.\n",
      "     |  \n",
      "     |  __init__(self, x=None)\n",
      "     |      Initialize an instance.\n",
      "     |      \n",
      "     |      Optional argument x controls seeding, as for Random.seed().\n",
      "     |  \n",
      "     |  __reduce__(self)\n",
      "     |      Helper for pickle.\n",
      "     |  \n",
      "     |  __setstate__(self, state)\n",
      "     |  \n",
      "     |  betavariate(self, alpha, beta)\n",
      "     |      Beta distribution.\n",
      "     |      \n",
      "     |      Conditions on the parameters are alpha > 0 and beta > 0.\n",
      "     |      Returned values range between 0 and 1.\n",
      "     |  \n",
      "     |  choice(self, seq)\n",
      "     |      Choose a random element from a non-empty sequence.\n",
      "     |  \n",
      "     |  choices(self, population, weights=None, *, cum_weights=None, k=1)\n",
      "     |      Return a k sized list of population elements chosen with replacement.\n",
      "     |      \n",
      "     |      If the relative weights or cumulative weights are not specified,\n",
      "     |      the selections are made with equal probability.\n",
      "     |  \n",
      "     |  expovariate(self, lambd)\n",
      "     |      Exponential distribution.\n",
      "     |      \n",
      "     |      lambd is 1.0 divided by the desired mean.  It should be\n",
      "     |      nonzero.  (The parameter would be called \"lambda\", but that is\n",
      "     |      a reserved word in Python.)  Returned values range from 0 to\n",
      "     |      positive infinity if lambd is positive, and from negative\n",
      "     |      infinity to 0 if lambd is negative.\n",
      "     |  \n",
      "     |  gammavariate(self, alpha, beta)\n",
      "     |      Gamma distribution.  Not the gamma function!\n",
      "     |      \n",
      "     |      Conditions on the parameters are alpha > 0 and beta > 0.\n",
      "     |      \n",
      "     |      The probability distribution function is:\n",
      "     |      \n",
      "     |                  x ** (alpha - 1) * math.exp(-x / beta)\n",
      "     |        pdf(x) =  --------------------------------------\n",
      "     |                    math.gamma(alpha) * beta ** alpha\n",
      "     |  \n",
      "     |  gauss(self, mu, sigma)\n",
      "     |      Gaussian distribution.\n",
      "     |      \n",
      "     |      mu is the mean, and sigma is the standard deviation.  This is\n",
      "     |      slightly faster than the normalvariate() function.\n",
      "     |      \n",
      "     |      Not thread-safe without a lock around calls.\n",
      "     |  \n",
      "     |  getstate(self)\n",
      "     |      Return internal state; can be passed to setstate() later.\n",
      "     |  \n",
      "     |  lognormvariate(self, mu, sigma)\n",
      "     |      Log normal distribution.\n",
      "     |      \n",
      "     |      If you take the natural logarithm of this distribution, you'll get a\n",
      "     |      normal distribution with mean mu and standard deviation sigma.\n",
      "     |      mu can have any value, and sigma must be greater than zero.\n",
      "     |  \n",
      "     |  normalvariate(self, mu, sigma)\n",
      "     |      Normal distribution.\n",
      "     |      \n",
      "     |      mu is the mean, and sigma is the standard deviation.\n",
      "     |  \n",
      "     |  paretovariate(self, alpha)\n",
      "     |      Pareto distribution.  alpha is the shape parameter.\n",
      "     |  \n",
      "     |  randint(self, a, b)\n",
      "     |      Return random integer in range [a, b], including both end points.\n",
      "     |  \n",
      "     |  randrange(self, start, stop=None, step=1, _int=<class 'int'>)\n",
      "     |      Choose a random item from range(start, stop[, step]).\n",
      "     |      \n",
      "     |      This fixes the problem with randint() which includes the\n",
      "     |      endpoint; in Python this is usually not what you want.\n",
      "     |  \n",
      "     |  sample(self, population, k)\n",
      "     |      Chooses k unique random elements from a population sequence or set.\n",
      "     |      \n",
      "     |      Returns a new list containing elements from the population while\n",
      "     |      leaving the original population unchanged.  The resulting list is\n",
      "     |      in selection order so that all sub-slices will also be valid random\n",
      "     |      samples.  This allows raffle winners (the sample) to be partitioned\n",
      "     |      into grand prize and second place winners (the subslices).\n",
      "     |      \n",
      "     |      Members of the population need not be hashable or unique.  If the\n",
      "     |      population contains repeats, then each occurrence is a possible\n",
      "     |      selection in the sample.\n",
      "     |      \n",
      "     |      To choose a sample in a range of integers, use range as an argument.\n",
      "     |      This is especially fast and space efficient for sampling from a\n",
      "     |      large population:   sample(range(10000000), 60)\n",
      "     |  \n",
      "     |  seed(self, a=None, version=2)\n",
      "     |      Initialize internal state from hashable object.\n",
      "     |      \n",
      "     |      None or no argument seeds from current time or from an operating\n",
      "     |      system specific randomness source if available.\n",
      "     |      \n",
      "     |      If *a* is an int, all bits are used.\n",
      "     |      \n",
      "     |      For version 2 (the default), all of the bits are used if *a* is a str,\n",
      "     |      bytes, or bytearray.  For version 1 (provided for reproducing random\n",
      "     |      sequences from older versions of Python), the algorithm for str and\n",
      "     |      bytes generates a narrower range of seeds.\n",
      "     |  \n",
      "     |  setstate(self, state)\n",
      "     |      Restore internal state from object returned by getstate().\n",
      "     |  \n",
      "     |  shuffle(self, x, random=None)\n",
      "     |      Shuffle list x in place, and return None.\n",
      "     |      \n",
      "     |      Optional argument random is a 0-argument function returning a\n",
      "     |      random float in [0.0, 1.0); if it is the default None, the\n",
      "     |      standard random.random will be used.\n",
      "     |  \n",
      "     |  triangular(self, low=0.0, high=1.0, mode=None)\n",
      "     |      Triangular distribution.\n",
      "     |      \n",
      "     |      Continuous distribution bounded by given lower and upper limits,\n",
      "     |      and having a given mode value in-between.\n",
      "     |      \n",
      "     |      http://en.wikipedia.org/wiki/Triangular_distribution\n",
      "     |  \n",
      "     |  uniform(self, a, b)\n",
      "     |      Get a random number in the range [a, b) or [a, b] depending on rounding.\n",
      "     |  \n",
      "     |  vonmisesvariate(self, mu, kappa)\n",
      "     |      Circular data distribution.\n",
      "     |      \n",
      "     |      mu is the mean angle, expressed in radians between 0 and 2*pi, and\n",
      "     |      kappa is the concentration parameter, which must be greater than or\n",
      "     |      equal to zero.  If kappa is equal to zero, this distribution reduces\n",
      "     |      to a uniform random angle over the range 0 to 2*pi.\n",
      "     |  \n",
      "     |  weibullvariate(self, alpha, beta)\n",
      "     |      Weibull distribution.\n",
      "     |      \n",
      "     |      alpha is the scale parameter and beta is the shape parameter.\n",
      "     |  \n",
      "     |  ----------------------------------------------------------------------\n",
      "     |  Data descriptors defined here:\n",
      "     |  \n",
      "     |  __dict__\n",
      "     |      dictionary for instance variables (if defined)\n",
      "     |  \n",
      "     |  __weakref__\n",
      "     |      list of weak references to the object (if defined)\n",
      "     |  \n",
      "     |  ----------------------------------------------------------------------\n",
      "     |  Data and other attributes defined here:\n",
      "     |  \n",
      "     |  VERSION = 3\n",
      "     |  \n",
      "     |  ----------------------------------------------------------------------\n",
      "     |  Methods inherited from _random.Random:\n",
      "     |  \n",
      "     |  __getattribute__(self, name, /)\n",
      "     |      Return getattr(self, name).\n",
      "     |  \n",
      "     |  getrandbits(...)\n",
      "     |      getrandbits(k) -> x.  Generates an int with k random bits.\n",
      "     |  \n",
      "     |  random(...)\n",
      "     |      random() -> x in the interval [0, 1).\n",
      "     |  \n",
      "     |  ----------------------------------------------------------------------\n",
      "     |  Static methods inherited from _random.Random:\n",
      "     |  \n",
      "     |  __new__(*args, **kwargs) from builtins.type\n",
      "     |      Create and return a new object.  See help(type) for accurate signature.\n",
      "    \n",
      "    class SystemRandom(Random)\n",
      "     |  SystemRandom(x=None)\n",
      "     |  \n",
      "     |  Alternate random number generator using sources provided\n",
      "     |  by the operating system (such as /dev/urandom on Unix or\n",
      "     |  CryptGenRandom on Windows).\n",
      "     |  \n",
      "     |   Not available on all systems (see os.urandom() for details).\n",
      "     |  \n",
      "     |  Method resolution order:\n",
      "     |      SystemRandom\n",
      "     |      Random\n",
      "     |      _random.Random\n",
      "     |      builtins.object\n",
      "     |  \n",
      "     |  Methods defined here:\n",
      "     |  \n",
      "     |  getrandbits(self, k)\n",
      "     |      getrandbits(k) -> x.  Generates an int with k random bits.\n",
      "     |  \n",
      "     |  getstate = _notimplemented(self, *args, **kwds)\n",
      "     |  \n",
      "     |  random(self)\n",
      "     |      Get the next random number in the range [0.0, 1.0).\n",
      "     |  \n",
      "     |  seed(self, *args, **kwds)\n",
      "     |      Stub method.  Not used for a system random number generator.\n",
      "     |  \n",
      "     |  setstate = _notimplemented(self, *args, **kwds)\n",
      "     |  \n",
      "     |  ----------------------------------------------------------------------\n",
      "     |  Methods inherited from Random:\n",
      "     |  \n",
      "     |  __getstate__(self)\n",
      "     |      # Issue 17489: Since __reduce__ was defined to fix #759889 this is no\n",
      "     |      # longer called; we leave it here because it has been here since random was\n",
      "     |      # rewritten back in 2001 and why risk breaking something.\n",
      "     |  \n",
      "     |  __init__(self, x=None)\n",
      "     |      Initialize an instance.\n",
      "     |      \n",
      "     |      Optional argument x controls seeding, as for Random.seed().\n",
      "     |  \n",
      "     |  __reduce__(self)\n",
      "     |      Helper for pickle.\n",
      "     |  \n",
      "     |  __setstate__(self, state)\n",
      "     |  \n",
      "     |  betavariate(self, alpha, beta)\n",
      "     |      Beta distribution.\n",
      "     |      \n",
      "     |      Conditions on the parameters are alpha > 0 and beta > 0.\n",
      "     |      Returned values range between 0 and 1.\n",
      "     |  \n",
      "     |  choice(self, seq)\n",
      "     |      Choose a random element from a non-empty sequence.\n",
      "     |  \n",
      "     |  choices(self, population, weights=None, *, cum_weights=None, k=1)\n",
      "     |      Return a k sized list of population elements chosen with replacement.\n",
      "     |      \n",
      "     |      If the relative weights or cumulative weights are not specified,\n",
      "     |      the selections are made with equal probability.\n",
      "     |  \n",
      "     |  expovariate(self, lambd)\n",
      "     |      Exponential distribution.\n",
      "     |      \n",
      "     |      lambd is 1.0 divided by the desired mean.  It should be\n",
      "     |      nonzero.  (The parameter would be called \"lambda\", but that is\n",
      "     |      a reserved word in Python.)  Returned values range from 0 to\n",
      "     |      positive infinity if lambd is positive, and from negative\n",
      "     |      infinity to 0 if lambd is negative.\n",
      "     |  \n",
      "     |  gammavariate(self, alpha, beta)\n",
      "     |      Gamma distribution.  Not the gamma function!\n",
      "     |      \n",
      "     |      Conditions on the parameters are alpha > 0 and beta > 0.\n",
      "     |      \n",
      "     |      The probability distribution function is:\n",
      "     |      \n",
      "     |                  x ** (alpha - 1) * math.exp(-x / beta)\n",
      "     |        pdf(x) =  --------------------------------------\n",
      "     |                    math.gamma(alpha) * beta ** alpha\n",
      "     |  \n",
      "     |  gauss(self, mu, sigma)\n",
      "     |      Gaussian distribution.\n",
      "     |      \n",
      "     |      mu is the mean, and sigma is the standard deviation.  This is\n",
      "     |      slightly faster than the normalvariate() function.\n",
      "     |      \n",
      "     |      Not thread-safe without a lock around calls.\n",
      "     |  \n",
      "     |  lognormvariate(self, mu, sigma)\n",
      "     |      Log normal distribution.\n",
      "     |      \n",
      "     |      If you take the natural logarithm of this distribution, you'll get a\n",
      "     |      normal distribution with mean mu and standard deviation sigma.\n",
      "     |      mu can have any value, and sigma must be greater than zero.\n",
      "     |  \n",
      "     |  normalvariate(self, mu, sigma)\n",
      "     |      Normal distribution.\n",
      "     |      \n",
      "     |      mu is the mean, and sigma is the standard deviation.\n",
      "     |  \n",
      "     |  paretovariate(self, alpha)\n",
      "     |      Pareto distribution.  alpha is the shape parameter.\n",
      "     |  \n",
      "     |  randint(self, a, b)\n",
      "     |      Return random integer in range [a, b], including both end points.\n",
      "     |  \n",
      "     |  randrange(self, start, stop=None, step=1, _int=<class 'int'>)\n",
      "     |      Choose a random item from range(start, stop[, step]).\n",
      "     |      \n",
      "     |      This fixes the problem with randint() which includes the\n",
      "     |      endpoint; in Python this is usually not what you want.\n",
      "     |  \n",
      "     |  sample(self, population, k)\n",
      "     |      Chooses k unique random elements from a population sequence or set.\n",
      "     |      \n",
      "     |      Returns a new list containing elements from the population while\n",
      "     |      leaving the original population unchanged.  The resulting list is\n",
      "     |      in selection order so that all sub-slices will also be valid random\n",
      "     |      samples.  This allows raffle winners (the sample) to be partitioned\n",
      "     |      into grand prize and second place winners (the subslices).\n",
      "     |      \n",
      "     |      Members of the population need not be hashable or unique.  If the\n",
      "     |      population contains repeats, then each occurrence is a possible\n",
      "     |      selection in the sample.\n",
      "     |      \n",
      "     |      To choose a sample in a range of integers, use range as an argument.\n",
      "     |      This is especially fast and space efficient for sampling from a\n",
      "     |      large population:   sample(range(10000000), 60)\n",
      "     |  \n",
      "     |  shuffle(self, x, random=None)\n",
      "     |      Shuffle list x in place, and return None.\n",
      "     |      \n",
      "     |      Optional argument random is a 0-argument function returning a\n",
      "     |      random float in [0.0, 1.0); if it is the default None, the\n",
      "     |      standard random.random will be used.\n",
      "     |  \n",
      "     |  triangular(self, low=0.0, high=1.0, mode=None)\n",
      "     |      Triangular distribution.\n",
      "     |      \n",
      "     |      Continuous distribution bounded by given lower and upper limits,\n",
      "     |      and having a given mode value in-between.\n",
      "     |      \n",
      "     |      http://en.wikipedia.org/wiki/Triangular_distribution\n",
      "     |  \n",
      "     |  uniform(self, a, b)\n",
      "     |      Get a random number in the range [a, b) or [a, b] depending on rounding.\n",
      "     |  \n",
      "     |  vonmisesvariate(self, mu, kappa)\n",
      "     |      Circular data distribution.\n",
      "     |      \n",
      "     |      mu is the mean angle, expressed in radians between 0 and 2*pi, and\n",
      "     |      kappa is the concentration parameter, which must be greater than or\n",
      "     |      equal to zero.  If kappa is equal to zero, this distribution reduces\n",
      "     |      to a uniform random angle over the range 0 to 2*pi.\n",
      "     |  \n",
      "     |  weibullvariate(self, alpha, beta)\n",
      "     |      Weibull distribution.\n",
      "     |      \n",
      "     |      alpha is the scale parameter and beta is the shape parameter.\n",
      "     |  \n",
      "     |  ----------------------------------------------------------------------\n",
      "     |  Data descriptors inherited from Random:\n",
      "     |  \n",
      "     |  __dict__\n",
      "     |      dictionary for instance variables (if defined)\n",
      "     |  \n",
      "     |  __weakref__\n",
      "     |      list of weak references to the object (if defined)\n",
      "     |  \n",
      "     |  ----------------------------------------------------------------------\n",
      "     |  Data and other attributes inherited from Random:\n",
      "     |  \n",
      "     |  VERSION = 3\n",
      "     |  \n",
      "     |  ----------------------------------------------------------------------\n",
      "     |  Methods inherited from _random.Random:\n",
      "     |  \n",
      "     |  __getattribute__(self, name, /)\n",
      "     |      Return getattr(self, name).\n",
      "     |  \n",
      "     |  ----------------------------------------------------------------------\n",
      "     |  Static methods inherited from _random.Random:\n",
      "     |  \n",
      "     |  __new__(*args, **kwargs) from builtins.type\n",
      "     |      Create and return a new object.  See help(type) for accurate signature.\n",
      "\n",
      "FUNCTIONS\n",
      "    betavariate(alpha, beta) method of Random instance\n",
      "        Beta distribution.\n",
      "        \n",
      "        Conditions on the parameters are alpha > 0 and beta > 0.\n",
      "        Returned values range between 0 and 1.\n",
      "    \n",
      "    choice(seq) method of Random instance\n",
      "        Choose a random element from a non-empty sequence.\n",
      "    \n",
      "    choices(population, weights=None, *, cum_weights=None, k=1) method of Random instance\n",
      "        Return a k sized list of population elements chosen with replacement.\n",
      "        \n",
      "        If the relative weights or cumulative weights are not specified,\n",
      "        the selections are made with equal probability.\n",
      "    \n",
      "    expovariate(lambd) method of Random instance\n",
      "        Exponential distribution.\n",
      "        \n",
      "        lambd is 1.0 divided by the desired mean.  It should be\n",
      "        nonzero.  (The parameter would be called \"lambda\", but that is\n",
      "        a reserved word in Python.)  Returned values range from 0 to\n",
      "        positive infinity if lambd is positive, and from negative\n",
      "        infinity to 0 if lambd is negative.\n",
      "    \n",
      "    gammavariate(alpha, beta) method of Random instance\n",
      "        Gamma distribution.  Not the gamma function!\n",
      "        \n",
      "        Conditions on the parameters are alpha > 0 and beta > 0.\n",
      "        \n",
      "        The probability distribution function is:\n",
      "        \n",
      "                    x ** (alpha - 1) * math.exp(-x / beta)\n",
      "          pdf(x) =  --------------------------------------\n",
      "                      math.gamma(alpha) * beta ** alpha\n",
      "    \n",
      "    gauss(mu, sigma) method of Random instance\n",
      "        Gaussian distribution.\n",
      "        \n",
      "        mu is the mean, and sigma is the standard deviation.  This is\n",
      "        slightly faster than the normalvariate() function.\n",
      "        \n",
      "        Not thread-safe without a lock around calls.\n",
      "    \n",
      "    getrandbits(...) method of Random instance\n",
      "        getrandbits(k) -> x.  Generates an int with k random bits.\n",
      "    \n",
      "    getstate() method of Random instance\n",
      "        Return internal state; can be passed to setstate() later.\n",
      "    \n",
      "    lognormvariate(mu, sigma) method of Random instance\n",
      "        Log normal distribution.\n",
      "        \n",
      "        If you take the natural logarithm of this distribution, you'll get a\n",
      "        normal distribution with mean mu and standard deviation sigma.\n",
      "        mu can have any value, and sigma must be greater than zero.\n",
      "    \n",
      "    normalvariate(mu, sigma) method of Random instance\n",
      "        Normal distribution.\n",
      "        \n",
      "        mu is the mean, and sigma is the standard deviation.\n",
      "    \n",
      "    paretovariate(alpha) method of Random instance\n",
      "        Pareto distribution.  alpha is the shape parameter.\n",
      "    \n",
      "    randint(a, b) method of Random instance\n",
      "        Return random integer in range [a, b], including both end points.\n",
      "    \n",
      "    random(...) method of Random instance\n",
      "        random() -> x in the interval [0, 1).\n",
      "    \n",
      "    randrange(start, stop=None, step=1, _int=<class 'int'>) method of Random instance\n",
      "        Choose a random item from range(start, stop[, step]).\n",
      "        \n",
      "        This fixes the problem with randint() which includes the\n",
      "        endpoint; in Python this is usually not what you want.\n",
      "    \n",
      "    sample(population, k) method of Random instance\n",
      "        Chooses k unique random elements from a population sequence or set.\n",
      "        \n",
      "        Returns a new list containing elements from the population while\n",
      "        leaving the original population unchanged.  The resulting list is\n",
      "        in selection order so that all sub-slices will also be valid random\n",
      "        samples.  This allows raffle winners (the sample) to be partitioned\n",
      "        into grand prize and second place winners (the subslices).\n",
      "        \n",
      "        Members of the population need not be hashable or unique.  If the\n",
      "        population contains repeats, then each occurrence is a possible\n",
      "        selection in the sample.\n",
      "        \n",
      "        To choose a sample in a range of integers, use range as an argument.\n",
      "        This is especially fast and space efficient for sampling from a\n",
      "        large population:   sample(range(10000000), 60)\n",
      "    \n",
      "    seed(a=None, version=2) method of Random instance\n",
      "        Initialize internal state from hashable object.\n",
      "        \n",
      "        None or no argument seeds from current time or from an operating\n",
      "        system specific randomness source if available.\n",
      "        \n",
      "        If *a* is an int, all bits are used.\n",
      "        \n",
      "        For version 2 (the default), all of the bits are used if *a* is a str,\n",
      "        bytes, or bytearray.  For version 1 (provided for reproducing random\n",
      "        sequences from older versions of Python), the algorithm for str and\n",
      "        bytes generates a narrower range of seeds.\n",
      "    \n",
      "    setstate(state) method of Random instance\n",
      "        Restore internal state from object returned by getstate().\n",
      "    \n",
      "    shuffle(x, random=None) method of Random instance\n",
      "        Shuffle list x in place, and return None.\n",
      "        \n",
      "        Optional argument random is a 0-argument function returning a\n",
      "        random float in [0.0, 1.0); if it is the default None, the\n",
      "        standard random.random will be used.\n",
      "    \n",
      "    triangular(low=0.0, high=1.0, mode=None) method of Random instance\n",
      "        Triangular distribution.\n",
      "        \n",
      "        Continuous distribution bounded by given lower and upper limits,\n",
      "        and having a given mode value in-between.\n",
      "        \n",
      "        http://en.wikipedia.org/wiki/Triangular_distribution\n",
      "    \n",
      "    uniform(a, b) method of Random instance\n",
      "        Get a random number in the range [a, b) or [a, b] depending on rounding.\n",
      "    \n",
      "    vonmisesvariate(mu, kappa) method of Random instance\n",
      "        Circular data distribution.\n",
      "        \n",
      "        mu is the mean angle, expressed in radians between 0 and 2*pi, and\n",
      "        kappa is the concentration parameter, which must be greater than or\n",
      "        equal to zero.  If kappa is equal to zero, this distribution reduces\n",
      "        to a uniform random angle over the range 0 to 2*pi.\n",
      "    \n",
      "    weibullvariate(alpha, beta) method of Random instance\n",
      "        Weibull distribution.\n",
      "        \n",
      "        alpha is the scale parameter and beta is the shape parameter.\n",
      "\n",
      "DATA\n",
      "    __all__ = ['Random', 'seed', 'random', 'uniform', 'randint', 'choice',...\n",
      "\n",
      "FILE\n",
      "    /usr/local/lib/python3.7/random.py\n",
      "\n",
      "\n"
     ]
    }
   ],
   "source": [
    "help(random)"
   ]
  },
  {
   "cell_type": "code",
   "execution_count": 39,
   "id": "crazy-carol",
   "metadata": {},
   "outputs": [],
   "source": [
    "random?"
   ]
  },
  {
   "cell_type": "code",
   "execution_count": 40,
   "id": "perceived-salvation",
   "metadata": {},
   "outputs": [
    {
     "name": "stdout",
     "output_type": "stream",
     "text": [
      "Help on method randint in module random:\n",
      "\n",
      "randint(a, b) method of random.Random instance\n",
      "    Return random integer in range [a, b], including both end points.\n",
      "\n"
     ]
    }
   ],
   "source": [
    "help(random.randint)"
   ]
  },
  {
   "cell_type": "code",
   "execution_count": 42,
   "id": "lyric-nashville",
   "metadata": {},
   "outputs": [
    {
     "data": {
      "text/plain": [
       "93"
      ]
     },
     "execution_count": 42,
     "metadata": {},
     "output_type": "execute_result"
    }
   ],
   "source": [
    "random.randint(1, 100)"
   ]
  },
  {
   "cell_type": "code",
   "execution_count": 43,
   "id": "partial-fiction",
   "metadata": {},
   "outputs": [
    {
     "data": {
      "text/plain": [
       "['BPF',\n",
       " 'LOG4',\n",
       " 'NV_MAGICCONST',\n",
       " 'RECIP_BPF',\n",
       " 'Random',\n",
       " 'SG_MAGICCONST',\n",
       " 'SystemRandom',\n",
       " 'TWOPI',\n",
       " '_BuiltinMethodType',\n",
       " '_MethodType',\n",
       " '_Sequence',\n",
       " '_Set',\n",
       " '__all__',\n",
       " '__builtins__',\n",
       " '__cached__',\n",
       " '__doc__',\n",
       " '__file__',\n",
       " '__loader__',\n",
       " '__name__',\n",
       " '__package__',\n",
       " '__spec__',\n",
       " '_acos',\n",
       " '_bisect',\n",
       " '_ceil',\n",
       " '_cos',\n",
       " '_e',\n",
       " '_exp',\n",
       " '_inst',\n",
       " '_itertools',\n",
       " '_log',\n",
       " '_os',\n",
       " '_pi',\n",
       " '_random',\n",
       " '_sha512',\n",
       " '_sin',\n",
       " '_sqrt',\n",
       " '_test',\n",
       " '_test_generator',\n",
       " '_urandom',\n",
       " '_warn',\n",
       " 'betavariate',\n",
       " 'choice',\n",
       " 'choices',\n",
       " 'expovariate',\n",
       " 'gammavariate',\n",
       " 'gauss',\n",
       " 'getrandbits',\n",
       " 'getstate',\n",
       " 'lognormvariate',\n",
       " 'normalvariate',\n",
       " 'paretovariate',\n",
       " 'randint',\n",
       " 'random',\n",
       " 'randrange',\n",
       " 'sample',\n",
       " 'seed',\n",
       " 'setstate',\n",
       " 'shuffle',\n",
       " 'triangular',\n",
       " 'uniform',\n",
       " 'vonmisesvariate',\n",
       " 'weibullvariate']"
      ]
     },
     "execution_count": 43,
     "metadata": {},
     "output_type": "execute_result"
    }
   ],
   "source": [
    "dir(random)"
   ]
  },
  {
   "cell_type": "code",
   "execution_count": 44,
   "id": "continuing-village",
   "metadata": {},
   "outputs": [
    {
     "data": {
      "text/plain": [
       "['__doc__',\n",
       " '__file__',\n",
       " '__loader__',\n",
       " '__name__',\n",
       " '__package__',\n",
       " '__spec__',\n",
       " 'acos',\n",
       " 'acosh',\n",
       " 'asin',\n",
       " 'asinh',\n",
       " 'atan',\n",
       " 'atan2',\n",
       " 'atanh',\n",
       " 'ceil',\n",
       " 'copysign',\n",
       " 'cos',\n",
       " 'cosh',\n",
       " 'degrees',\n",
       " 'e',\n",
       " 'erf',\n",
       " 'erfc',\n",
       " 'exp',\n",
       " 'expm1',\n",
       " 'fabs',\n",
       " 'factorial',\n",
       " 'floor',\n",
       " 'fmod',\n",
       " 'frexp',\n",
       " 'fsum',\n",
       " 'gamma',\n",
       " 'gcd',\n",
       " 'hypot',\n",
       " 'inf',\n",
       " 'isclose',\n",
       " 'isfinite',\n",
       " 'isinf',\n",
       " 'isnan',\n",
       " 'ldexp',\n",
       " 'lgamma',\n",
       " 'log',\n",
       " 'log10',\n",
       " 'log1p',\n",
       " 'log2',\n",
       " 'modf',\n",
       " 'nan',\n",
       " 'pi',\n",
       " 'pow',\n",
       " 'radians',\n",
       " 'remainder',\n",
       " 'sin',\n",
       " 'sinh',\n",
       " 'sqrt',\n",
       " 'tan',\n",
       " 'tanh',\n",
       " 'tau',\n",
       " 'trunc']"
      ]
     },
     "execution_count": 44,
     "metadata": {},
     "output_type": "execute_result"
    }
   ],
   "source": [
    "import math\n",
    "dir(math)"
   ]
  },
  {
   "cell_type": "code",
   "execution_count": 45,
   "id": "bibliographic-server",
   "metadata": {},
   "outputs": [
    {
     "data": {
      "text/plain": [
       "3.141592653589793"
      ]
     },
     "execution_count": 45,
     "metadata": {},
     "output_type": "execute_result"
    }
   ],
   "source": [
    "math.pi"
   ]
  },
  {
   "cell_type": "code",
   "execution_count": 46,
   "id": "italian-portland",
   "metadata": {},
   "outputs": [
    {
     "data": {
      "text/plain": [
       "1.0"
      ]
     },
     "execution_count": 46,
     "metadata": {},
     "output_type": "execute_result"
    }
   ],
   "source": [
    "math.sin(math.pi / 2)"
   ]
  },
  {
   "cell_type": "code",
   "execution_count": 47,
   "id": "hearing-communist",
   "metadata": {},
   "outputs": [
    {
     "name": "stdout",
     "output_type": "stream",
     "text": [
      "Help on module math:\n",
      "\n",
      "NAME\n",
      "    math\n",
      "\n",
      "MODULE REFERENCE\n",
      "    https://docs.python.org/3.7/library/math\n",
      "    \n",
      "    The following documentation is automatically generated from the Python\n",
      "    source files.  It may be incomplete, incorrect or include features that\n",
      "    are considered implementation detail and may vary between Python\n",
      "    implementations.  When in doubt, consult the module reference at the\n",
      "    location listed above.\n",
      "\n",
      "DESCRIPTION\n",
      "    This module provides access to the mathematical functions\n",
      "    defined by the C standard.\n",
      "\n",
      "FUNCTIONS\n",
      "    acos(x, /)\n",
      "        Return the arc cosine (measured in radians) of x.\n",
      "    \n",
      "    acosh(x, /)\n",
      "        Return the inverse hyperbolic cosine of x.\n",
      "    \n",
      "    asin(x, /)\n",
      "        Return the arc sine (measured in radians) of x.\n",
      "    \n",
      "    asinh(x, /)\n",
      "        Return the inverse hyperbolic sine of x.\n",
      "    \n",
      "    atan(x, /)\n",
      "        Return the arc tangent (measured in radians) of x.\n",
      "    \n",
      "    atan2(y, x, /)\n",
      "        Return the arc tangent (measured in radians) of y/x.\n",
      "        \n",
      "        Unlike atan(y/x), the signs of both x and y are considered.\n",
      "    \n",
      "    atanh(x, /)\n",
      "        Return the inverse hyperbolic tangent of x.\n",
      "    \n",
      "    ceil(x, /)\n",
      "        Return the ceiling of x as an Integral.\n",
      "        \n",
      "        This is the smallest integer >= x.\n",
      "    \n",
      "    copysign(x, y, /)\n",
      "        Return a float with the magnitude (absolute value) of x but the sign of y.\n",
      "        \n",
      "        On platforms that support signed zeros, copysign(1.0, -0.0)\n",
      "        returns -1.0.\n",
      "    \n",
      "    cos(x, /)\n",
      "        Return the cosine of x (measured in radians).\n",
      "    \n",
      "    cosh(x, /)\n",
      "        Return the hyperbolic cosine of x.\n",
      "    \n",
      "    degrees(x, /)\n",
      "        Convert angle x from radians to degrees.\n",
      "    \n",
      "    erf(x, /)\n",
      "        Error function at x.\n",
      "    \n",
      "    erfc(x, /)\n",
      "        Complementary error function at x.\n",
      "    \n",
      "    exp(x, /)\n",
      "        Return e raised to the power of x.\n",
      "    \n",
      "    expm1(x, /)\n",
      "        Return exp(x)-1.\n",
      "        \n",
      "        This function avoids the loss of precision involved in the direct evaluation of exp(x)-1 for small x.\n",
      "    \n",
      "    fabs(x, /)\n",
      "        Return the absolute value of the float x.\n",
      "    \n",
      "    factorial(x, /)\n",
      "        Find x!.\n",
      "        \n",
      "        Raise a ValueError if x is negative or non-integral.\n",
      "    \n",
      "    floor(x, /)\n",
      "        Return the floor of x as an Integral.\n",
      "        \n",
      "        This is the largest integer <= x.\n",
      "    \n",
      "    fmod(x, y, /)\n",
      "        Return fmod(x, y), according to platform C.\n",
      "        \n",
      "        x % y may differ.\n",
      "    \n",
      "    frexp(x, /)\n",
      "        Return the mantissa and exponent of x, as pair (m, e).\n",
      "        \n",
      "        m is a float and e is an int, such that x = m * 2.**e.\n",
      "        If x is 0, m and e are both 0.  Else 0.5 <= abs(m) < 1.0.\n",
      "    \n",
      "    fsum(seq, /)\n",
      "        Return an accurate floating point sum of values in the iterable seq.\n",
      "        \n",
      "        Assumes IEEE-754 floating point arithmetic.\n",
      "    \n",
      "    gamma(x, /)\n",
      "        Gamma function at x.\n",
      "    \n",
      "    gcd(x, y, /)\n",
      "        greatest common divisor of x and y\n",
      "    \n",
      "    hypot(x, y, /)\n",
      "        Return the Euclidean distance, sqrt(x*x + y*y).\n",
      "    \n",
      "    isclose(a, b, *, rel_tol=1e-09, abs_tol=0.0)\n",
      "        Determine whether two floating point numbers are close in value.\n",
      "        \n",
      "          rel_tol\n",
      "            maximum difference for being considered \"close\", relative to the\n",
      "            magnitude of the input values\n",
      "          abs_tol\n",
      "            maximum difference for being considered \"close\", regardless of the\n",
      "            magnitude of the input values\n",
      "        \n",
      "        Return True if a is close in value to b, and False otherwise.\n",
      "        \n",
      "        For the values to be considered close, the difference between them\n",
      "        must be smaller than at least one of the tolerances.\n",
      "        \n",
      "        -inf, inf and NaN behave similarly to the IEEE 754 Standard.  That\n",
      "        is, NaN is not close to anything, even itself.  inf and -inf are\n",
      "        only close to themselves.\n",
      "    \n",
      "    isfinite(x, /)\n",
      "        Return True if x is neither an infinity nor a NaN, and False otherwise.\n",
      "    \n",
      "    isinf(x, /)\n",
      "        Return True if x is a positive or negative infinity, and False otherwise.\n",
      "    \n",
      "    isnan(x, /)\n",
      "        Return True if x is a NaN (not a number), and False otherwise.\n",
      "    \n",
      "    ldexp(x, i, /)\n",
      "        Return x * (2**i).\n",
      "        \n",
      "        This is essentially the inverse of frexp().\n",
      "    \n",
      "    lgamma(x, /)\n",
      "        Natural logarithm of absolute value of Gamma function at x.\n",
      "    \n",
      "    log(...)\n",
      "        log(x, [base=math.e])\n",
      "        Return the logarithm of x to the given base.\n",
      "        \n",
      "        If the base not specified, returns the natural logarithm (base e) of x.\n",
      "    \n",
      "    log10(x, /)\n",
      "        Return the base 10 logarithm of x.\n",
      "    \n",
      "    log1p(x, /)\n",
      "        Return the natural logarithm of 1+x (base e).\n",
      "        \n",
      "        The result is computed in a way which is accurate for x near zero.\n",
      "    \n",
      "    log2(x, /)\n",
      "        Return the base 2 logarithm of x.\n",
      "    \n",
      "    modf(x, /)\n",
      "        Return the fractional and integer parts of x.\n",
      "        \n",
      "        Both results carry the sign of x and are floats.\n",
      "    \n",
      "    pow(x, y, /)\n",
      "        Return x**y (x to the power of y).\n",
      "    \n",
      "    radians(x, /)\n",
      "        Convert angle x from degrees to radians.\n",
      "    \n",
      "    remainder(x, y, /)\n",
      "        Difference between x and the closest integer multiple of y.\n",
      "        \n",
      "        Return x - n*y where n*y is the closest integer multiple of y.\n",
      "        In the case where x is exactly halfway between two multiples of\n",
      "        y, the nearest even value of n is used. The result is always exact.\n",
      "    \n",
      "    sin(x, /)\n",
      "        Return the sine of x (measured in radians).\n",
      "    \n",
      "    sinh(x, /)\n",
      "        Return the hyperbolic sine of x.\n",
      "    \n",
      "    sqrt(x, /)\n",
      "        Return the square root of x.\n",
      "    \n",
      "    tan(x, /)\n",
      "        Return the tangent of x (measured in radians).\n",
      "    \n",
      "    tanh(x, /)\n",
      "        Return the hyperbolic tangent of x.\n",
      "    \n",
      "    trunc(x, /)\n",
      "        Truncates the Real x to the nearest Integral toward 0.\n",
      "        \n",
      "        Uses the __trunc__ magic method.\n",
      "\n",
      "DATA\n",
      "    e = 2.718281828459045\n",
      "    inf = inf\n",
      "    nan = nan\n",
      "    pi = 3.141592653589793\n",
      "    tau = 6.283185307179586\n",
      "\n",
      "FILE\n",
      "    /usr/local/lib/python3.7/lib-dynload/math.cpython-37m-x86_64-linux-gnu.so\n",
      "\n",
      "\n"
     ]
    }
   ],
   "source": [
    "help(math)"
   ]
  },
  {
   "cell_type": "code",
   "execution_count": 48,
   "id": "democratic-seeking",
   "metadata": {},
   "outputs": [
    {
     "data": {
      "text/plain": [
       "float"
      ]
     },
     "execution_count": 48,
     "metadata": {},
     "output_type": "execute_result"
    }
   ],
   "source": [
    "type(math.pi)"
   ]
  },
  {
   "cell_type": "code",
   "execution_count": 49,
   "id": "severe-kentucky",
   "metadata": {},
   "outputs": [
    {
     "data": {
      "text/plain": [
       "builtin_function_or_method"
      ]
     },
     "execution_count": 49,
     "metadata": {},
     "output_type": "execute_result"
    }
   ],
   "source": [
    "type(math.sin)"
   ]
  },
  {
   "cell_type": "markdown",
   "id": "western-length",
   "metadata": {},
   "source": [
    "## Quick Lab: Loops/Strings\n",
    "* have the user enter a string, then loop through the string to print (or generate) a new string in which every character is duplicated, e.g., \"Python\" => \"PPyytthhoonn\""
   ]
  },
  {
   "cell_type": "code",
   "execution_count": 50,
   "id": "canadian-paste",
   "metadata": {},
   "outputs": [
    {
     "name": "stdout",
     "output_type": "stream",
     "text": [
      "Enter a string: Python\n"
     ]
    }
   ],
   "source": [
    "string = input('Enter a string: ') # get a string from the user"
   ]
  },
  {
   "cell_type": "code",
   "execution_count": 51,
   "id": "strange-spice",
   "metadata": {},
   "outputs": [
    {
     "name": "stdout",
     "output_type": "stream",
     "text": [
      "PPyytthhoonn"
     ]
    }
   ],
   "source": [
    "# loop thru each letter\n",
    "for letter in string:\n",
    "    print(letter * 2, end='') # print each letter TWICE, end with '' so we don't go to the next line"
   ]
  },
  {
   "cell_type": "code",
   "execution_count": 52,
   "id": "focused-torture",
   "metadata": {},
   "outputs": [],
   "source": [
    "# or...\n",
    "    print(letter + letter, end='')\n",
    "    print(letter, letter, sep='', end='')"
   ]
  },
  {
   "cell_type": "code",
   "execution_count": 58,
   "id": "innovative-asset",
   "metadata": {},
   "outputs": [
    {
     "name": "stdout",
     "output_type": "stream",
     "text": [
      "PPyytthhoonn\n"
     ]
    }
   ],
   "source": [
    "new_string = ''\n",
    "\n",
    "for letter in string:\n",
    "    new_string += letter * 2\n",
    "    \n",
    "print(new_string)"
   ]
  },
  {
   "cell_type": "code",
   "execution_count": 60,
   "id": "noble-modern",
   "metadata": {},
   "outputs": [
    {
     "name": "stdout",
     "output_type": "stream",
     "text": [
      "\n"
     ]
    }
   ],
   "source": [
    "print()"
   ]
  },
  {
   "cell_type": "code",
   "execution_count": 63,
   "id": "supreme-taylor",
   "metadata": {},
   "outputs": [
    {
     "name": "stdout",
     "output_type": "stream",
     "text": [
      "1...2.5...3...4...5...False...six\n"
     ]
    }
   ],
   "source": [
    "print(1, 2.5, 3, 4, 5, False, 'six', sep='...')"
   ]
  },
  {
   "cell_type": "code",
   "execution_count": null,
   "id": "dominant-civilization",
   "metadata": {},
   "outputs": [],
   "source": []
  },
  {
   "cell_type": "markdown",
   "id": "olive-manor",
   "metadata": {},
   "source": [
    "## Lab: Loops\n",
    "* Loop through the numbers from 2 to 25 and print out which numbers are prime, and for those numbers which are not prime numbers, you should print them as a product of two factors\n",
    "* Remember that prime = no divisors other than 1 and itself\n",
    "* Don't worry about efficiency, but if you're interested, check out math.sqrt()\n",
    "* example output:\n",
    "<pre>\n",
    "2 is a prime number\n",
    "3 is a prime number\n",
    "4 equals 2 * 2\n",
    "5 is a prime number\n",
    "6 equals 2 * 3\n",
    "7 is a prime number\n",
    "8 equals 2 * 4\n",
    "9 equals 3 * 3\n",
    "10 equals 2 * 5\n",
    "11 is a prime number\n",
    "12 equals 2 * 6\n",
    "13 is a prime number\n",
    "14 equals 2 * 7\n",
    "15 equals 3 * 5\n",
    "16 equals 2 * 8\n",
    "17 is a prime number\n",
    "18 equals 2 * 9\n",
    "19 is a prime number\n",
    "20 equals 2 * 10\n",
    "21 equals 3 * 7\n",
    "22 equals 2 * 11\n",
    "23 is a prime number\n",
    "24 equals 2 * 12\n",
    "25 equals 5 * 5\n",
    "</pre>"
   ]
  },
  {
   "cell_type": "code",
   "execution_count": 64,
   "id": "exempt-credit",
   "metadata": {
    "scrolled": true
   },
   "outputs": [
    {
     "name": "stdout",
     "output_type": "stream",
     "text": [
      "2: \n",
      "3: 2 \n",
      "4: 2 3 \n",
      "5: 2 3 4 \n",
      "6: 2 3 4 5 \n",
      "7: 2 3 4 5 6 \n",
      "8: 2 3 4 5 6 7 \n",
      "9: 2 3 4 5 6 7 8 \n",
      "10: 2 3 4 5 6 7 8 9 \n",
      "11: 2 3 4 5 6 7 8 9 10 \n",
      "12: 2 3 4 5 6 7 8 9 10 11 \n",
      "13: 2 3 4 5 6 7 8 9 10 11 12 \n",
      "14: 2 3 4 5 6 7 8 9 10 11 12 13 \n",
      "15: 2 3 4 5 6 7 8 9 10 11 12 13 14 \n",
      "16: 2 3 4 5 6 7 8 9 10 11 12 13 14 15 \n",
      "17: 2 3 4 5 6 7 8 9 10 11 12 13 14 15 16 \n",
      "18: 2 3 4 5 6 7 8 9 10 11 12 13 14 15 16 17 \n",
      "19: 2 3 4 5 6 7 8 9 10 11 12 13 14 15 16 17 18 \n",
      "20: 2 3 4 5 6 7 8 9 10 11 12 13 14 15 16 17 18 19 \n",
      "21: 2 3 4 5 6 7 8 9 10 11 12 13 14 15 16 17 18 19 20 \n",
      "22: 2 3 4 5 6 7 8 9 10 11 12 13 14 15 16 17 18 19 20 21 \n",
      "23: 2 3 4 5 6 7 8 9 10 11 12 13 14 15 16 17 18 19 20 21 22 \n",
      "24: 2 3 4 5 6 7 8 9 10 11 12 13 14 15 16 17 18 19 20 21 22 23 \n",
      "25: 2 3 4 5 6 7 8 9 10 11 12 13 14 15 16 17 18 19 20 21 22 23 24 \n"
     ]
    }
   ],
   "source": [
    "# before we do the entire thing, let's ensure our logic is correct\n",
    "# that is, let's ensure we are checking the appropriate numbers...\n",
    "for num in range(2, 26): # loop from 2 to 25\n",
    "    print(num, end=': ')\n",
    "    for check in range(2, num): # check for divisors between 2 and num-1\n",
    "        print(check, end=' ') # for now, just print them out to see them\n",
    "    print() # go to next line..."
   ]
  },
  {
   "cell_type": "code",
   "execution_count": 68,
   "id": "gross-defensive",
   "metadata": {},
   "outputs": [
    {
     "name": "stdout",
     "output_type": "stream",
     "text": [
      "2 is a prime number\n",
      "3 is a prime number\n",
      "4 equals 2 * 2\n",
      "5 is a prime number\n",
      "6 equals 2 * 3\n",
      "7 is a prime number\n",
      "8 equals 2 * 4\n",
      "9 equals 3 * 3\n",
      "10 equals 2 * 5\n",
      "11 is a prime number\n",
      "12 equals 2 * 6\n",
      "13 is a prime number\n",
      "14 equals 2 * 7\n",
      "15 equals 3 * 5\n",
      "16 equals 2 * 8\n",
      "17 is a prime number\n",
      "18 equals 2 * 9\n",
      "19 is a prime number\n",
      "20 equals 2 * 10\n",
      "21 equals 3 * 7\n",
      "22 equals 2 * 11\n",
      "23 is a prime number\n",
      "24 equals 2 * 12\n",
      "25 equals 5 * 5\n",
      "26 equals 2 * 13\n",
      "27 equals 3 * 9\n",
      "28 equals 2 * 14\n",
      "29 is a prime number\n",
      "30 equals 2 * 15\n",
      "31 is a prime number\n",
      "32 equals 2 * 16\n",
      "33 equals 3 * 11\n",
      "34 equals 2 * 17\n",
      "35 equals 5 * 7\n",
      "36 equals 2 * 18\n",
      "37 is a prime number\n",
      "38 equals 2 * 19\n",
      "39 equals 3 * 13\n",
      "40 equals 2 * 20\n",
      "41 is a prime number\n",
      "42 equals 2 * 21\n",
      "43 is a prime number\n",
      "44 equals 2 * 22\n",
      "45 equals 3 * 15\n",
      "46 equals 2 * 23\n",
      "47 is a prime number\n",
      "48 equals 2 * 24\n",
      "49 equals 7 * 7\n",
      "50 equals 2 * 25\n",
      "51 equals 3 * 17\n",
      "52 equals 2 * 26\n",
      "53 is a prime number\n",
      "54 equals 2 * 27\n",
      "55 equals 5 * 11\n",
      "56 equals 2 * 28\n",
      "57 equals 3 * 19\n",
      "58 equals 2 * 29\n",
      "59 is a prime number\n",
      "60 equals 2 * 30\n",
      "61 is a prime number\n",
      "62 equals 2 * 31\n",
      "63 equals 3 * 21\n",
      "64 equals 2 * 32\n",
      "65 equals 5 * 13\n",
      "66 equals 2 * 33\n",
      "67 is a prime number\n",
      "68 equals 2 * 34\n",
      "69 equals 3 * 23\n",
      "70 equals 2 * 35\n",
      "71 is a prime number\n",
      "72 equals 2 * 36\n",
      "73 is a prime number\n",
      "74 equals 2 * 37\n",
      "75 equals 3 * 25\n",
      "76 equals 2 * 38\n",
      "77 equals 7 * 11\n",
      "78 equals 2 * 39\n",
      "79 is a prime number\n",
      "80 equals 2 * 40\n",
      "81 equals 3 * 27\n",
      "82 equals 2 * 41\n",
      "83 is a prime number\n",
      "84 equals 2 * 42\n",
      "85 equals 5 * 17\n",
      "86 equals 2 * 43\n",
      "87 equals 3 * 29\n",
      "88 equals 2 * 44\n",
      "89 is a prime number\n",
      "90 equals 2 * 45\n",
      "91 equals 7 * 13\n",
      "92 equals 2 * 46\n",
      "93 equals 3 * 31\n",
      "94 equals 2 * 47\n",
      "95 equals 5 * 19\n",
      "96 equals 2 * 48\n",
      "97 is a prime number\n",
      "98 equals 2 * 49\n",
      "99 equals 3 * 33\n",
      "100 equals 2 * 50\n",
      "101 is a prime number\n",
      "102 equals 2 * 51\n",
      "103 is a prime number\n",
      "104 equals 2 * 52\n",
      "105 equals 3 * 35\n",
      "106 equals 2 * 53\n",
      "107 is a prime number\n",
      "108 equals 2 * 54\n",
      "109 is a prime number\n",
      "110 equals 2 * 55\n",
      "111 equals 3 * 37\n",
      "112 equals 2 * 56\n",
      "113 is a prime number\n",
      "114 equals 2 * 57\n",
      "115 equals 5 * 23\n",
      "116 equals 2 * 58\n",
      "117 equals 3 * 39\n",
      "118 equals 2 * 59\n",
      "119 equals 7 * 17\n",
      "120 equals 2 * 60\n",
      "121 equals 11 * 11\n",
      "122 equals 2 * 61\n",
      "123 equals 3 * 41\n",
      "124 equals 2 * 62\n",
      "125 equals 5 * 25\n",
      "126 equals 2 * 63\n",
      "127 is a prime number\n",
      "128 equals 2 * 64\n",
      "129 equals 3 * 43\n",
      "130 equals 2 * 65\n",
      "131 is a prime number\n",
      "132 equals 2 * 66\n",
      "133 equals 7 * 19\n",
      "134 equals 2 * 67\n",
      "135 equals 3 * 45\n",
      "136 equals 2 * 68\n",
      "137 is a prime number\n",
      "138 equals 2 * 69\n",
      "139 is a prime number\n",
      "140 equals 2 * 70\n",
      "141 equals 3 * 47\n",
      "142 equals 2 * 71\n",
      "143 equals 11 * 13\n",
      "144 equals 2 * 72\n",
      "145 equals 5 * 29\n",
      "146 equals 2 * 73\n",
      "147 equals 3 * 49\n",
      "148 equals 2 * 74\n",
      "149 is a prime number\n",
      "150 equals 2 * 75\n",
      "151 is a prime number\n",
      "152 equals 2 * 76\n",
      "153 equals 3 * 51\n",
      "154 equals 2 * 77\n",
      "155 equals 5 * 31\n",
      "156 equals 2 * 78\n",
      "157 is a prime number\n",
      "158 equals 2 * 79\n",
      "159 equals 3 * 53\n",
      "160 equals 2 * 80\n",
      "161 equals 7 * 23\n",
      "162 equals 2 * 81\n",
      "163 is a prime number\n",
      "164 equals 2 * 82\n",
      "165 equals 3 * 55\n",
      "166 equals 2 * 83\n",
      "167 is a prime number\n",
      "168 equals 2 * 84\n",
      "169 equals 13 * 13\n",
      "170 equals 2 * 85\n",
      "171 equals 3 * 57\n",
      "172 equals 2 * 86\n",
      "173 is a prime number\n",
      "174 equals 2 * 87\n",
      "175 equals 5 * 35\n",
      "176 equals 2 * 88\n",
      "177 equals 3 * 59\n",
      "178 equals 2 * 89\n",
      "179 is a prime number\n",
      "180 equals 2 * 90\n",
      "181 is a prime number\n",
      "182 equals 2 * 91\n",
      "183 equals 3 * 61\n",
      "184 equals 2 * 92\n",
      "185 equals 5 * 37\n",
      "186 equals 2 * 93\n",
      "187 equals 11 * 17\n",
      "188 equals 2 * 94\n",
      "189 equals 3 * 63\n",
      "190 equals 2 * 95\n",
      "191 is a prime number\n",
      "192 equals 2 * 96\n",
      "193 is a prime number\n",
      "194 equals 2 * 97\n",
      "195 equals 3 * 65\n",
      "196 equals 2 * 98\n",
      "197 is a prime number\n",
      "198 equals 2 * 99\n",
      "199 is a prime number\n",
      "200 equals 2 * 100\n",
      "201 equals 3 * 67\n",
      "202 equals 2 * 101\n",
      "203 equals 7 * 29\n",
      "204 equals 2 * 102\n",
      "205 equals 5 * 41\n",
      "206 equals 2 * 103\n",
      "207 equals 3 * 69\n",
      "208 equals 2 * 104\n",
      "209 equals 11 * 19\n",
      "210 equals 2 * 105\n",
      "211 is a prime number\n",
      "212 equals 2 * 106\n",
      "213 equals 3 * 71\n",
      "214 equals 2 * 107\n",
      "215 equals 5 * 43\n",
      "216 equals 2 * 108\n",
      "217 equals 7 * 31\n",
      "218 equals 2 * 109\n",
      "219 equals 3 * 73\n",
      "220 equals 2 * 110\n",
      "221 equals 13 * 17\n",
      "222 equals 2 * 111\n",
      "223 is a prime number\n",
      "224 equals 2 * 112\n",
      "225 equals 3 * 75\n",
      "226 equals 2 * 113\n",
      "227 is a prime number\n",
      "228 equals 2 * 114\n",
      "229 is a prime number\n",
      "230 equals 2 * 115\n",
      "231 equals 3 * 77\n",
      "232 equals 2 * 116\n",
      "233 is a prime number\n",
      "234 equals 2 * 117\n",
      "235 equals 5 * 47\n",
      "236 equals 2 * 118\n",
      "237 equals 3 * 79\n",
      "238 equals 2 * 119\n",
      "239 is a prime number\n",
      "240 equals 2 * 120\n",
      "241 is a prime number\n",
      "242 equals 2 * 121\n",
      "243 equals 3 * 81\n",
      "244 equals 2 * 122\n",
      "245 equals 5 * 49\n",
      "246 equals 2 * 123\n",
      "247 equals 13 * 19\n",
      "248 equals 2 * 124\n",
      "249 equals 3 * 83\n",
      "250 equals 2 * 125\n",
      "251 is a prime number\n",
      "252 equals 2 * 126\n",
      "253 equals 11 * 23\n",
      "254 equals 2 * 127\n",
      "255 equals 3 * 85\n",
      "256 equals 2 * 128\n",
      "257 is a prime number\n",
      "258 equals 2 * 129\n",
      "259 equals 7 * 37\n",
      "260 equals 2 * 130\n",
      "261 equals 3 * 87\n",
      "262 equals 2 * 131\n",
      "263 is a prime number\n",
      "264 equals 2 * 132\n",
      "265 equals 5 * 53\n",
      "266 equals 2 * 133\n",
      "267 equals 3 * 89\n",
      "268 equals 2 * 134\n",
      "269 is a prime number\n",
      "270 equals 2 * 135\n",
      "271 is a prime number\n",
      "272 equals 2 * 136\n",
      "273 equals 3 * 91\n",
      "274 equals 2 * 137\n",
      "275 equals 5 * 55\n",
      "276 equals 2 * 138\n",
      "277 is a prime number\n",
      "278 equals 2 * 139\n",
      "279 equals 3 * 93\n",
      "280 equals 2 * 140\n",
      "281 is a prime number\n",
      "282 equals 2 * 141\n",
      "283 is a prime number\n",
      "284 equals 2 * 142\n",
      "285 equals 3 * 95\n",
      "286 equals 2 * 143\n",
      "287 equals 7 * 41\n",
      "288 equals 2 * 144\n",
      "289 equals 17 * 17\n",
      "290 equals 2 * 145\n",
      "291 equals 3 * 97\n",
      "292 equals 2 * 146\n",
      "293 is a prime number\n",
      "294 equals 2 * 147\n",
      "295 equals 5 * 59\n",
      "296 equals 2 * 148\n",
      "297 equals 3 * 99\n",
      "298 equals 2 * 149\n",
      "299 equals 13 * 23\n",
      "300 equals 2 * 150\n",
      "301 equals 7 * 43\n",
      "302 equals 2 * 151\n",
      "303 equals 3 * 101\n",
      "304 equals 2 * 152\n",
      "305 equals 5 * 61\n",
      "306 equals 2 * 153\n",
      "307 is a prime number\n",
      "308 equals 2 * 154\n",
      "309 equals 3 * 103\n",
      "310 equals 2 * 155\n",
      "311 is a prime number\n",
      "312 equals 2 * 156\n",
      "313 is a prime number\n",
      "314 equals 2 * 157\n",
      "315 equals 3 * 105\n",
      "316 equals 2 * 158\n",
      "317 is a prime number\n",
      "318 equals 2 * 159\n",
      "319 equals 11 * 29\n",
      "320 equals 2 * 160\n",
      "321 equals 3 * 107\n",
      "322 equals 2 * 161\n",
      "323 equals 17 * 19\n",
      "324 equals 2 * 162\n",
      "325 equals 5 * 65\n",
      "326 equals 2 * 163\n",
      "327 equals 3 * 109\n",
      "328 equals 2 * 164\n",
      "329 equals 7 * 47\n",
      "330 equals 2 * 165\n",
      "331 is a prime number\n",
      "332 equals 2 * 166\n",
      "333 equals 3 * 111\n",
      "334 equals 2 * 167\n",
      "335 equals 5 * 67\n",
      "336 equals 2 * 168\n",
      "337 is a prime number\n",
      "338 equals 2 * 169\n",
      "339 equals 3 * 113\n",
      "340 equals 2 * 170\n",
      "341 equals 11 * 31\n",
      "342 equals 2 * 171\n",
      "343 equals 7 * 49\n",
      "344 equals 2 * 172\n",
      "345 equals 3 * 115\n",
      "346 equals 2 * 173\n",
      "347 is a prime number\n",
      "348 equals 2 * 174\n",
      "349 is a prime number\n",
      "350 equals 2 * 175\n",
      "351 equals 3 * 117\n",
      "352 equals 2 * 176\n",
      "353 is a prime number\n",
      "354 equals 2 * 177\n",
      "355 equals 5 * 71\n",
      "356 equals 2 * 178\n",
      "357 equals 3 * 119\n",
      "358 equals 2 * 179\n",
      "359 is a prime number\n",
      "360 equals 2 * 180\n",
      "361 equals 19 * 19\n",
      "362 equals 2 * 181\n",
      "363 equals 3 * 121\n",
      "364 equals 2 * 182\n",
      "365 equals 5 * 73\n",
      "366 equals 2 * 183\n",
      "367 is a prime number\n",
      "368 equals 2 * 184\n",
      "369 equals 3 * 123\n",
      "370 equals 2 * 185\n",
      "371 equals 7 * 53\n",
      "372 equals 2 * 186\n",
      "373 is a prime number\n",
      "374 equals 2 * 187\n",
      "375 equals 3 * 125\n",
      "376 equals 2 * 188\n",
      "377 equals 13 * 29\n",
      "378 equals 2 * 189\n",
      "379 is a prime number\n",
      "380 equals 2 * 190\n",
      "381 equals 3 * 127\n",
      "382 equals 2 * 191\n",
      "383 is a prime number\n",
      "384 equals 2 * 192\n",
      "385 equals 5 * 77\n",
      "386 equals 2 * 193\n",
      "387 equals 3 * 129\n",
      "388 equals 2 * 194\n",
      "389 is a prime number\n",
      "390 equals 2 * 195\n",
      "391 equals 17 * 23\n",
      "392 equals 2 * 196\n",
      "393 equals 3 * 131\n",
      "394 equals 2 * 197\n",
      "395 equals 5 * 79\n",
      "396 equals 2 * 198\n",
      "397 is a prime number\n",
      "398 equals 2 * 199\n",
      "399 equals 3 * 133\n",
      "400 equals 2 * 200\n",
      "401 is a prime number\n",
      "402 equals 2 * 201\n",
      "403 equals 13 * 31\n",
      "404 equals 2 * 202\n",
      "405 equals 3 * 135\n",
      "406 equals 2 * 203\n",
      "407 equals 11 * 37\n",
      "408 equals 2 * 204\n",
      "409 is a prime number\n",
      "410 equals 2 * 205\n",
      "411 equals 3 * 137\n",
      "412 equals 2 * 206\n",
      "413 equals 7 * 59\n",
      "414 equals 2 * 207\n",
      "415 equals 5 * 83\n",
      "416 equals 2 * 208\n",
      "417 equals 3 * 139\n",
      "418 equals 2 * 209\n",
      "419 is a prime number\n",
      "420 equals 2 * 210\n",
      "421 is a prime number\n",
      "422 equals 2 * 211\n",
      "423 equals 3 * 141\n",
      "424 equals 2 * 212\n",
      "425 equals 5 * 85\n",
      "426 equals 2 * 213\n",
      "427 equals 7 * 61\n",
      "428 equals 2 * 214\n",
      "429 equals 3 * 143\n",
      "430 equals 2 * 215\n",
      "431 is a prime number\n",
      "432 equals 2 * 216\n",
      "433 is a prime number\n",
      "434 equals 2 * 217\n",
      "435 equals 3 * 145\n",
      "436 equals 2 * 218\n",
      "437 equals 19 * 23\n",
      "438 equals 2 * 219\n",
      "439 is a prime number\n",
      "440 equals 2 * 220\n",
      "441 equals 3 * 147\n",
      "442 equals 2 * 221\n",
      "443 is a prime number\n",
      "444 equals 2 * 222\n",
      "445 equals 5 * 89\n",
      "446 equals 2 * 223\n",
      "447 equals 3 * 149\n",
      "448 equals 2 * 224\n",
      "449 is a prime number\n",
      "450 equals 2 * 225\n",
      "451 equals 11 * 41\n",
      "452 equals 2 * 226\n",
      "453 equals 3 * 151\n",
      "454 equals 2 * 227\n",
      "455 equals 5 * 91\n",
      "456 equals 2 * 228\n",
      "457 is a prime number\n",
      "458 equals 2 * 229\n",
      "459 equals 3 * 153\n",
      "460 equals 2 * 230\n",
      "461 is a prime number\n",
      "462 equals 2 * 231\n",
      "463 is a prime number\n",
      "464 equals 2 * 232\n",
      "465 equals 3 * 155\n",
      "466 equals 2 * 233\n",
      "467 is a prime number\n",
      "468 equals 2 * 234\n",
      "469 equals 7 * 67\n",
      "470 equals 2 * 235\n",
      "471 equals 3 * 157\n",
      "472 equals 2 * 236\n",
      "473 equals 11 * 43\n",
      "474 equals 2 * 237\n",
      "475 equals 5 * 95\n",
      "476 equals 2 * 238\n",
      "477 equals 3 * 159\n",
      "478 equals 2 * 239\n",
      "479 is a prime number\n",
      "480 equals 2 * 240\n",
      "481 equals 13 * 37\n",
      "482 equals 2 * 241\n",
      "483 equals 3 * 161\n",
      "484 equals 2 * 242\n",
      "485 equals 5 * 97\n",
      "486 equals 2 * 243\n",
      "487 is a prime number\n",
      "488 equals 2 * 244\n",
      "489 equals 3 * 163\n",
      "490 equals 2 * 245\n",
      "491 is a prime number\n",
      "492 equals 2 * 246\n",
      "493 equals 17 * 29\n",
      "494 equals 2 * 247\n",
      "495 equals 3 * 165\n",
      "496 equals 2 * 248\n",
      "497 equals 7 * 71\n",
      "498 equals 2 * 249\n",
      "499 is a prime number\n",
      "500 equals 2 * 250\n",
      "501 equals 3 * 167\n",
      "502 equals 2 * 251\n",
      "503 is a prime number\n",
      "504 equals 2 * 252\n",
      "505 equals 5 * 101\n",
      "506 equals 2 * 253\n",
      "507 equals 3 * 169\n",
      "508 equals 2 * 254\n",
      "509 is a prime number\n",
      "510 equals 2 * 255\n",
      "511 equals 7 * 73\n",
      "512 equals 2 * 256\n",
      "513 equals 3 * 171\n",
      "514 equals 2 * 257\n",
      "515 equals 5 * 103\n",
      "516 equals 2 * 258\n",
      "517 equals 11 * 47\n",
      "518 equals 2 * 259\n",
      "519 equals 3 * 173\n",
      "520 equals 2 * 260\n",
      "521 is a prime number\n",
      "522 equals 2 * 261\n",
      "523 is a prime number\n",
      "524 equals 2 * 262\n",
      "525 equals 3 * 175\n",
      "526 equals 2 * 263\n",
      "527 equals 17 * 31\n",
      "528 equals 2 * 264\n",
      "529 equals 23 * 23\n",
      "530 equals 2 * 265\n",
      "531 equals 3 * 177\n",
      "532 equals 2 * 266\n",
      "533 equals 13 * 41\n",
      "534 equals 2 * 267\n",
      "535 equals 5 * 107\n",
      "536 equals 2 * 268\n",
      "537 equals 3 * 179\n",
      "538 equals 2 * 269\n",
      "539 equals 7 * 77\n",
      "540 equals 2 * 270\n",
      "541 is a prime number\n",
      "542 equals 2 * 271\n",
      "543 equals 3 * 181\n",
      "544 equals 2 * 272\n",
      "545 equals 5 * 109\n",
      "546 equals 2 * 273\n",
      "547 is a prime number\n",
      "548 equals 2 * 274\n",
      "549 equals 3 * 183\n",
      "550 equals 2 * 275\n",
      "551 equals 19 * 29\n",
      "552 equals 2 * 276\n",
      "553 equals 7 * 79\n",
      "554 equals 2 * 277\n",
      "555 equals 3 * 185\n",
      "556 equals 2 * 278\n",
      "557 is a prime number\n",
      "558 equals 2 * 279\n",
      "559 equals 13 * 43\n",
      "560 equals 2 * 280\n",
      "561 equals 3 * 187\n",
      "562 equals 2 * 281\n",
      "563 is a prime number\n",
      "564 equals 2 * 282\n",
      "565 equals 5 * 113\n",
      "566 equals 2 * 283\n",
      "567 equals 3 * 189\n",
      "568 equals 2 * 284\n",
      "569 is a prime number\n",
      "570 equals 2 * 285\n",
      "571 is a prime number\n",
      "572 equals 2 * 286\n",
      "573 equals 3 * 191\n",
      "574 equals 2 * 287\n",
      "575 equals 5 * 115\n",
      "576 equals 2 * 288\n",
      "577 is a prime number\n",
      "578 equals 2 * 289\n",
      "579 equals 3 * 193\n",
      "580 equals 2 * 290\n",
      "581 equals 7 * 83\n",
      "582 equals 2 * 291\n",
      "583 equals 11 * 53\n",
      "584 equals 2 * 292\n",
      "585 equals 3 * 195\n",
      "586 equals 2 * 293\n",
      "587 is a prime number\n",
      "588 equals 2 * 294\n",
      "589 equals 19 * 31\n",
      "590 equals 2 * 295\n",
      "591 equals 3 * 197\n",
      "592 equals 2 * 296\n",
      "593 is a prime number\n",
      "594 equals 2 * 297\n",
      "595 equals 5 * 119\n",
      "596 equals 2 * 298\n",
      "597 equals 3 * 199\n",
      "598 equals 2 * 299\n",
      "599 is a prime number\n",
      "600 equals 2 * 300\n",
      "601 is a prime number\n",
      "602 equals 2 * 301\n",
      "603 equals 3 * 201\n",
      "604 equals 2 * 302\n",
      "605 equals 5 * 121\n",
      "606 equals 2 * 303\n",
      "607 is a prime number\n",
      "608 equals 2 * 304\n",
      "609 equals 3 * 203\n",
      "610 equals 2 * 305\n",
      "611 equals 13 * 47\n",
      "612 equals 2 * 306\n",
      "613 is a prime number\n",
      "614 equals 2 * 307\n",
      "615 equals 3 * 205\n",
      "616 equals 2 * 308\n",
      "617 is a prime number\n",
      "618 equals 2 * 309\n",
      "619 is a prime number\n",
      "620 equals 2 * 310\n",
      "621 equals 3 * 207\n",
      "622 equals 2 * 311\n",
      "623 equals 7 * 89\n",
      "624 equals 2 * 312\n",
      "625 equals 5 * 125\n",
      "626 equals 2 * 313\n",
      "627 equals 3 * 209\n",
      "628 equals 2 * 314\n",
      "629 equals 17 * 37\n",
      "630 equals 2 * 315\n",
      "631 is a prime number\n",
      "632 equals 2 * 316\n",
      "633 equals 3 * 211\n",
      "634 equals 2 * 317\n",
      "635 equals 5 * 127\n",
      "636 equals 2 * 318\n",
      "637 equals 7 * 91\n",
      "638 equals 2 * 319\n",
      "639 equals 3 * 213\n",
      "640 equals 2 * 320\n",
      "641 is a prime number\n",
      "642 equals 2 * 321\n",
      "643 is a prime number\n",
      "644 equals 2 * 322\n",
      "645 equals 3 * 215\n",
      "646 equals 2 * 323\n",
      "647 is a prime number\n",
      "648 equals 2 * 324\n",
      "649 equals 11 * 59\n",
      "650 equals 2 * 325\n",
      "651 equals 3 * 217\n",
      "652 equals 2 * 326\n",
      "653 is a prime number\n",
      "654 equals 2 * 327\n",
      "655 equals 5 * 131\n",
      "656 equals 2 * 328\n",
      "657 equals 3 * 219\n",
      "658 equals 2 * 329\n",
      "659 is a prime number\n",
      "660 equals 2 * 330\n",
      "661 is a prime number\n",
      "662 equals 2 * 331\n",
      "663 equals 3 * 221\n",
      "664 equals 2 * 332\n",
      "665 equals 5 * 133\n",
      "666 equals 2 * 333\n",
      "667 equals 23 * 29\n",
      "668 equals 2 * 334\n",
      "669 equals 3 * 223\n",
      "670 equals 2 * 335\n",
      "671 equals 11 * 61\n",
      "672 equals 2 * 336\n",
      "673 is a prime number\n",
      "674 equals 2 * 337\n",
      "675 equals 3 * 225\n",
      "676 equals 2 * 338\n",
      "677 is a prime number\n",
      "678 equals 2 * 339\n",
      "679 equals 7 * 97\n",
      "680 equals 2 * 340\n",
      "681 equals 3 * 227\n",
      "682 equals 2 * 341\n",
      "683 is a prime number\n",
      "684 equals 2 * 342\n",
      "685 equals 5 * 137\n",
      "686 equals 2 * 343\n",
      "687 equals 3 * 229\n",
      "688 equals 2 * 344\n",
      "689 equals 13 * 53\n",
      "690 equals 2 * 345\n",
      "691 is a prime number\n",
      "692 equals 2 * 346\n",
      "693 equals 3 * 231\n",
      "694 equals 2 * 347\n",
      "695 equals 5 * 139\n",
      "696 equals 2 * 348\n",
      "697 equals 17 * 41\n",
      "698 equals 2 * 349\n",
      "699 equals 3 * 233\n",
      "700 equals 2 * 350\n",
      "701 is a prime number\n",
      "702 equals 2 * 351\n",
      "703 equals 19 * 37\n",
      "704 equals 2 * 352\n",
      "705 equals 3 * 235\n",
      "706 equals 2 * 353\n",
      "707 equals 7 * 101\n",
      "708 equals 2 * 354\n",
      "709 is a prime number\n",
      "710 equals 2 * 355\n",
      "711 equals 3 * 237\n",
      "712 equals 2 * 356\n",
      "713 equals 23 * 31\n",
      "714 equals 2 * 357\n",
      "715 equals 5 * 143\n",
      "716 equals 2 * 358\n",
      "717 equals 3 * 239\n",
      "718 equals 2 * 359\n",
      "719 is a prime number\n",
      "720 equals 2 * 360\n",
      "721 equals 7 * 103\n",
      "722 equals 2 * 361\n",
      "723 equals 3 * 241\n",
      "724 equals 2 * 362\n",
      "725 equals 5 * 145\n",
      "726 equals 2 * 363\n",
      "727 is a prime number\n",
      "728 equals 2 * 364\n",
      "729 equals 3 * 243\n",
      "730 equals 2 * 365\n",
      "731 equals 17 * 43\n",
      "732 equals 2 * 366\n",
      "733 is a prime number\n",
      "734 equals 2 * 367\n",
      "735 equals 3 * 245\n",
      "736 equals 2 * 368\n",
      "737 equals 11 * 67\n",
      "738 equals 2 * 369\n",
      "739 is a prime number\n",
      "740 equals 2 * 370\n",
      "741 equals 3 * 247\n",
      "742 equals 2 * 371\n",
      "743 is a prime number\n",
      "744 equals 2 * 372\n",
      "745 equals 5 * 149\n",
      "746 equals 2 * 373\n",
      "747 equals 3 * 249\n",
      "748 equals 2 * 374\n",
      "749 equals 7 * 107\n",
      "750 equals 2 * 375\n",
      "751 is a prime number\n",
      "752 equals 2 * 376\n",
      "753 equals 3 * 251\n",
      "754 equals 2 * 377\n",
      "755 equals 5 * 151\n",
      "756 equals 2 * 378\n",
      "757 is a prime number\n",
      "758 equals 2 * 379\n",
      "759 equals 3 * 253\n",
      "760 equals 2 * 380\n",
      "761 is a prime number\n",
      "762 equals 2 * 381\n",
      "763 equals 7 * 109\n",
      "764 equals 2 * 382\n",
      "765 equals 3 * 255\n",
      "766 equals 2 * 383\n",
      "767 equals 13 * 59\n",
      "768 equals 2 * 384\n",
      "769 is a prime number\n",
      "770 equals 2 * 385\n",
      "771 equals 3 * 257\n",
      "772 equals 2 * 386\n",
      "773 is a prime number\n",
      "774 equals 2 * 387\n",
      "775 equals 5 * 155\n",
      "776 equals 2 * 388\n",
      "777 equals 3 * 259\n",
      "778 equals 2 * 389\n",
      "779 equals 19 * 41\n",
      "780 equals 2 * 390\n",
      "781 equals 11 * 71\n",
      "782 equals 2 * 391\n",
      "783 equals 3 * 261\n",
      "784 equals 2 * 392\n",
      "785 equals 5 * 157\n",
      "786 equals 2 * 393\n",
      "787 is a prime number\n",
      "788 equals 2 * 394\n",
      "789 equals 3 * 263\n",
      "790 equals 2 * 395\n",
      "791 equals 7 * 113\n",
      "792 equals 2 * 396\n",
      "793 equals 13 * 61\n",
      "794 equals 2 * 397\n",
      "795 equals 3 * 265\n",
      "796 equals 2 * 398\n",
      "797 is a prime number\n",
      "798 equals 2 * 399\n",
      "799 equals 17 * 47\n",
      "800 equals 2 * 400\n",
      "801 equals 3 * 267\n",
      "802 equals 2 * 401\n",
      "803 equals 11 * 73\n",
      "804 equals 2 * 402\n",
      "805 equals 5 * 161\n",
      "806 equals 2 * 403\n",
      "807 equals 3 * 269\n",
      "808 equals 2 * 404\n",
      "809 is a prime number\n",
      "810 equals 2 * 405\n",
      "811 is a prime number\n",
      "812 equals 2 * 406\n",
      "813 equals 3 * 271\n",
      "814 equals 2 * 407\n",
      "815 equals 5 * 163\n",
      "816 equals 2 * 408\n",
      "817 equals 19 * 43\n",
      "818 equals 2 * 409\n",
      "819 equals 3 * 273\n",
      "820 equals 2 * 410\n",
      "821 is a prime number\n",
      "822 equals 2 * 411\n",
      "823 is a prime number\n",
      "824 equals 2 * 412\n",
      "825 equals 3 * 275\n",
      "826 equals 2 * 413\n",
      "827 is a prime number\n",
      "828 equals 2 * 414\n",
      "829 is a prime number\n",
      "830 equals 2 * 415\n",
      "831 equals 3 * 277\n",
      "832 equals 2 * 416\n",
      "833 equals 7 * 119\n",
      "834 equals 2 * 417\n",
      "835 equals 5 * 167\n",
      "836 equals 2 * 418\n",
      "837 equals 3 * 279\n",
      "838 equals 2 * 419\n",
      "839 is a prime number\n",
      "840 equals 2 * 420\n",
      "841 equals 29 * 29\n",
      "842 equals 2 * 421\n",
      "843 equals 3 * 281\n",
      "844 equals 2 * 422\n",
      "845 equals 5 * 169\n",
      "846 equals 2 * 423\n",
      "847 equals 7 * 121\n",
      "848 equals 2 * 424\n",
      "849 equals 3 * 283\n",
      "850 equals 2 * 425\n",
      "851 equals 23 * 37\n",
      "852 equals 2 * 426\n",
      "853 is a prime number\n",
      "854 equals 2 * 427\n",
      "855 equals 3 * 285\n",
      "856 equals 2 * 428\n",
      "857 is a prime number\n",
      "858 equals 2 * 429\n",
      "859 is a prime number\n",
      "860 equals 2 * 430\n",
      "861 equals 3 * 287\n",
      "862 equals 2 * 431\n",
      "863 is a prime number\n",
      "864 equals 2 * 432\n",
      "865 equals 5 * 173\n",
      "866 equals 2 * 433\n",
      "867 equals 3 * 289\n",
      "868 equals 2 * 434\n",
      "869 equals 11 * 79\n",
      "870 equals 2 * 435\n",
      "871 equals 13 * 67\n",
      "872 equals 2 * 436\n",
      "873 equals 3 * 291\n"
     ]
    },
    {
     "name": "stdout",
     "output_type": "stream",
     "text": [
      "874 equals 2 * 437\n",
      "875 equals 5 * 175\n",
      "876 equals 2 * 438\n",
      "877 is a prime number\n",
      "878 equals 2 * 439\n",
      "879 equals 3 * 293\n",
      "880 equals 2 * 440\n",
      "881 is a prime number\n",
      "882 equals 2 * 441\n",
      "883 is a prime number\n",
      "884 equals 2 * 442\n",
      "885 equals 3 * 295\n",
      "886 equals 2 * 443\n",
      "887 is a prime number\n",
      "888 equals 2 * 444\n",
      "889 equals 7 * 127\n",
      "890 equals 2 * 445\n",
      "891 equals 3 * 297\n",
      "892 equals 2 * 446\n",
      "893 equals 19 * 47\n",
      "894 equals 2 * 447\n",
      "895 equals 5 * 179\n",
      "896 equals 2 * 448\n",
      "897 equals 3 * 299\n",
      "898 equals 2 * 449\n",
      "899 equals 29 * 31\n",
      "900 equals 2 * 450\n",
      "901 equals 17 * 53\n",
      "902 equals 2 * 451\n",
      "903 equals 3 * 301\n",
      "904 equals 2 * 452\n",
      "905 equals 5 * 181\n",
      "906 equals 2 * 453\n",
      "907 is a prime number\n",
      "908 equals 2 * 454\n",
      "909 equals 3 * 303\n",
      "910 equals 2 * 455\n",
      "911 is a prime number\n",
      "912 equals 2 * 456\n",
      "913 equals 11 * 83\n",
      "914 equals 2 * 457\n",
      "915 equals 3 * 305\n",
      "916 equals 2 * 458\n",
      "917 equals 7 * 131\n",
      "918 equals 2 * 459\n",
      "919 is a prime number\n",
      "920 equals 2 * 460\n",
      "921 equals 3 * 307\n",
      "922 equals 2 * 461\n",
      "923 equals 13 * 71\n",
      "924 equals 2 * 462\n",
      "925 equals 5 * 185\n",
      "926 equals 2 * 463\n",
      "927 equals 3 * 309\n",
      "928 equals 2 * 464\n",
      "929 is a prime number\n",
      "930 equals 2 * 465\n",
      "931 equals 7 * 133\n",
      "932 equals 2 * 466\n",
      "933 equals 3 * 311\n",
      "934 equals 2 * 467\n",
      "935 equals 5 * 187\n",
      "936 equals 2 * 468\n",
      "937 is a prime number\n",
      "938 equals 2 * 469\n",
      "939 equals 3 * 313\n",
      "940 equals 2 * 470\n",
      "941 is a prime number\n",
      "942 equals 2 * 471\n",
      "943 equals 23 * 41\n",
      "944 equals 2 * 472\n",
      "945 equals 3 * 315\n",
      "946 equals 2 * 473\n",
      "947 is a prime number\n",
      "948 equals 2 * 474\n",
      "949 equals 13 * 73\n",
      "950 equals 2 * 475\n",
      "951 equals 3 * 317\n",
      "952 equals 2 * 476\n",
      "953 is a prime number\n",
      "954 equals 2 * 477\n",
      "955 equals 5 * 191\n",
      "956 equals 2 * 478\n",
      "957 equals 3 * 319\n",
      "958 equals 2 * 479\n",
      "959 equals 7 * 137\n",
      "960 equals 2 * 480\n",
      "961 equals 31 * 31\n",
      "962 equals 2 * 481\n",
      "963 equals 3 * 321\n",
      "964 equals 2 * 482\n",
      "965 equals 5 * 193\n",
      "966 equals 2 * 483\n",
      "967 is a prime number\n",
      "968 equals 2 * 484\n",
      "969 equals 3 * 323\n",
      "970 equals 2 * 485\n",
      "971 is a prime number\n",
      "972 equals 2 * 486\n",
      "973 equals 7 * 139\n",
      "974 equals 2 * 487\n",
      "975 equals 3 * 325\n",
      "976 equals 2 * 488\n",
      "977 is a prime number\n",
      "978 equals 2 * 489\n",
      "979 equals 11 * 89\n",
      "980 equals 2 * 490\n",
      "981 equals 3 * 327\n",
      "982 equals 2 * 491\n",
      "983 is a prime number\n",
      "984 equals 2 * 492\n",
      "985 equals 5 * 197\n",
      "986 equals 2 * 493\n",
      "987 equals 3 * 329\n",
      "988 equals 2 * 494\n",
      "989 equals 23 * 43\n",
      "990 equals 2 * 495\n",
      "991 is a prime number\n",
      "992 equals 2 * 496\n",
      "993 equals 3 * 331\n",
      "994 equals 2 * 497\n",
      "995 equals 5 * 199\n",
      "996 equals 2 * 498\n",
      "997 is a prime number\n",
      "998 equals 2 * 499\n",
      "999 equals 3 * 333\n",
      "1000 equals 2 * 500\n",
      "1001 equals 7 * 143\n",
      "1002 equals 2 * 501\n",
      "1003 equals 17 * 59\n",
      "1004 equals 2 * 502\n",
      "1005 equals 3 * 335\n",
      "1006 equals 2 * 503\n",
      "1007 equals 19 * 53\n",
      "1008 equals 2 * 504\n",
      "1009 is a prime number\n",
      "1010 equals 2 * 505\n",
      "1011 equals 3 * 337\n",
      "1012 equals 2 * 506\n",
      "1013 is a prime number\n",
      "1014 equals 2 * 507\n",
      "1015 equals 5 * 203\n",
      "1016 equals 2 * 508\n",
      "1017 equals 3 * 339\n",
      "1018 equals 2 * 509\n",
      "1019 is a prime number\n",
      "1020 equals 2 * 510\n",
      "1021 is a prime number\n",
      "1022 equals 2 * 511\n",
      "1023 equals 3 * 341\n",
      "1024 equals 2 * 512\n",
      "1025 equals 5 * 205\n",
      "1026 equals 2 * 513\n",
      "1027 equals 13 * 79\n",
      "1028 equals 2 * 514\n",
      "1029 equals 3 * 343\n",
      "1030 equals 2 * 515\n",
      "1031 is a prime number\n",
      "1032 equals 2 * 516\n",
      "1033 is a prime number\n",
      "1034 equals 2 * 517\n",
      "1035 equals 3 * 345\n",
      "1036 equals 2 * 518\n",
      "1037 equals 17 * 61\n",
      "1038 equals 2 * 519\n",
      "1039 is a prime number\n",
      "1040 equals 2 * 520\n",
      "1041 equals 3 * 347\n",
      "1042 equals 2 * 521\n",
      "1043 equals 7 * 149\n",
      "1044 equals 2 * 522\n",
      "1045 equals 5 * 209\n",
      "1046 equals 2 * 523\n",
      "1047 equals 3 * 349\n",
      "1048 equals 2 * 524\n",
      "1049 is a prime number\n",
      "1050 equals 2 * 525\n",
      "1051 is a prime number\n",
      "1052 equals 2 * 526\n",
      "1053 equals 3 * 351\n",
      "1054 equals 2 * 527\n",
      "1055 equals 5 * 211\n",
      "1056 equals 2 * 528\n",
      "1057 equals 7 * 151\n",
      "1058 equals 2 * 529\n",
      "1059 equals 3 * 353\n",
      "1060 equals 2 * 530\n",
      "1061 is a prime number\n",
      "1062 equals 2 * 531\n",
      "1063 is a prime number\n",
      "1064 equals 2 * 532\n",
      "1065 equals 3 * 355\n",
      "1066 equals 2 * 533\n",
      "1067 equals 11 * 97\n",
      "1068 equals 2 * 534\n",
      "1069 is a prime number\n",
      "1070 equals 2 * 535\n",
      "1071 equals 3 * 357\n",
      "1072 equals 2 * 536\n",
      "1073 equals 29 * 37\n",
      "1074 equals 2 * 537\n",
      "1075 equals 5 * 215\n",
      "1076 equals 2 * 538\n",
      "1077 equals 3 * 359\n",
      "1078 equals 2 * 539\n",
      "1079 equals 13 * 83\n",
      "1080 equals 2 * 540\n",
      "1081 equals 23 * 47\n",
      "1082 equals 2 * 541\n",
      "1083 equals 3 * 361\n",
      "1084 equals 2 * 542\n",
      "1085 equals 5 * 217\n",
      "1086 equals 2 * 543\n",
      "1087 is a prime number\n",
      "1088 equals 2 * 544\n",
      "1089 equals 3 * 363\n",
      "1090 equals 2 * 545\n",
      "1091 is a prime number\n",
      "1092 equals 2 * 546\n",
      "1093 is a prime number\n",
      "1094 equals 2 * 547\n",
      "1095 equals 3 * 365\n",
      "1096 equals 2 * 548\n",
      "1097 is a prime number\n",
      "1098 equals 2 * 549\n",
      "1099 equals 7 * 157\n",
      "1100 equals 2 * 550\n",
      "1101 equals 3 * 367\n",
      "1102 equals 2 * 551\n",
      "1103 is a prime number\n",
      "1104 equals 2 * 552\n",
      "1105 equals 5 * 221\n",
      "1106 equals 2 * 553\n",
      "1107 equals 3 * 369\n",
      "1108 equals 2 * 554\n",
      "1109 is a prime number\n",
      "1110 equals 2 * 555\n",
      "1111 equals 11 * 101\n",
      "1112 equals 2 * 556\n",
      "1113 equals 3 * 371\n",
      "1114 equals 2 * 557\n",
      "1115 equals 5 * 223\n",
      "1116 equals 2 * 558\n",
      "1117 is a prime number\n",
      "1118 equals 2 * 559\n",
      "1119 equals 3 * 373\n",
      "1120 equals 2 * 560\n",
      "1121 equals 19 * 59\n",
      "1122 equals 2 * 561\n",
      "1123 is a prime number\n",
      "1124 equals 2 * 562\n",
      "1125 equals 3 * 375\n",
      "1126 equals 2 * 563\n",
      "1127 equals 7 * 161\n",
      "1128 equals 2 * 564\n",
      "1129 is a prime number\n",
      "1130 equals 2 * 565\n",
      "1131 equals 3 * 377\n",
      "1132 equals 2 * 566\n",
      "1133 equals 11 * 103\n",
      "1134 equals 2 * 567\n",
      "1135 equals 5 * 227\n",
      "1136 equals 2 * 568\n",
      "1137 equals 3 * 379\n",
      "1138 equals 2 * 569\n",
      "1139 equals 17 * 67\n",
      "1140 equals 2 * 570\n",
      "1141 equals 7 * 163\n",
      "1142 equals 2 * 571\n",
      "1143 equals 3 * 381\n",
      "1144 equals 2 * 572\n",
      "1145 equals 5 * 229\n",
      "1146 equals 2 * 573\n",
      "1147 equals 31 * 37\n",
      "1148 equals 2 * 574\n",
      "1149 equals 3 * 383\n",
      "1150 equals 2 * 575\n",
      "1151 is a prime number\n",
      "1152 equals 2 * 576\n",
      "1153 is a prime number\n",
      "1154 equals 2 * 577\n",
      "1155 equals 3 * 385\n",
      "1156 equals 2 * 578\n",
      "1157 equals 13 * 89\n",
      "1158 equals 2 * 579\n",
      "1159 equals 19 * 61\n",
      "1160 equals 2 * 580\n",
      "1161 equals 3 * 387\n",
      "1162 equals 2 * 581\n",
      "1163 is a prime number\n",
      "1164 equals 2 * 582\n",
      "1165 equals 5 * 233\n",
      "1166 equals 2 * 583\n",
      "1167 equals 3 * 389\n",
      "1168 equals 2 * 584\n",
      "1169 equals 7 * 167\n",
      "1170 equals 2 * 585\n",
      "1171 is a prime number\n",
      "1172 equals 2 * 586\n",
      "1173 equals 3 * 391\n",
      "1174 equals 2 * 587\n",
      "1175 equals 5 * 235\n",
      "1176 equals 2 * 588\n",
      "1177 equals 11 * 107\n",
      "1178 equals 2 * 589\n",
      "1179 equals 3 * 393\n",
      "1180 equals 2 * 590\n",
      "1181 is a prime number\n",
      "1182 equals 2 * 591\n",
      "1183 equals 7 * 169\n",
      "1184 equals 2 * 592\n",
      "1185 equals 3 * 395\n",
      "1186 equals 2 * 593\n",
      "1187 is a prime number\n",
      "1188 equals 2 * 594\n",
      "1189 equals 29 * 41\n",
      "1190 equals 2 * 595\n",
      "1191 equals 3 * 397\n",
      "1192 equals 2 * 596\n",
      "1193 is a prime number\n",
      "1194 equals 2 * 597\n",
      "1195 equals 5 * 239\n",
      "1196 equals 2 * 598\n",
      "1197 equals 3 * 399\n",
      "1198 equals 2 * 599\n",
      "1199 equals 11 * 109\n",
      "1200 equals 2 * 600\n",
      "1201 is a prime number\n",
      "1202 equals 2 * 601\n",
      "1203 equals 3 * 401\n",
      "1204 equals 2 * 602\n",
      "1205 equals 5 * 241\n",
      "1206 equals 2 * 603\n",
      "1207 equals 17 * 71\n",
      "1208 equals 2 * 604\n",
      "1209 equals 3 * 403\n",
      "1210 equals 2 * 605\n",
      "1211 equals 7 * 173\n",
      "1212 equals 2 * 606\n",
      "1213 is a prime number\n",
      "1214 equals 2 * 607\n",
      "1215 equals 3 * 405\n",
      "1216 equals 2 * 608\n",
      "1217 is a prime number\n",
      "1218 equals 2 * 609\n",
      "1219 equals 23 * 53\n",
      "1220 equals 2 * 610\n",
      "1221 equals 3 * 407\n",
      "1222 equals 2 * 611\n",
      "1223 is a prime number\n",
      "1224 equals 2 * 612\n",
      "1225 equals 5 * 245\n",
      "1226 equals 2 * 613\n",
      "1227 equals 3 * 409\n",
      "1228 equals 2 * 614\n",
      "1229 is a prime number\n",
      "1230 equals 2 * 615\n",
      "1231 is a prime number\n",
      "1232 equals 2 * 616\n",
      "1233 equals 3 * 411\n",
      "1234 equals 2 * 617\n",
      "1235 equals 5 * 247\n",
      "1236 equals 2 * 618\n",
      "1237 is a prime number\n",
      "1238 equals 2 * 619\n",
      "1239 equals 3 * 413\n",
      "1240 equals 2 * 620\n",
      "1241 equals 17 * 73\n",
      "1242 equals 2 * 621\n",
      "1243 equals 11 * 113\n",
      "1244 equals 2 * 622\n",
      "1245 equals 3 * 415\n",
      "1246 equals 2 * 623\n",
      "1247 equals 29 * 43\n",
      "1248 equals 2 * 624\n",
      "1249 is a prime number\n",
      "1250 equals 2 * 625\n",
      "1251 equals 3 * 417\n",
      "1252 equals 2 * 626\n",
      "1253 equals 7 * 179\n",
      "1254 equals 2 * 627\n",
      "1255 equals 5 * 251\n",
      "1256 equals 2 * 628\n",
      "1257 equals 3 * 419\n",
      "1258 equals 2 * 629\n",
      "1259 is a prime number\n",
      "1260 equals 2 * 630\n",
      "1261 equals 13 * 97\n",
      "1262 equals 2 * 631\n",
      "1263 equals 3 * 421\n",
      "1264 equals 2 * 632\n",
      "1265 equals 5 * 253\n",
      "1266 equals 2 * 633\n",
      "1267 equals 7 * 181\n",
      "1268 equals 2 * 634\n",
      "1269 equals 3 * 423\n",
      "1270 equals 2 * 635\n",
      "1271 equals 31 * 41\n",
      "1272 equals 2 * 636\n",
      "1273 equals 19 * 67\n",
      "1274 equals 2 * 637\n",
      "1275 equals 3 * 425\n",
      "1276 equals 2 * 638\n",
      "1277 is a prime number\n",
      "1278 equals 2 * 639\n",
      "1279 is a prime number\n",
      "1280 equals 2 * 640\n",
      "1281 equals 3 * 427\n",
      "1282 equals 2 * 641\n",
      "1283 is a prime number\n",
      "1284 equals 2 * 642\n",
      "1285 equals 5 * 257\n",
      "1286 equals 2 * 643\n",
      "1287 equals 3 * 429\n",
      "1288 equals 2 * 644\n",
      "1289 is a prime number\n",
      "1290 equals 2 * 645\n",
      "1291 is a prime number\n",
      "1292 equals 2 * 646\n",
      "1293 equals 3 * 431\n",
      "1294 equals 2 * 647\n",
      "1295 equals 5 * 259\n",
      "1296 equals 2 * 648\n",
      "1297 is a prime number\n",
      "1298 equals 2 * 649\n",
      "1299 equals 3 * 433\n",
      "1300 equals 2 * 650\n",
      "1301 is a prime number\n",
      "1302 equals 2 * 651\n",
      "1303 is a prime number\n",
      "1304 equals 2 * 652\n",
      "1305 equals 3 * 435\n",
      "1306 equals 2 * 653\n",
      "1307 is a prime number\n",
      "1308 equals 2 * 654\n",
      "1309 equals 7 * 187\n",
      "1310 equals 2 * 655\n",
      "1311 equals 3 * 437\n",
      "1312 equals 2 * 656\n"
     ]
    },
    {
     "name": "stdout",
     "output_type": "stream",
     "text": [
      "1313 equals 13 * 101\n",
      "1314 equals 2 * 657\n",
      "1315 equals 5 * 263\n",
      "1316 equals 2 * 658\n",
      "1317 equals 3 * 439\n",
      "1318 equals 2 * 659\n",
      "1319 is a prime number\n",
      "1320 equals 2 * 660\n",
      "1321 is a prime number\n",
      "1322 equals 2 * 661\n",
      "1323 equals 3 * 441\n",
      "1324 equals 2 * 662\n",
      "1325 equals 5 * 265\n",
      "1326 equals 2 * 663\n",
      "1327 is a prime number\n",
      "1328 equals 2 * 664\n",
      "1329 equals 3 * 443\n",
      "1330 equals 2 * 665\n",
      "1331 equals 11 * 121\n",
      "1332 equals 2 * 666\n",
      "1333 equals 31 * 43\n",
      "1334 equals 2 * 667\n",
      "1335 equals 3 * 445\n",
      "1336 equals 2 * 668\n",
      "1337 equals 7 * 191\n",
      "1338 equals 2 * 669\n",
      "1339 equals 13 * 103\n",
      "1340 equals 2 * 670\n",
      "1341 equals 3 * 447\n",
      "1342 equals 2 * 671\n",
      "1343 equals 17 * 79\n",
      "1344 equals 2 * 672\n",
      "1345 equals 5 * 269\n",
      "1346 equals 2 * 673\n",
      "1347 equals 3 * 449\n",
      "1348 equals 2 * 674\n",
      "1349 equals 19 * 71\n",
      "1350 equals 2 * 675\n",
      "1351 equals 7 * 193\n",
      "1352 equals 2 * 676\n",
      "1353 equals 3 * 451\n",
      "1354 equals 2 * 677\n",
      "1355 equals 5 * 271\n",
      "1356 equals 2 * 678\n",
      "1357 equals 23 * 59\n",
      "1358 equals 2 * 679\n",
      "1359 equals 3 * 453\n",
      "1360 equals 2 * 680\n",
      "1361 is a prime number\n",
      "1362 equals 2 * 681\n",
      "1363 equals 29 * 47\n",
      "1364 equals 2 * 682\n",
      "1365 equals 3 * 455\n",
      "1366 equals 2 * 683\n",
      "1367 is a prime number\n",
      "1368 equals 2 * 684\n",
      "1369 equals 37 * 37\n",
      "1370 equals 2 * 685\n",
      "1371 equals 3 * 457\n",
      "1372 equals 2 * 686\n",
      "1373 is a prime number\n",
      "1374 equals 2 * 687\n",
      "1375 equals 5 * 275\n",
      "1376 equals 2 * 688\n",
      "1377 equals 3 * 459\n",
      "1378 equals 2 * 689\n",
      "1379 equals 7 * 197\n",
      "1380 equals 2 * 690\n",
      "1381 is a prime number\n",
      "1382 equals 2 * 691\n",
      "1383 equals 3 * 461\n",
      "1384 equals 2 * 692\n",
      "1385 equals 5 * 277\n",
      "1386 equals 2 * 693\n",
      "1387 equals 19 * 73\n",
      "1388 equals 2 * 694\n",
      "1389 equals 3 * 463\n",
      "1390 equals 2 * 695\n",
      "1391 equals 13 * 107\n",
      "1392 equals 2 * 696\n",
      "1393 equals 7 * 199\n",
      "1394 equals 2 * 697\n",
      "1395 equals 3 * 465\n",
      "1396 equals 2 * 698\n",
      "1397 equals 11 * 127\n",
      "1398 equals 2 * 699\n",
      "1399 is a prime number\n",
      "1400 equals 2 * 700\n",
      "1401 equals 3 * 467\n",
      "1402 equals 2 * 701\n",
      "1403 equals 23 * 61\n",
      "1404 equals 2 * 702\n",
      "1405 equals 5 * 281\n",
      "1406 equals 2 * 703\n",
      "1407 equals 3 * 469\n",
      "1408 equals 2 * 704\n",
      "1409 is a prime number\n",
      "1410 equals 2 * 705\n",
      "1411 equals 17 * 83\n",
      "1412 equals 2 * 706\n",
      "1413 equals 3 * 471\n",
      "1414 equals 2 * 707\n",
      "1415 equals 5 * 283\n",
      "1416 equals 2 * 708\n",
      "1417 equals 13 * 109\n",
      "1418 equals 2 * 709\n",
      "1419 equals 3 * 473\n",
      "1420 equals 2 * 710\n",
      "1421 equals 7 * 203\n",
      "1422 equals 2 * 711\n",
      "1423 is a prime number\n",
      "1424 equals 2 * 712\n",
      "1425 equals 3 * 475\n",
      "1426 equals 2 * 713\n",
      "1427 is a prime number\n",
      "1428 equals 2 * 714\n",
      "1429 is a prime number\n",
      "1430 equals 2 * 715\n",
      "1431 equals 3 * 477\n",
      "1432 equals 2 * 716\n",
      "1433 is a prime number\n",
      "1434 equals 2 * 717\n",
      "1435 equals 5 * 287\n",
      "1436 equals 2 * 718\n",
      "1437 equals 3 * 479\n",
      "1438 equals 2 * 719\n",
      "1439 is a prime number\n",
      "1440 equals 2 * 720\n",
      "1441 equals 11 * 131\n",
      "1442 equals 2 * 721\n",
      "1443 equals 3 * 481\n",
      "1444 equals 2 * 722\n",
      "1445 equals 5 * 289\n",
      "1446 equals 2 * 723\n",
      "1447 is a prime number\n",
      "1448 equals 2 * 724\n",
      "1449 equals 3 * 483\n",
      "1450 equals 2 * 725\n",
      "1451 is a prime number\n",
      "1452 equals 2 * 726\n",
      "1453 is a prime number\n",
      "1454 equals 2 * 727\n",
      "1455 equals 3 * 485\n",
      "1456 equals 2 * 728\n",
      "1457 equals 31 * 47\n",
      "1458 equals 2 * 729\n",
      "1459 is a prime number\n",
      "1460 equals 2 * 730\n",
      "1461 equals 3 * 487\n",
      "1462 equals 2 * 731\n",
      "1463 equals 7 * 209\n",
      "1464 equals 2 * 732\n",
      "1465 equals 5 * 293\n",
      "1466 equals 2 * 733\n",
      "1467 equals 3 * 489\n",
      "1468 equals 2 * 734\n",
      "1469 equals 13 * 113\n",
      "1470 equals 2 * 735\n",
      "1471 is a prime number\n",
      "1472 equals 2 * 736\n",
      "1473 equals 3 * 491\n",
      "1474 equals 2 * 737\n",
      "1475 equals 5 * 295\n",
      "1476 equals 2 * 738\n",
      "1477 equals 7 * 211\n",
      "1478 equals 2 * 739\n",
      "1479 equals 3 * 493\n",
      "1480 equals 2 * 740\n",
      "1481 is a prime number\n",
      "1482 equals 2 * 741\n",
      "1483 is a prime number\n",
      "1484 equals 2 * 742\n",
      "1485 equals 3 * 495\n",
      "1486 equals 2 * 743\n",
      "1487 is a prime number\n",
      "1488 equals 2 * 744\n",
      "1489 is a prime number\n",
      "1490 equals 2 * 745\n",
      "1491 equals 3 * 497\n",
      "1492 equals 2 * 746\n",
      "1493 is a prime number\n",
      "1494 equals 2 * 747\n",
      "1495 equals 5 * 299\n",
      "1496 equals 2 * 748\n",
      "1497 equals 3 * 499\n",
      "1498 equals 2 * 749\n",
      "1499 is a prime number\n",
      "1500 equals 2 * 750\n",
      "1501 equals 19 * 79\n",
      "1502 equals 2 * 751\n",
      "1503 equals 3 * 501\n",
      "1504 equals 2 * 752\n",
      "1505 equals 5 * 301\n",
      "1506 equals 2 * 753\n",
      "1507 equals 11 * 137\n",
      "1508 equals 2 * 754\n",
      "1509 equals 3 * 503\n",
      "1510 equals 2 * 755\n",
      "1511 is a prime number\n",
      "1512 equals 2 * 756\n",
      "1513 equals 17 * 89\n",
      "1514 equals 2 * 757\n",
      "1515 equals 3 * 505\n",
      "1516 equals 2 * 758\n",
      "1517 equals 37 * 41\n",
      "1518 equals 2 * 759\n",
      "1519 equals 7 * 217\n",
      "1520 equals 2 * 760\n",
      "1521 equals 3 * 507\n",
      "1522 equals 2 * 761\n",
      "1523 is a prime number\n",
      "1524 equals 2 * 762\n",
      "1525 equals 5 * 305\n",
      "1526 equals 2 * 763\n",
      "1527 equals 3 * 509\n",
      "1528 equals 2 * 764\n",
      "1529 equals 11 * 139\n",
      "1530 equals 2 * 765\n",
      "1531 is a prime number\n",
      "1532 equals 2 * 766\n",
      "1533 equals 3 * 511\n",
      "1534 equals 2 * 767\n",
      "1535 equals 5 * 307\n",
      "1536 equals 2 * 768\n",
      "1537 equals 29 * 53\n",
      "1538 equals 2 * 769\n",
      "1539 equals 3 * 513\n",
      "1540 equals 2 * 770\n",
      "1541 equals 23 * 67\n",
      "1542 equals 2 * 771\n",
      "1543 is a prime number\n",
      "1544 equals 2 * 772\n",
      "1545 equals 3 * 515\n",
      "1546 equals 2 * 773\n",
      "1547 equals 7 * 221\n",
      "1548 equals 2 * 774\n",
      "1549 is a prime number\n",
      "1550 equals 2 * 775\n",
      "1551 equals 3 * 517\n",
      "1552 equals 2 * 776\n",
      "1553 is a prime number\n",
      "1554 equals 2 * 777\n",
      "1555 equals 5 * 311\n",
      "1556 equals 2 * 778\n",
      "1557 equals 3 * 519\n",
      "1558 equals 2 * 779\n",
      "1559 is a prime number\n",
      "1560 equals 2 * 780\n",
      "1561 equals 7 * 223\n",
      "1562 equals 2 * 781\n",
      "1563 equals 3 * 521\n",
      "1564 equals 2 * 782\n",
      "1565 equals 5 * 313\n",
      "1566 equals 2 * 783\n",
      "1567 is a prime number\n",
      "1568 equals 2 * 784\n",
      "1569 equals 3 * 523\n",
      "1570 equals 2 * 785\n",
      "1571 is a prime number\n",
      "1572 equals 2 * 786\n",
      "1573 equals 11 * 143\n",
      "1574 equals 2 * 787\n",
      "1575 equals 3 * 525\n",
      "1576 equals 2 * 788\n",
      "1577 equals 19 * 83\n",
      "1578 equals 2 * 789\n",
      "1579 is a prime number\n",
      "1580 equals 2 * 790\n",
      "1581 equals 3 * 527\n",
      "1582 equals 2 * 791\n",
      "1583 is a prime number\n",
      "1584 equals 2 * 792\n",
      "1585 equals 5 * 317\n",
      "1586 equals 2 * 793\n",
      "1587 equals 3 * 529\n",
      "1588 equals 2 * 794\n",
      "1589 equals 7 * 227\n",
      "1590 equals 2 * 795\n",
      "1591 equals 37 * 43\n",
      "1592 equals 2 * 796\n",
      "1593 equals 3 * 531\n",
      "1594 equals 2 * 797\n",
      "1595 equals 5 * 319\n",
      "1596 equals 2 * 798\n",
      "1597 is a prime number\n",
      "1598 equals 2 * 799\n",
      "1599 equals 3 * 533\n",
      "1600 equals 2 * 800\n",
      "1601 is a prime number\n",
      "1602 equals 2 * 801\n",
      "1603 equals 7 * 229\n",
      "1604 equals 2 * 802\n",
      "1605 equals 3 * 535\n",
      "1606 equals 2 * 803\n",
      "1607 is a prime number\n",
      "1608 equals 2 * 804\n",
      "1609 is a prime number\n",
      "1610 equals 2 * 805\n",
      "1611 equals 3 * 537\n",
      "1612 equals 2 * 806\n",
      "1613 is a prime number\n",
      "1614 equals 2 * 807\n",
      "1615 equals 5 * 323\n",
      "1616 equals 2 * 808\n",
      "1617 equals 3 * 539\n",
      "1618 equals 2 * 809\n",
      "1619 is a prime number\n",
      "1620 equals 2 * 810\n",
      "1621 is a prime number\n",
      "1622 equals 2 * 811\n",
      "1623 equals 3 * 541\n",
      "1624 equals 2 * 812\n",
      "1625 equals 5 * 325\n",
      "1626 equals 2 * 813\n",
      "1627 is a prime number\n",
      "1628 equals 2 * 814\n",
      "1629 equals 3 * 543\n",
      "1630 equals 2 * 815\n",
      "1631 equals 7 * 233\n",
      "1632 equals 2 * 816\n",
      "1633 equals 23 * 71\n",
      "1634 equals 2 * 817\n",
      "1635 equals 3 * 545\n",
      "1636 equals 2 * 818\n",
      "1637 is a prime number\n",
      "1638 equals 2 * 819\n",
      "1639 equals 11 * 149\n",
      "1640 equals 2 * 820\n",
      "1641 equals 3 * 547\n",
      "1642 equals 2 * 821\n",
      "1643 equals 31 * 53\n",
      "1644 equals 2 * 822\n",
      "1645 equals 5 * 329\n",
      "1646 equals 2 * 823\n",
      "1647 equals 3 * 549\n",
      "1648 equals 2 * 824\n",
      "1649 equals 17 * 97\n",
      "1650 equals 2 * 825\n",
      "1651 equals 13 * 127\n",
      "1652 equals 2 * 826\n",
      "1653 equals 3 * 551\n",
      "1654 equals 2 * 827\n",
      "1655 equals 5 * 331\n",
      "1656 equals 2 * 828\n",
      "1657 is a prime number\n",
      "1658 equals 2 * 829\n",
      "1659 equals 3 * 553\n",
      "1660 equals 2 * 830\n",
      "1661 equals 11 * 151\n",
      "1662 equals 2 * 831\n",
      "1663 is a prime number\n",
      "1664 equals 2 * 832\n",
      "1665 equals 3 * 555\n",
      "1666 equals 2 * 833\n",
      "1667 is a prime number\n",
      "1668 equals 2 * 834\n",
      "1669 is a prime number\n",
      "1670 equals 2 * 835\n",
      "1671 equals 3 * 557\n",
      "1672 equals 2 * 836\n",
      "1673 equals 7 * 239\n",
      "1674 equals 2 * 837\n",
      "1675 equals 5 * 335\n",
      "1676 equals 2 * 838\n",
      "1677 equals 3 * 559\n",
      "1678 equals 2 * 839\n",
      "1679 equals 23 * 73\n",
      "1680 equals 2 * 840\n",
      "1681 equals 41 * 41\n",
      "1682 equals 2 * 841\n",
      "1683 equals 3 * 561\n",
      "1684 equals 2 * 842\n",
      "1685 equals 5 * 337\n",
      "1686 equals 2 * 843\n",
      "1687 equals 7 * 241\n",
      "1688 equals 2 * 844\n",
      "1689 equals 3 * 563\n",
      "1690 equals 2 * 845\n",
      "1691 equals 19 * 89\n",
      "1692 equals 2 * 846\n",
      "1693 is a prime number\n",
      "1694 equals 2 * 847\n",
      "1695 equals 3 * 565\n",
      "1696 equals 2 * 848\n",
      "1697 is a prime number\n",
      "1698 equals 2 * 849\n",
      "1699 is a prime number\n",
      "1700 equals 2 * 850\n",
      "1701 equals 3 * 567\n",
      "1702 equals 2 * 851\n",
      "1703 equals 13 * 131\n",
      "1704 equals 2 * 852\n",
      "1705 equals 5 * 341\n",
      "1706 equals 2 * 853\n",
      "1707 equals 3 * 569\n",
      "1708 equals 2 * 854\n",
      "1709 is a prime number\n",
      "1710 equals 2 * 855\n",
      "1711 equals 29 * 59\n",
      "1712 equals 2 * 856\n",
      "1713 equals 3 * 571\n",
      "1714 equals 2 * 857\n",
      "1715 equals 5 * 343\n",
      "1716 equals 2 * 858\n",
      "1717 equals 17 * 101\n",
      "1718 equals 2 * 859\n",
      "1719 equals 3 * 573\n",
      "1720 equals 2 * 860\n",
      "1721 is a prime number\n",
      "1722 equals 2 * 861\n",
      "1723 is a prime number\n",
      "1724 equals 2 * 862\n",
      "1725 equals 3 * 575\n",
      "1726 equals 2 * 863\n",
      "1727 equals 11 * 157\n",
      "1728 equals 2 * 864\n",
      "1729 equals 7 * 247\n",
      "1730 equals 2 * 865\n",
      "1731 equals 3 * 577\n",
      "1732 equals 2 * 866\n",
      "1733 is a prime number\n",
      "1734 equals 2 * 867\n",
      "1735 equals 5 * 347\n",
      "1736 equals 2 * 868\n",
      "1737 equals 3 * 579\n",
      "1738 equals 2 * 869\n",
      "1739 equals 37 * 47\n",
      "1740 equals 2 * 870\n",
      "1741 is a prime number\n",
      "1742 equals 2 * 871\n",
      "1743 equals 3 * 581\n",
      "1744 equals 2 * 872\n",
      "1745 equals 5 * 349\n",
      "1746 equals 2 * 873\n"
     ]
    },
    {
     "name": "stdout",
     "output_type": "stream",
     "text": [
      "1747 is a prime number\n",
      "1748 equals 2 * 874\n",
      "1749 equals 3 * 583\n",
      "1750 equals 2 * 875\n",
      "1751 equals 17 * 103\n",
      "1752 equals 2 * 876\n",
      "1753 is a prime number\n",
      "1754 equals 2 * 877\n",
      "1755 equals 3 * 585\n",
      "1756 equals 2 * 878\n",
      "1757 equals 7 * 251\n",
      "1758 equals 2 * 879\n",
      "1759 is a prime number\n",
      "1760 equals 2 * 880\n",
      "1761 equals 3 * 587\n",
      "1762 equals 2 * 881\n",
      "1763 equals 41 * 43\n",
      "1764 equals 2 * 882\n",
      "1765 equals 5 * 353\n",
      "1766 equals 2 * 883\n",
      "1767 equals 3 * 589\n",
      "1768 equals 2 * 884\n",
      "1769 equals 29 * 61\n",
      "1770 equals 2 * 885\n",
      "1771 equals 7 * 253\n",
      "1772 equals 2 * 886\n",
      "1773 equals 3 * 591\n",
      "1774 equals 2 * 887\n",
      "1775 equals 5 * 355\n",
      "1776 equals 2 * 888\n",
      "1777 is a prime number\n",
      "1778 equals 2 * 889\n",
      "1779 equals 3 * 593\n",
      "1780 equals 2 * 890\n",
      "1781 equals 13 * 137\n",
      "1782 equals 2 * 891\n",
      "1783 is a prime number\n",
      "1784 equals 2 * 892\n",
      "1785 equals 3 * 595\n",
      "1786 equals 2 * 893\n",
      "1787 is a prime number\n",
      "1788 equals 2 * 894\n",
      "1789 is a prime number\n",
      "1790 equals 2 * 895\n",
      "1791 equals 3 * 597\n",
      "1792 equals 2 * 896\n",
      "1793 equals 11 * 163\n",
      "1794 equals 2 * 897\n",
      "1795 equals 5 * 359\n",
      "1796 equals 2 * 898\n",
      "1797 equals 3 * 599\n",
      "1798 equals 2 * 899\n",
      "1799 equals 7 * 257\n",
      "1800 equals 2 * 900\n",
      "1801 is a prime number\n",
      "1802 equals 2 * 901\n",
      "1803 equals 3 * 601\n",
      "1804 equals 2 * 902\n",
      "1805 equals 5 * 361\n",
      "1806 equals 2 * 903\n",
      "1807 equals 13 * 139\n",
      "1808 equals 2 * 904\n",
      "1809 equals 3 * 603\n",
      "1810 equals 2 * 905\n",
      "1811 is a prime number\n",
      "1812 equals 2 * 906\n",
      "1813 equals 7 * 259\n",
      "1814 equals 2 * 907\n",
      "1815 equals 3 * 605\n",
      "1816 equals 2 * 908\n",
      "1817 equals 23 * 79\n",
      "1818 equals 2 * 909\n",
      "1819 equals 17 * 107\n",
      "1820 equals 2 * 910\n",
      "1821 equals 3 * 607\n",
      "1822 equals 2 * 911\n",
      "1823 is a prime number\n",
      "1824 equals 2 * 912\n",
      "1825 equals 5 * 365\n",
      "1826 equals 2 * 913\n",
      "1827 equals 3 * 609\n",
      "1828 equals 2 * 914\n",
      "1829 equals 31 * 59\n",
      "1830 equals 2 * 915\n",
      "1831 is a prime number\n",
      "1832 equals 2 * 916\n",
      "1833 equals 3 * 611\n",
      "1834 equals 2 * 917\n",
      "1835 equals 5 * 367\n",
      "1836 equals 2 * 918\n",
      "1837 equals 11 * 167\n",
      "1838 equals 2 * 919\n",
      "1839 equals 3 * 613\n",
      "1840 equals 2 * 920\n",
      "1841 equals 7 * 263\n",
      "1842 equals 2 * 921\n",
      "1843 equals 19 * 97\n",
      "1844 equals 2 * 922\n",
      "1845 equals 3 * 615\n",
      "1846 equals 2 * 923\n",
      "1847 is a prime number\n",
      "1848 equals 2 * 924\n",
      "1849 equals 43 * 43\n",
      "1850 equals 2 * 925\n",
      "1851 equals 3 * 617\n",
      "1852 equals 2 * 926\n",
      "1853 equals 17 * 109\n",
      "1854 equals 2 * 927\n",
      "1855 equals 5 * 371\n",
      "1856 equals 2 * 928\n",
      "1857 equals 3 * 619\n",
      "1858 equals 2 * 929\n",
      "1859 equals 11 * 169\n",
      "1860 equals 2 * 930\n",
      "1861 is a prime number\n",
      "1862 equals 2 * 931\n",
      "1863 equals 3 * 621\n",
      "1864 equals 2 * 932\n",
      "1865 equals 5 * 373\n",
      "1866 equals 2 * 933\n",
      "1867 is a prime number\n",
      "1868 equals 2 * 934\n",
      "1869 equals 3 * 623\n",
      "1870 equals 2 * 935\n",
      "1871 is a prime number\n",
      "1872 equals 2 * 936\n",
      "1873 is a prime number\n",
      "1874 equals 2 * 937\n",
      "1875 equals 3 * 625\n",
      "1876 equals 2 * 938\n",
      "1877 is a prime number\n",
      "1878 equals 2 * 939\n",
      "1879 is a prime number\n",
      "1880 equals 2 * 940\n",
      "1881 equals 3 * 627\n",
      "1882 equals 2 * 941\n",
      "1883 equals 7 * 269\n",
      "1884 equals 2 * 942\n",
      "1885 equals 5 * 377\n",
      "1886 equals 2 * 943\n",
      "1887 equals 3 * 629\n",
      "1888 equals 2 * 944\n",
      "1889 is a prime number\n",
      "1890 equals 2 * 945\n",
      "1891 equals 31 * 61\n",
      "1892 equals 2 * 946\n",
      "1893 equals 3 * 631\n",
      "1894 equals 2 * 947\n",
      "1895 equals 5 * 379\n",
      "1896 equals 2 * 948\n",
      "1897 equals 7 * 271\n",
      "1898 equals 2 * 949\n",
      "1899 equals 3 * 633\n",
      "1900 equals 2 * 950\n",
      "1901 is a prime number\n",
      "1902 equals 2 * 951\n",
      "1903 equals 11 * 173\n",
      "1904 equals 2 * 952\n",
      "1905 equals 3 * 635\n",
      "1906 equals 2 * 953\n",
      "1907 is a prime number\n",
      "1908 equals 2 * 954\n",
      "1909 equals 23 * 83\n",
      "1910 equals 2 * 955\n",
      "1911 equals 3 * 637\n",
      "1912 equals 2 * 956\n",
      "1913 is a prime number\n",
      "1914 equals 2 * 957\n",
      "1915 equals 5 * 383\n",
      "1916 equals 2 * 958\n",
      "1917 equals 3 * 639\n",
      "1918 equals 2 * 959\n",
      "1919 equals 19 * 101\n",
      "1920 equals 2 * 960\n",
      "1921 equals 17 * 113\n",
      "1922 equals 2 * 961\n",
      "1923 equals 3 * 641\n",
      "1924 equals 2 * 962\n",
      "1925 equals 5 * 385\n",
      "1926 equals 2 * 963\n",
      "1927 equals 41 * 47\n",
      "1928 equals 2 * 964\n",
      "1929 equals 3 * 643\n",
      "1930 equals 2 * 965\n",
      "1931 is a prime number\n",
      "1932 equals 2 * 966\n",
      "1933 is a prime number\n",
      "1934 equals 2 * 967\n",
      "1935 equals 3 * 645\n",
      "1936 equals 2 * 968\n",
      "1937 equals 13 * 149\n",
      "1938 equals 2 * 969\n",
      "1939 equals 7 * 277\n",
      "1940 equals 2 * 970\n",
      "1941 equals 3 * 647\n",
      "1942 equals 2 * 971\n",
      "1943 equals 29 * 67\n",
      "1944 equals 2 * 972\n",
      "1945 equals 5 * 389\n",
      "1946 equals 2 * 973\n",
      "1947 equals 3 * 649\n",
      "1948 equals 2 * 974\n",
      "1949 is a prime number\n",
      "1950 equals 2 * 975\n",
      "1951 is a prime number\n",
      "1952 equals 2 * 976\n",
      "1953 equals 3 * 651\n",
      "1954 equals 2 * 977\n",
      "1955 equals 5 * 391\n",
      "1956 equals 2 * 978\n",
      "1957 equals 19 * 103\n",
      "1958 equals 2 * 979\n",
      "1959 equals 3 * 653\n",
      "1960 equals 2 * 980\n",
      "1961 equals 37 * 53\n",
      "1962 equals 2 * 981\n",
      "1963 equals 13 * 151\n",
      "1964 equals 2 * 982\n",
      "1965 equals 3 * 655\n",
      "1966 equals 2 * 983\n",
      "1967 equals 7 * 281\n",
      "1968 equals 2 * 984\n",
      "1969 equals 11 * 179\n",
      "1970 equals 2 * 985\n",
      "1971 equals 3 * 657\n",
      "1972 equals 2 * 986\n",
      "1973 is a prime number\n",
      "1974 equals 2 * 987\n",
      "1975 equals 5 * 395\n",
      "1976 equals 2 * 988\n",
      "1977 equals 3 * 659\n",
      "1978 equals 2 * 989\n",
      "1979 is a prime number\n",
      "1980 equals 2 * 990\n",
      "1981 equals 7 * 283\n",
      "1982 equals 2 * 991\n",
      "1983 equals 3 * 661\n",
      "1984 equals 2 * 992\n",
      "1985 equals 5 * 397\n",
      "1986 equals 2 * 993\n",
      "1987 is a prime number\n",
      "1988 equals 2 * 994\n",
      "1989 equals 3 * 663\n",
      "1990 equals 2 * 995\n",
      "1991 equals 11 * 181\n",
      "1992 equals 2 * 996\n",
      "1993 is a prime number\n",
      "1994 equals 2 * 997\n",
      "1995 equals 3 * 665\n",
      "1996 equals 2 * 998\n",
      "1997 is a prime number\n",
      "1998 equals 2 * 999\n",
      "1999 is a prime number\n",
      "2000 equals 2 * 1000\n",
      "2001 equals 3 * 667\n",
      "2002 equals 2 * 1001\n",
      "2003 is a prime number\n",
      "2004 equals 2 * 1002\n",
      "2005 equals 5 * 401\n",
      "2006 equals 2 * 1003\n",
      "2007 equals 3 * 669\n",
      "2008 equals 2 * 1004\n",
      "2009 equals 7 * 287\n",
      "2010 equals 2 * 1005\n",
      "2011 is a prime number\n",
      "2012 equals 2 * 1006\n",
      "2013 equals 3 * 671\n",
      "2014 equals 2 * 1007\n",
      "2015 equals 5 * 403\n",
      "2016 equals 2 * 1008\n",
      "2017 is a prime number\n",
      "2018 equals 2 * 1009\n",
      "2019 equals 3 * 673\n",
      "2020 equals 2 * 1010\n",
      "2021 equals 43 * 47\n",
      "2022 equals 2 * 1011\n",
      "2023 equals 7 * 289\n",
      "2024 equals 2 * 1012\n",
      "2025 equals 3 * 675\n",
      "2026 equals 2 * 1013\n",
      "2027 is a prime number\n",
      "2028 equals 2 * 1014\n",
      "2029 is a prime number\n",
      "2030 equals 2 * 1015\n",
      "2031 equals 3 * 677\n",
      "2032 equals 2 * 1016\n",
      "2033 equals 19 * 107\n",
      "2034 equals 2 * 1017\n",
      "2035 equals 5 * 407\n",
      "2036 equals 2 * 1018\n",
      "2037 equals 3 * 679\n",
      "2038 equals 2 * 1019\n",
      "2039 is a prime number\n",
      "2040 equals 2 * 1020\n",
      "2041 equals 13 * 157\n",
      "2042 equals 2 * 1021\n",
      "2043 equals 3 * 681\n",
      "2044 equals 2 * 1022\n",
      "2045 equals 5 * 409\n",
      "2046 equals 2 * 1023\n",
      "2047 equals 23 * 89\n",
      "2048 equals 2 * 1024\n",
      "2049 equals 3 * 683\n",
      "2050 equals 2 * 1025\n",
      "2051 equals 7 * 293\n",
      "2052 equals 2 * 1026\n",
      "2053 is a prime number\n",
      "2054 equals 2 * 1027\n",
      "2055 equals 3 * 685\n",
      "2056 equals 2 * 1028\n",
      "2057 equals 11 * 187\n",
      "2058 equals 2 * 1029\n",
      "2059 equals 29 * 71\n",
      "2060 equals 2 * 1030\n",
      "2061 equals 3 * 687\n",
      "2062 equals 2 * 1031\n",
      "2063 is a prime number\n",
      "2064 equals 2 * 1032\n",
      "2065 equals 5 * 413\n",
      "2066 equals 2 * 1033\n",
      "2067 equals 3 * 689\n",
      "2068 equals 2 * 1034\n",
      "2069 is a prime number\n",
      "2070 equals 2 * 1035\n",
      "2071 equals 19 * 109\n",
      "2072 equals 2 * 1036\n",
      "2073 equals 3 * 691\n",
      "2074 equals 2 * 1037\n",
      "2075 equals 5 * 415\n",
      "2076 equals 2 * 1038\n",
      "2077 equals 31 * 67\n",
      "2078 equals 2 * 1039\n",
      "2079 equals 3 * 693\n",
      "2080 equals 2 * 1040\n",
      "2081 is a prime number\n",
      "2082 equals 2 * 1041\n",
      "2083 is a prime number\n",
      "2084 equals 2 * 1042\n",
      "2085 equals 3 * 695\n",
      "2086 equals 2 * 1043\n",
      "2087 is a prime number\n",
      "2088 equals 2 * 1044\n",
      "2089 is a prime number\n",
      "2090 equals 2 * 1045\n",
      "2091 equals 3 * 697\n",
      "2092 equals 2 * 1046\n",
      "2093 equals 7 * 299\n",
      "2094 equals 2 * 1047\n",
      "2095 equals 5 * 419\n",
      "2096 equals 2 * 1048\n",
      "2097 equals 3 * 699\n",
      "2098 equals 2 * 1049\n",
      "2099 is a prime number\n",
      "2100 equals 2 * 1050\n",
      "2101 equals 11 * 191\n",
      "2102 equals 2 * 1051\n",
      "2103 equals 3 * 701\n",
      "2104 equals 2 * 1052\n",
      "2105 equals 5 * 421\n",
      "2106 equals 2 * 1053\n",
      "2107 equals 7 * 301\n",
      "2108 equals 2 * 1054\n",
      "2109 equals 3 * 703\n",
      "2110 equals 2 * 1055\n",
      "2111 is a prime number\n",
      "2112 equals 2 * 1056\n",
      "2113 is a prime number\n",
      "2114 equals 2 * 1057\n",
      "2115 equals 3 * 705\n",
      "2116 equals 2 * 1058\n",
      "2117 equals 29 * 73\n",
      "2118 equals 2 * 1059\n",
      "2119 equals 13 * 163\n",
      "2120 equals 2 * 1060\n",
      "2121 equals 3 * 707\n",
      "2122 equals 2 * 1061\n",
      "2123 equals 11 * 193\n",
      "2124 equals 2 * 1062\n",
      "2125 equals 5 * 425\n",
      "2126 equals 2 * 1063\n",
      "2127 equals 3 * 709\n",
      "2128 equals 2 * 1064\n",
      "2129 is a prime number\n",
      "2130 equals 2 * 1065\n",
      "2131 is a prime number\n",
      "2132 equals 2 * 1066\n",
      "2133 equals 3 * 711\n",
      "2134 equals 2 * 1067\n",
      "2135 equals 5 * 427\n",
      "2136 equals 2 * 1068\n",
      "2137 is a prime number\n",
      "2138 equals 2 * 1069\n",
      "2139 equals 3 * 713\n",
      "2140 equals 2 * 1070\n",
      "2141 is a prime number\n",
      "2142 equals 2 * 1071\n",
      "2143 is a prime number\n",
      "2144 equals 2 * 1072\n",
      "2145 equals 3 * 715\n",
      "2146 equals 2 * 1073\n",
      "2147 equals 19 * 113\n",
      "2148 equals 2 * 1074\n",
      "2149 equals 7 * 307\n",
      "2150 equals 2 * 1075\n",
      "2151 equals 3 * 717\n",
      "2152 equals 2 * 1076\n",
      "2153 is a prime number\n",
      "2154 equals 2 * 1077\n",
      "2155 equals 5 * 431\n",
      "2156 equals 2 * 1078\n",
      "2157 equals 3 * 719\n",
      "2158 equals 2 * 1079\n",
      "2159 equals 17 * 127\n",
      "2160 equals 2 * 1080\n",
      "2161 is a prime number\n",
      "2162 equals 2 * 1081\n",
      "2163 equals 3 * 721\n",
      "2164 equals 2 * 1082\n",
      "2165 equals 5 * 433\n",
      "2166 equals 2 * 1083\n",
      "2167 equals 11 * 197\n",
      "2168 equals 2 * 1084\n",
      "2169 equals 3 * 723\n",
      "2170 equals 2 * 1085\n",
      "2171 equals 13 * 167\n",
      "2172 equals 2 * 1086\n",
      "2173 equals 41 * 53\n",
      "2174 equals 2 * 1087\n",
      "2175 equals 3 * 725\n",
      "2176 equals 2 * 1088\n",
      "2177 equals 7 * 311\n",
      "2178 equals 2 * 1089\n",
      "2179 is a prime number\n",
      "2180 equals 2 * 1090\n",
      "2181 equals 3 * 727\n",
      "2182 equals 2 * 1091\n",
      "2183 equals 37 * 59\n",
      "2184 equals 2 * 1092\n",
      "2185 equals 5 * 437\n",
      "2186 equals 2 * 1093\n",
      "2187 equals 3 * 729\n",
      "2188 equals 2 * 1094\n",
      "2189 equals 11 * 199\n",
      "2190 equals 2 * 1095\n",
      "2191 equals 7 * 313\n",
      "2192 equals 2 * 1096\n",
      "2193 equals 3 * 731\n",
      "2194 equals 2 * 1097\n",
      "2195 equals 5 * 439\n",
      "2196 equals 2 * 1098\n",
      "2197 equals 13 * 169\n",
      "2198 equals 2 * 1099\n",
      "2199 equals 3 * 733\n",
      "2200 equals 2 * 1100\n",
      "2201 equals 31 * 71\n",
      "2202 equals 2 * 1101\n",
      "2203 is a prime number\n",
      "2204 equals 2 * 1102\n",
      "2205 equals 3 * 735\n",
      "2206 equals 2 * 1103\n",
      "2207 is a prime number\n",
      "2208 equals 2 * 1104\n",
      "2209 equals 47 * 47\n",
      "2210 equals 2 * 1105\n",
      "2211 equals 3 * 737\n",
      "2212 equals 2 * 1106\n",
      "2213 is a prime number\n",
      "2214 equals 2 * 1107\n",
      "2215 equals 5 * 443\n",
      "2216 equals 2 * 1108\n",
      "2217 equals 3 * 739\n",
      "2218 equals 2 * 1109\n",
      "2219 equals 7 * 317\n",
      "2220 equals 2 * 1110\n",
      "2221 is a prime number\n",
      "2222 equals 2 * 1111\n",
      "2223 equals 3 * 741\n",
      "2224 equals 2 * 1112\n",
      "2225 equals 5 * 445\n",
      "2226 equals 2 * 1113\n",
      "2227 equals 17 * 131\n",
      "2228 equals 2 * 1114\n",
      "2229 equals 3 * 743\n",
      "2230 equals 2 * 1115\n",
      "2231 equals 23 * 97\n",
      "2232 equals 2 * 1116\n",
      "2233 equals 7 * 319\n",
      "2234 equals 2 * 1117\n",
      "2235 equals 3 * 745\n",
      "2236 equals 2 * 1118\n",
      "2237 is a prime number\n",
      "2238 equals 2 * 1119\n",
      "2239 is a prime number\n",
      "2240 equals 2 * 1120\n",
      "2241 equals 3 * 747\n",
      "2242 equals 2 * 1121\n",
      "2243 is a prime number\n",
      "2244 equals 2 * 1122\n",
      "2245 equals 5 * 449\n",
      "2246 equals 2 * 1123\n",
      "2247 equals 3 * 749\n",
      "2248 equals 2 * 1124\n",
      "2249 equals 13 * 173\n",
      "2250 equals 2 * 1125\n",
      "2251 is a prime number\n",
      "2252 equals 2 * 1126\n",
      "2253 equals 3 * 751\n",
      "2254 equals 2 * 1127\n",
      "2255 equals 5 * 451\n",
      "2256 equals 2 * 1128\n",
      "2257 equals 37 * 61\n",
      "2258 equals 2 * 1129\n",
      "2259 equals 3 * 753\n",
      "2260 equals 2 * 1130\n",
      "2261 equals 7 * 323\n",
      "2262 equals 2 * 1131\n",
      "2263 equals 31 * 73\n",
      "2264 equals 2 * 1132\n",
      "2265 equals 3 * 755\n",
      "2266 equals 2 * 1133\n",
      "2267 is a prime number\n",
      "2268 equals 2 * 1134\n",
      "2269 is a prime number\n",
      "2270 equals 2 * 1135\n",
      "2271 equals 3 * 757\n",
      "2272 equals 2 * 1136\n",
      "2273 is a prime number\n",
      "2274 equals 2 * 1137\n",
      "2275 equals 5 * 455\n",
      "2276 equals 2 * 1138\n",
      "2277 equals 3 * 759\n",
      "2278 equals 2 * 1139\n",
      "2279 equals 43 * 53\n",
      "2280 equals 2 * 1140\n",
      "2281 is a prime number\n",
      "2282 equals 2 * 1141\n",
      "2283 equals 3 * 761\n",
      "2284 equals 2 * 1142\n",
      "2285 equals 5 * 457\n",
      "2286 equals 2 * 1143\n",
      "2287 is a prime number\n",
      "2288 equals 2 * 1144\n",
      "2289 equals 3 * 763\n",
      "2290 equals 2 * 1145\n",
      "2291 equals 29 * 79\n",
      "2292 equals 2 * 1146\n",
      "2293 is a prime number\n",
      "2294 equals 2 * 1147\n",
      "2295 equals 3 * 765\n",
      "2296 equals 2 * 1148\n",
      "2297 is a prime number\n",
      "2298 equals 2 * 1149\n",
      "2299 equals 11 * 209\n",
      "2300 equals 2 * 1150\n",
      "2301 equals 3 * 767\n",
      "2302 equals 2 * 1151\n",
      "2303 equals 7 * 329\n",
      "2304 equals 2 * 1152\n",
      "2305 equals 5 * 461\n",
      "2306 equals 2 * 1153\n",
      "2307 equals 3 * 769\n",
      "2308 equals 2 * 1154\n",
      "2309 is a prime number\n",
      "2310 equals 2 * 1155\n",
      "2311 is a prime number\n",
      "2312 equals 2 * 1156\n",
      "2313 equals 3 * 771\n",
      "2314 equals 2 * 1157\n",
      "2315 equals 5 * 463\n",
      "2316 equals 2 * 1158\n",
      "2317 equals 7 * 331\n",
      "2318 equals 2 * 1159\n",
      "2319 equals 3 * 773\n",
      "2320 equals 2 * 1160\n",
      "2321 equals 11 * 211\n",
      "2322 equals 2 * 1161\n",
      "2323 equals 23 * 101\n",
      "2324 equals 2 * 1162\n",
      "2325 equals 3 * 775\n",
      "2326 equals 2 * 1163\n",
      "2327 equals 13 * 179\n",
      "2328 equals 2 * 1164\n",
      "2329 equals 17 * 137\n",
      "2330 equals 2 * 1165\n",
      "2331 equals 3 * 777\n",
      "2332 equals 2 * 1166\n",
      "2333 is a prime number\n",
      "2334 equals 2 * 1167\n",
      "2335 equals 5 * 467\n",
      "2336 equals 2 * 1168\n",
      "2337 equals 3 * 779\n",
      "2338 equals 2 * 1169\n",
      "2339 is a prime number\n",
      "2340 equals 2 * 1170\n",
      "2341 is a prime number\n",
      "2342 equals 2 * 1171\n",
      "2343 equals 3 * 781\n",
      "2344 equals 2 * 1172\n",
      "2345 equals 5 * 469\n",
      "2346 equals 2 * 1173\n",
      "2347 is a prime number\n",
      "2348 equals 2 * 1174\n",
      "2349 equals 3 * 783\n",
      "2350 equals 2 * 1175\n",
      "2351 is a prime number\n",
      "2352 equals 2 * 1176\n",
      "2353 equals 13 * 181\n",
      "2354 equals 2 * 1177\n",
      "2355 equals 3 * 785\n",
      "2356 equals 2 * 1178\n",
      "2357 is a prime number\n",
      "2358 equals 2 * 1179\n",
      "2359 equals 7 * 337\n",
      "2360 equals 2 * 1180\n",
      "2361 equals 3 * 787\n",
      "2362 equals 2 * 1181\n",
      "2363 equals 17 * 139\n",
      "2364 equals 2 * 1182\n",
      "2365 equals 5 * 473\n",
      "2366 equals 2 * 1183\n",
      "2367 equals 3 * 789\n",
      "2368 equals 2 * 1184\n",
      "2369 equals 23 * 103\n",
      "2370 equals 2 * 1185\n",
      "2371 is a prime number\n",
      "2372 equals 2 * 1186\n",
      "2373 equals 3 * 791\n",
      "2374 equals 2 * 1187\n",
      "2375 equals 5 * 475\n",
      "2376 equals 2 * 1188\n",
      "2377 is a prime number\n",
      "2378 equals 2 * 1189\n",
      "2379 equals 3 * 793\n",
      "2380 equals 2 * 1190\n",
      "2381 is a prime number\n",
      "2382 equals 2 * 1191\n",
      "2383 is a prime number\n",
      "2384 equals 2 * 1192\n",
      "2385 equals 3 * 795\n",
      "2386 equals 2 * 1193\n",
      "2387 equals 7 * 341\n",
      "2388 equals 2 * 1194\n",
      "2389 is a prime number\n",
      "2390 equals 2 * 1195\n",
      "2391 equals 3 * 797\n",
      "2392 equals 2 * 1196\n",
      "2393 is a prime number\n",
      "2394 equals 2 * 1197\n",
      "2395 equals 5 * 479\n",
      "2396 equals 2 * 1198\n"
     ]
    },
    {
     "name": "stdout",
     "output_type": "stream",
     "text": [
      "2397 equals 3 * 799\n",
      "2398 equals 2 * 1199\n",
      "2399 is a prime number\n",
      "2400 equals 2 * 1200\n",
      "2401 equals 7 * 343\n",
      "2402 equals 2 * 1201\n",
      "2403 equals 3 * 801\n",
      "2404 equals 2 * 1202\n",
      "2405 equals 5 * 481\n",
      "2406 equals 2 * 1203\n",
      "2407 equals 29 * 83\n",
      "2408 equals 2 * 1204\n",
      "2409 equals 3 * 803\n",
      "2410 equals 2 * 1205\n",
      "2411 is a prime number\n",
      "2412 equals 2 * 1206\n",
      "2413 equals 19 * 127\n",
      "2414 equals 2 * 1207\n",
      "2415 equals 3 * 805\n",
      "2416 equals 2 * 1208\n",
      "2417 is a prime number\n",
      "2418 equals 2 * 1209\n",
      "2419 equals 41 * 59\n",
      "2420 equals 2 * 1210\n",
      "2421 equals 3 * 807\n",
      "2422 equals 2 * 1211\n",
      "2423 is a prime number\n",
      "2424 equals 2 * 1212\n",
      "2425 equals 5 * 485\n",
      "2426 equals 2 * 1213\n",
      "2427 equals 3 * 809\n",
      "2428 equals 2 * 1214\n",
      "2429 equals 7 * 347\n",
      "2430 equals 2 * 1215\n",
      "2431 equals 11 * 221\n",
      "2432 equals 2 * 1216\n",
      "2433 equals 3 * 811\n",
      "2434 equals 2 * 1217\n",
      "2435 equals 5 * 487\n",
      "2436 equals 2 * 1218\n",
      "2437 is a prime number\n",
      "2438 equals 2 * 1219\n",
      "2439 equals 3 * 813\n",
      "2440 equals 2 * 1220\n",
      "2441 is a prime number\n",
      "2442 equals 2 * 1221\n",
      "2443 equals 7 * 349\n",
      "2444 equals 2 * 1222\n",
      "2445 equals 3 * 815\n",
      "2446 equals 2 * 1223\n",
      "2447 is a prime number\n",
      "2448 equals 2 * 1224\n",
      "2449 equals 31 * 79\n",
      "2450 equals 2 * 1225\n",
      "2451 equals 3 * 817\n",
      "2452 equals 2 * 1226\n",
      "2453 equals 11 * 223\n",
      "2454 equals 2 * 1227\n",
      "2455 equals 5 * 491\n",
      "2456 equals 2 * 1228\n",
      "2457 equals 3 * 819\n",
      "2458 equals 2 * 1229\n",
      "2459 is a prime number\n",
      "2460 equals 2 * 1230\n",
      "2461 equals 23 * 107\n",
      "2462 equals 2 * 1231\n",
      "2463 equals 3 * 821\n",
      "2464 equals 2 * 1232\n",
      "2465 equals 5 * 493\n",
      "2466 equals 2 * 1233\n",
      "2467 is a prime number\n",
      "2468 equals 2 * 1234\n",
      "2469 equals 3 * 823\n",
      "2470 equals 2 * 1235\n",
      "2471 equals 7 * 353\n",
      "2472 equals 2 * 1236\n",
      "2473 is a prime number\n",
      "2474 equals 2 * 1237\n",
      "2475 equals 3 * 825\n",
      "2476 equals 2 * 1238\n",
      "2477 is a prime number\n",
      "2478 equals 2 * 1239\n",
      "2479 equals 37 * 67\n",
      "2480 equals 2 * 1240\n",
      "2481 equals 3 * 827\n",
      "2482 equals 2 * 1241\n",
      "2483 equals 13 * 191\n",
      "2484 equals 2 * 1242\n",
      "2485 equals 5 * 497\n",
      "2486 equals 2 * 1243\n",
      "2487 equals 3 * 829\n",
      "2488 equals 2 * 1244\n",
      "2489 equals 19 * 131\n",
      "2490 equals 2 * 1245\n",
      "2491 equals 47 * 53\n",
      "2492 equals 2 * 1246\n",
      "2493 equals 3 * 831\n",
      "2494 equals 2 * 1247\n",
      "2495 equals 5 * 499\n",
      "2496 equals 2 * 1248\n",
      "2497 equals 11 * 227\n",
      "2498 equals 2 * 1249\n",
      "2499 equals 3 * 833\n",
      "2500 equals 2 * 1250\n"
     ]
    }
   ],
   "source": [
    "for num in range(2, 2501): # loop from 2 to 25\n",
    "    print(num, end=' ')\n",
    "    for check in range(2, num): # check for divisors between 2 and num-1\n",
    "        if num % check == 0: # we found something that divides in!\n",
    "            print('equals', check, '*', num // check)\n",
    "            break # no need to check any further divisors\n",
    "    else: # hey, we get to use an else here\n",
    "        print('is a prime number')"
   ]
  },
  {
   "cell_type": "code",
   "execution_count": 69,
   "id": "wrapped-independence",
   "metadata": {},
   "outputs": [
    {
     "data": {
      "text/plain": [
       "'Hello'"
      ]
     },
     "execution_count": 69,
     "metadata": {},
     "output_type": "execute_result"
    }
   ],
   "source": [
    "\"olleH\"[::-1]"
   ]
  },
  {
   "cell_type": "code",
   "execution_count": 1,
   "id": "weekly-planet",
   "metadata": {},
   "outputs": [
    {
     "data": {
      "text/plain": [
       "str"
      ]
     },
     "execution_count": 1,
     "metadata": {},
     "output_type": "execute_result"
    }
   ],
   "source": [
    "type('string')"
   ]
  },
  {
   "cell_type": "code",
   "execution_count": 3,
   "id": "arabic-worry",
   "metadata": {},
   "outputs": [],
   "source": [
    "%config Completer.use_jedi = False"
   ]
  },
  {
   "cell_type": "code",
   "execution_count": 4,
   "id": "light-freedom",
   "metadata": {},
   "outputs": [],
   "source": [
    "string = 'Python'"
   ]
  },
  {
   "cell_type": "code",
   "execution_count": 5,
   "id": "convertible-soccer",
   "metadata": {},
   "outputs": [
    {
     "name": "stdout",
     "output_type": "stream",
     "text": [
      "The Zen of Python, by Tim Peters\n",
      "\n",
      "Beautiful is better than ugly.\n",
      "Explicit is better than implicit.\n",
      "Simple is better than complex.\n",
      "Complex is better than complicated.\n",
      "Flat is better than nested.\n",
      "Sparse is better than dense.\n",
      "Readability counts.\n",
      "Special cases aren't special enough to break the rules.\n",
      "Although practicality beats purity.\n",
      "Errors should never pass silently.\n",
      "Unless explicitly silenced.\n",
      "In the face of ambiguity, refuse the temptation to guess.\n",
      "There should be one-- and preferably only one --obvious way to do it.\n",
      "Although that way may not be obvious at first unless you're Dutch.\n",
      "Now is better than never.\n",
      "Although never is often better than *right* now.\n",
      "If the implementation is hard to explain, it's a bad idea.\n",
      "If the implementation is easy to explain, it may be a good idea.\n",
      "Namespaces are one honking great idea -- let's do more of those!\n"
     ]
    }
   ],
   "source": [
    "import this"
   ]
  },
  {
   "cell_type": "code",
   "execution_count": 6,
   "id": "engaged-cartoon",
   "metadata": {},
   "outputs": [
    {
     "data": {
      "text/plain": [
       "'/usr/local/lib/python3.7/this.py'"
      ]
     },
     "execution_count": 6,
     "metadata": {},
     "output_type": "execute_result"
    }
   ],
   "source": [
    "this.__file__"
   ]
  },
  {
   "cell_type": "code",
   "execution_count": 7,
   "id": "double-amendment",
   "metadata": {},
   "outputs": [],
   "source": [
    "string = 'hello'"
   ]
  },
  {
   "cell_type": "code",
   "execution_count": 8,
   "id": "duplicate-comfort",
   "metadata": {},
   "outputs": [
    {
     "data": {
      "text/plain": [
       "'h'"
      ]
     },
     "execution_count": 8,
     "metadata": {},
     "output_type": "execute_result"
    }
   ],
   "source": [
    "string[0]"
   ]
  },
  {
   "cell_type": "code",
   "execution_count": 9,
   "id": "compressed-enemy",
   "metadata": {},
   "outputs": [
    {
     "ename": "TypeError",
     "evalue": "'str' object does not support item assignment",
     "output_type": "error",
     "traceback": [
      "\u001b[0;31m---------------------------------------------------------------------------\u001b[0m",
      "\u001b[0;31mTypeError\u001b[0m                                 Traceback (most recent call last)",
      "\u001b[0;32m<ipython-input-9-3bf2f91914b3>\u001b[0m in \u001b[0;36m<module>\u001b[0;34m\u001b[0m\n\u001b[0;32m----> 1\u001b[0;31m \u001b[0mstring\u001b[0m\u001b[0;34m[\u001b[0m\u001b[0;36m0\u001b[0m\u001b[0;34m]\u001b[0m \u001b[0;34m=\u001b[0m \u001b[0;34m'j'\u001b[0m\u001b[0;34m\u001b[0m\u001b[0;34m\u001b[0m\u001b[0m\n\u001b[0m",
      "\u001b[0;31mTypeError\u001b[0m: 'str' object does not support item assignment"
     ]
    }
   ],
   "source": [
    "string[0] = 'j'"
   ]
  },
  {
   "cell_type": "code",
   "execution_count": 13,
   "id": "palestinian-destiny",
   "metadata": {},
   "outputs": [
    {
     "data": {
      "text/plain": [
       "140187069254320"
      ]
     },
     "execution_count": 13,
     "metadata": {},
     "output_type": "execute_result"
    }
   ],
   "source": [
    "string = 'jello'\n",
    "id(string)"
   ]
  },
  {
   "cell_type": "code",
   "execution_count": 14,
   "id": "radical-breath",
   "metadata": {},
   "outputs": [
    {
     "data": {
      "text/plain": [
       "140187069257328"
      ]
     },
     "execution_count": 14,
     "metadata": {},
     "output_type": "execute_result"
    }
   ],
   "source": [
    "string += ' tastes good'\n",
    "id(string)"
   ]
  },
  {
   "cell_type": "code",
   "execution_count": 15,
   "id": "ordinary-crime",
   "metadata": {},
   "outputs": [
    {
     "data": {
      "text/plain": [
       "'jello tastes good'"
      ]
     },
     "execution_count": 15,
     "metadata": {},
     "output_type": "execute_result"
    }
   ],
   "source": [
    "string"
   ]
  },
  {
   "cell_type": "markdown",
   "id": "paperback-renewal",
   "metadata": {},
   "source": [
    "## Lab: String Functions\n",
    "* write a Python program which prompts the user for a string and a stride (increment), and alternately makes the string upper case and lower case, stride characters at a time, e.g.,\n",
    "![alt-text](images/uplow.png \"uplow\")\n"
   ]
  },
  {
   "cell_type": "code",
   "execution_count": 41,
   "id": "comprehensive-fantasy",
   "metadata": {},
   "outputs": [
    {
     "name": "stdout",
     "output_type": "stream",
     "text": [
      "Enter a string: abcdefghijklmnopqrstuvwxyz\n"
     ]
    }
   ],
   "source": [
    "string = input('Enter a string: ')"
   ]
  },
  {
   "cell_type": "code",
   "execution_count": 17,
   "id": "improving-prediction",
   "metadata": {},
   "outputs": [
    {
     "name": "stdout",
     "output_type": "stream",
     "text": [
      "Enter a stride: 4\n"
     ]
    }
   ],
   "source": [
    "stride = int(input('Enter a stride: ')) # will break if they don't comply"
   ]
  },
  {
   "cell_type": "code",
   "execution_count": 18,
   "id": "sophisticated-walter",
   "metadata": {},
   "outputs": [
    {
     "data": {
      "text/plain": [
       "4"
      ]
     },
     "execution_count": 18,
     "metadata": {},
     "output_type": "execute_result"
    }
   ],
   "source": [
    "stride"
   ]
  },
  {
   "cell_type": "code",
   "execution_count": 19,
   "id": "confirmed-matter",
   "metadata": {},
   "outputs": [
    {
     "data": {
      "text/plain": [
       "'abcd'"
      ]
     },
     "execution_count": 19,
     "metadata": {},
     "output_type": "execute_result"
    }
   ],
   "source": [
    "string[0:4]"
   ]
  },
  {
   "cell_type": "code",
   "execution_count": 20,
   "id": "quality-agenda",
   "metadata": {},
   "outputs": [
    {
     "data": {
      "text/plain": [
       "'efgh'"
      ]
     },
     "execution_count": 20,
     "metadata": {},
     "output_type": "execute_result"
    }
   ],
   "source": [
    "string[4:8]"
   ]
  },
  {
   "cell_type": "code",
   "execution_count": 21,
   "id": "defensive-schedule",
   "metadata": {},
   "outputs": [
    {
     "data": {
      "text/plain": [
       "'ijkl'"
      ]
     },
     "execution_count": 21,
     "metadata": {},
     "output_type": "execute_result"
    }
   ],
   "source": [
    "string[8:12]"
   ]
  },
  {
   "cell_type": "code",
   "execution_count": 22,
   "id": "professional-brook",
   "metadata": {},
   "outputs": [
    {
     "data": {
      "text/plain": [
       "'mnop'"
      ]
     },
     "execution_count": 22,
     "metadata": {},
     "output_type": "execute_result"
    }
   ],
   "source": [
    "string[12:12 + stride]"
   ]
  },
  {
   "cell_type": "code",
   "execution_count": 24,
   "id": "early-liechtenstein",
   "metadata": {},
   "outputs": [
    {
     "name": "stdout",
     "output_type": "stream",
     "text": [
      "0:4\n",
      "4:8\n",
      "8:12\n",
      "12:16\n",
      "16:20\n",
      "20:24\n",
      "24:28\n"
     ]
    }
   ],
   "source": [
    "for index in range(0, len(string), stride):\n",
    "    print(index, ':', index + stride, sep='')"
   ]
  },
  {
   "cell_type": "code",
   "execution_count": 25,
   "id": "selected-marshall",
   "metadata": {},
   "outputs": [
    {
     "data": {
      "text/plain": [
       "'yz'"
      ]
     },
     "execution_count": 25,
     "metadata": {},
     "output_type": "execute_result"
    }
   ],
   "source": [
    "string[24:28]"
   ]
  },
  {
   "cell_type": "code",
   "execution_count": 26,
   "id": "dynamic-digest",
   "metadata": {},
   "outputs": [
    {
     "data": {
      "text/plain": [
       "''"
      ]
     },
     "execution_count": 26,
     "metadata": {},
     "output_type": "execute_result"
    }
   ],
   "source": [
    "string[57:88]"
   ]
  },
  {
   "cell_type": "code",
   "execution_count": 27,
   "id": "oriental-isaac",
   "metadata": {},
   "outputs": [
    {
     "name": "stdout",
     "output_type": "stream",
     "text": [
      "0:4 abcd\n",
      "4:8 efgh\n",
      "8:12 ijkl\n",
      "12:16 mnop\n",
      "16:20 qrst\n",
      "20:24 uvwx\n",
      "24:28 yz\n"
     ]
    }
   ],
   "source": [
    "for index in range(0, len(string), stride):\n",
    "    print(index, ':', index + stride, ' ', string[index:index + stride], sep='')"
   ]
  },
  {
   "cell_type": "code",
   "execution_count": null,
   "id": "fresh-audit",
   "metadata": {},
   "outputs": [],
   "source": [
    "# Our problem is that we have to alternate upper and lower case\n",
    "#\n",
    "# As humans, that's easy to do–if we get interrupted or forget what we just did,\n",
    "# we can look at what we just did, i.e., we can look at the previous characters"
   ]
  },
  {
   "cell_type": "code",
   "execution_count": 47,
   "id": "median-genre",
   "metadata": {},
   "outputs": [
    {
     "name": "stdout",
     "output_type": "stream",
     "text": [
      "ABCDefghIJKLmnopQRSTuvwxYZ"
     ]
    }
   ],
   "source": [
    "# The most \"programmatic\" way to accomplish the above is to use a Boolean variable.\n",
    "# Naming Boolean vars is important–we typically use a verb for the name, e.g.,\n",
    "# is_done = False\n",
    "#\n",
    "# In this case we want to know whether we are to make the next slice UPPER or lower.\n",
    "# So we could create a variable 'make_upper' which alternates between True and False...\n",
    "\n",
    "make_upper = True # first slice should be UPPER\n",
    "\n",
    "for index in range(0, len(string), stride): # index \"advances\" by stride characters at a time\n",
    "    if make_upper: # == True:\n",
    "        print(string[index:index + stride].upper(), end='')\n",
    "        make_upper = False # so next slice will be lower\n",
    "    else:\n",
    "        print(string[index:index + stride].lower(), end='')\n",
    "        make_upper = True # so next slice will be UPPER"
   ]
  },
  {
   "cell_type": "code",
   "execution_count": 49,
   "id": "requested-broad",
   "metadata": {},
   "outputs": [
    {
     "name": "stdout",
     "output_type": "stream",
     "text": [
      "ABCDabcdIJKLijklQRSTqrstYZ"
     ]
    }
   ],
   "source": [
    "# Another way to do it without a Boolean variable would be to count home many slices you\n",
    "# are writing to the screen, and make the odd-numbered slices UPPER and the even numbered\n",
    "# slices lower case.\n",
    "\n",
    "count = 0\n",
    "\n",
    "for index in range(0, len(string), stride):\n",
    "    count += 1\n",
    "    if count % 2 == 1:\n",
    "        print(string[index:index + stride].upper(), end='')\n",
    "    else:\n",
    "        print(string[index:index + stride].lower(), end='')"
   ]
  },
  {
   "cell_type": "code",
   "execution_count": 48,
   "id": "quiet-optics",
   "metadata": {},
   "outputs": [
    {
     "name": "stdout",
     "output_type": "stream",
     "text": [
      "ABCDefghIJKLmnopQRSTuvwxYZ"
     ]
    }
   ],
   "source": [
    "# ...and if you wanted to be tricky and opaque (you don't), you\n",
    "# could just used index to tell you whether you want UPPER or lower\n",
    "\n",
    "for index in range(0, len(string), stride):\n",
    "    if (index // stride) % 2 == 0:\n",
    "        print(string[index:index + stride].upper(), end='')\n",
    "    else:\n",
    "        print(string[index:index + stride].lower(), end='')"
   ]
  },
  {
   "cell_type": "code",
   "execution_count": 29,
   "id": "particular-repeat",
   "metadata": {},
   "outputs": [
    {
     "data": {
      "text/plain": [
       "'STRING'"
      ]
     },
     "execution_count": 29,
     "metadata": {},
     "output_type": "execute_result"
    }
   ],
   "source": [
    "'string'.upper()"
   ]
  },
  {
   "cell_type": "code",
   "execution_count": 30,
   "id": "plastic-dublin",
   "metadata": {},
   "outputs": [
    {
     "data": {
      "text/plain": [
       "['False',\n",
       " 'None',\n",
       " 'True',\n",
       " 'and',\n",
       " 'as',\n",
       " 'assert',\n",
       " 'async',\n",
       " 'await',\n",
       " 'break',\n",
       " 'class',\n",
       " 'continue',\n",
       " 'def',\n",
       " 'del',\n",
       " 'elif',\n",
       " 'else',\n",
       " 'except',\n",
       " 'finally',\n",
       " 'for',\n",
       " 'from',\n",
       " 'global',\n",
       " 'if',\n",
       " 'import',\n",
       " 'in',\n",
       " 'is',\n",
       " 'lambda',\n",
       " 'nonlocal',\n",
       " 'not',\n",
       " 'or',\n",
       " 'pass',\n",
       " 'raise',\n",
       " 'return',\n",
       " 'try',\n",
       " 'while',\n",
       " 'with',\n",
       " 'yield']"
      ]
     },
     "execution_count": 30,
     "metadata": {},
     "output_type": "execute_result"
    }
   ],
   "source": [
    "import keyword\n",
    "keyword.kwlist"
   ]
  },
  {
   "cell_type": "code",
   "execution_count": 31,
   "id": "naked-survival",
   "metadata": {},
   "outputs": [
    {
     "data": {
      "text/plain": [
       "str"
      ]
     },
     "execution_count": 31,
     "metadata": {},
     "output_type": "execute_result"
    }
   ],
   "source": [
    "type('hi')"
   ]
  },
  {
   "cell_type": "code",
   "execution_count": 32,
   "id": "fossil-klein",
   "metadata": {},
   "outputs": [],
   "source": [
    "str = 'hi'"
   ]
  },
  {
   "cell_type": "code",
   "execution_count": 33,
   "id": "blank-bermuda",
   "metadata": {},
   "outputs": [
    {
     "data": {
      "text/plain": [
       "'hi'"
      ]
     },
     "execution_count": 33,
     "metadata": {},
     "output_type": "execute_result"
    }
   ],
   "source": [
    "str"
   ]
  },
  {
   "cell_type": "code",
   "execution_count": 34,
   "id": "matched-still",
   "metadata": {},
   "outputs": [
    {
     "ename": "TypeError",
     "evalue": "'str' object is not callable",
     "output_type": "error",
     "traceback": [
      "\u001b[0;31m---------------------------------------------------------------------------\u001b[0m",
      "\u001b[0;31mTypeError\u001b[0m                                 Traceback (most recent call last)",
      "\u001b[0;32m<ipython-input-34-f3009d51e428>\u001b[0m in \u001b[0;36m<module>\u001b[0;34m\u001b[0m\n\u001b[0;32m----> 1\u001b[0;31m \u001b[0mstr\u001b[0m\u001b[0;34m(\u001b[0m\u001b[0;36m134\u001b[0m\u001b[0;34m)\u001b[0m\u001b[0;34m\u001b[0m\u001b[0;34m\u001b[0m\u001b[0m\n\u001b[0m",
      "\u001b[0;31mTypeError\u001b[0m: 'str' object is not callable"
     ]
    }
   ],
   "source": [
    "str(134)"
   ]
  },
  {
   "cell_type": "code",
   "execution_count": 35,
   "id": "included-intranet",
   "metadata": {},
   "outputs": [],
   "source": [
    "del str"
   ]
  },
  {
   "cell_type": "code",
   "execution_count": 36,
   "id": "motivated-recipient",
   "metadata": {},
   "outputs": [
    {
     "data": {
      "text/plain": [
       "'134'"
      ]
     },
     "execution_count": 36,
     "metadata": {},
     "output_type": "execute_result"
    }
   ],
   "source": [
    "str(134)"
   ]
  },
  {
   "cell_type": "code",
   "execution_count": 37,
   "id": "cardiac-liquid",
   "metadata": {},
   "outputs": [],
   "source": [
    "string = 'hi'"
   ]
  },
  {
   "cell_type": "code",
   "execution_count": 39,
   "id": "guided-boutique",
   "metadata": {},
   "outputs": [
    {
     "ename": "SyntaxError",
     "evalue": "invalid syntax (<ipython-input-39-d7549b45180c>, line 1)",
     "output_type": "error",
     "traceback": [
      "\u001b[0;36m  File \u001b[0;32m\"<ipython-input-39-d7549b45180c>\"\u001b[0;36m, line \u001b[0;32m1\u001b[0m\n\u001b[0;31m    if = 3\u001b[0m\n\u001b[0m       ^\u001b[0m\n\u001b[0;31mSyntaxError\u001b[0m\u001b[0;31m:\u001b[0m invalid syntax\n"
     ]
    }
   ],
   "source": [
    "if = 3"
   ]
  },
  {
   "cell_type": "code",
   "execution_count": 46,
   "id": "published-taxation",
   "metadata": {},
   "outputs": [],
   "source": [
    "%config Completer.use_jedi = False\n",
    "# ..."
   ]
  },
  {
   "cell_type": "code",
   "execution_count": 50,
   "id": "tender-lover",
   "metadata": {},
   "outputs": [
    {
     "ename": "AttributeError",
     "evalue": "'list' object has no attribute 'join'",
     "output_type": "error",
     "traceback": [
      "\u001b[0;31m---------------------------------------------------------------------------\u001b[0m",
      "\u001b[0;31mAttributeError\u001b[0m                            Traceback (most recent call last)",
      "\u001b[0;32m<ipython-input-50-20a949acfe36>\u001b[0m in \u001b[0;36m<module>\u001b[0;34m\u001b[0m\n\u001b[0;32m----> 1\u001b[0;31m \u001b[0;34m[\u001b[0m\u001b[0;34m'a'\u001b[0m\u001b[0;34m,\u001b[0m \u001b[0;34m'b'\u001b[0m\u001b[0;34m,\u001b[0m \u001b[0;34m'c'\u001b[0m\u001b[0;34m]\u001b[0m\u001b[0;34m.\u001b[0m\u001b[0mjoin\u001b[0m\u001b[0;34m(\u001b[0m\u001b[0;34m' '\u001b[0m\u001b[0;34m)\u001b[0m\u001b[0;34m\u001b[0m\u001b[0;34m\u001b[0m\u001b[0m\n\u001b[0m",
      "\u001b[0;31mAttributeError\u001b[0m: 'list' object has no attribute 'join'"
     ]
    }
   ],
   "source": [
    "['a', 'b', 'c'].join(' ') # incorrect, but what we may want at first"
   ]
  },
  {
   "cell_type": "code",
   "execution_count": 53,
   "id": "atmospheric-wilderness",
   "metadata": {},
   "outputs": [
    {
     "data": {
      "text/plain": [
       "'s...t...r...i...n...g'"
      ]
     },
     "execution_count": 53,
     "metadata": {},
     "output_type": "execute_result"
    }
   ],
   "source": [
    "'...'.join('string')"
   ]
  },
  {
   "cell_type": "code",
   "execution_count": 1,
   "id": "social-frame",
   "metadata": {},
   "outputs": [
    {
     "data": {
      "text/plain": [
       "False"
      ]
     },
     "execution_count": 1,
     "metadata": {},
     "output_type": "execute_result"
    }
   ],
   "source": [
    "[1, 2, 3] == [1, 3, 2]"
   ]
  },
  {
   "cell_type": "code",
   "execution_count": 2,
   "id": "senior-contrary",
   "metadata": {},
   "outputs": [
    {
     "data": {
      "text/plain": [
       "True"
      ]
     },
     "execution_count": 2,
     "metadata": {},
     "output_type": "execute_result"
    }
   ],
   "source": [
    "[1, 2, 3] == [1.0, 2.0, 3.0]"
   ]
  },
  {
   "cell_type": "code",
   "execution_count": 3,
   "id": "amber-employer",
   "metadata": {},
   "outputs": [
    {
     "data": {
      "text/plain": [
       "True"
      ]
     },
     "execution_count": 3,
     "metadata": {},
     "output_type": "execute_result"
    }
   ],
   "source": [
    "1 == 1.0"
   ]
  },
  {
   "cell_type": "code",
   "execution_count": 4,
   "id": "deluxe-islam",
   "metadata": {},
   "outputs": [
    {
     "data": {
      "text/plain": [
       "False"
      ]
     },
     "execution_count": 4,
     "metadata": {},
     "output_type": "execute_result"
    }
   ],
   "source": [
    "[1, 2, 3] == [1, 2, '3']"
   ]
  },
  {
   "cell_type": "code",
   "execution_count": 5,
   "id": "lonely-fabric",
   "metadata": {},
   "outputs": [
    {
     "data": {
      "text/plain": [
       "False"
      ]
     },
     "execution_count": 5,
     "metadata": {},
     "output_type": "execute_result"
    }
   ],
   "source": [
    "3 == '3'"
   ]
  },
  {
   "cell_type": "code",
   "execution_count": 6,
   "id": "parallel-invention",
   "metadata": {},
   "outputs": [
    {
     "data": {
      "text/plain": [
       "[1, 2, 3]"
      ]
     },
     "execution_count": 6,
     "metadata": {},
     "output_type": "execute_result"
    }
   ],
   "source": [
    "sorted([3, 1, 2])"
   ]
  },
  {
   "cell_type": "code",
   "execution_count": 7,
   "id": "intellectual-discrimination",
   "metadata": {},
   "outputs": [
    {
     "data": {
      "text/plain": [
       "['h', 'n', 'o', 'p', 't', 'y']"
      ]
     },
     "execution_count": 7,
     "metadata": {},
     "output_type": "execute_result"
    }
   ],
   "source": [
    "sorted('python')"
   ]
  },
  {
   "cell_type": "code",
   "execution_count": 11,
   "id": "desirable-astronomy",
   "metadata": {},
   "outputs": [
    {
     "data": {
      "text/plain": [
       "True"
      ]
     },
     "execution_count": 11,
     "metadata": {},
     "output_type": "execute_result"
    }
   ],
   "source": [
    "'thing' not in ['things', 'blah']"
   ]
  },
  {
   "cell_type": "markdown",
   "id": "standard-triangle",
   "metadata": {},
   "source": [
    "## Quick Lab: Lists\n",
    "* Write a Python program to read in a list of items possibly containing duplicates, and then constructs a new list which contains the elements from the original list, with the order preserved, but the duplicates removed\n",
    "![alt-text](images/list2.png \"list2\")"
   ]
  },
  {
   "cell_type": "code",
   "execution_count": 42,
   "id": "unlike-favor",
   "metadata": {},
   "outputs": [
    {
     "name": "stdout",
     "output_type": "stream",
     "text": [
      "Enter a list of words: apple fig cherry lemon apple banana fig banana guava\n"
     ]
    }
   ],
   "source": [
    "words = input('Enter a list of words: ').split()"
   ]
  },
  {
   "cell_type": "code",
   "execution_count": 47,
   "id": "institutional-announcement",
   "metadata": {},
   "outputs": [
    {
     "name": "stdout",
     "output_type": "stream",
     "text": [
      "['apple', 'fig', 'cherry', 'lemon', 'apple', 'banana', 'fig', 'banana', 'guava']\n"
     ]
    }
   ],
   "source": [
    "print(words)"
   ]
  },
  {
   "cell_type": "code",
   "execution_count": 48,
   "id": "strange-content",
   "metadata": {},
   "outputs": [],
   "source": [
    "words_no_dupes = [] # start with an empty list"
   ]
  },
  {
   "cell_type": "code",
   "execution_count": 49,
   "id": "following-reproduction",
   "metadata": {},
   "outputs": [],
   "source": [
    "# now let's add each word from words to the new list...\n",
    "# AS LONG AS the word is not already in the new list\n",
    "for word in words: # for each word the user entered\n",
    "    if word not in words_no_dupes:\n",
    "        words_no_dupes.append(word)"
   ]
  },
  {
   "cell_type": "code",
   "execution_count": 50,
   "id": "conceptual-phenomenon",
   "metadata": {},
   "outputs": [
    {
     "name": "stdout",
     "output_type": "stream",
     "text": [
      "['apple', 'fig', 'cherry', 'lemon', 'banana', 'guava']\n"
     ]
    }
   ],
   "source": [
    "# check\n",
    "print(words_no_dupes)"
   ]
  },
  {
   "cell_type": "markdown",
   "id": "korean-produce",
   "metadata": {},
   "source": [
    "## Lab: Lists\n",
    "* Write a Python program to maintain a list \n",
    "  * Read input until the user enters 'quit'\n",
    "  * Words that the user enters should be added to the list\n",
    "  * If a word begins with '-' (e.g., '-foo') it should be removed from the list\n",
    "  * If the user enters only a '-', the list should be reversed\n",
    "  * After each operation, print the list\n",
    "  * Extras:\n",
    "      * If user enters more than one word (e.g, __foo bar__), add \"foo\" and \"bar\" to the list, rather than \"foo bar\"\n",
    "      * Same for \"-\", i.e., __-foo bar__ would remove \"foo\" and \"bar\" from the  list"
   ]
  },
  {
   "cell_type": "code",
   "execution_count": 27,
   "id": "quantitative-chair",
   "metadata": {},
   "outputs": [
    {
     "name": "stdout",
     "output_type": "stream",
     "text": [
      "Tell me what to do: apple\n",
      "Tell me what to do: lemon\n",
      "Tell me what to do: quit\n"
     ]
    }
   ],
   "source": [
    "response = ''\n",
    "while response != 'quit':\n",
    "    # do something w/the response\n",
    "    # ...\n",
    "    response = input('Tell me what to do: ')"
   ]
  },
  {
   "cell_type": "code",
   "execution_count": 28,
   "id": "frank-plane",
   "metadata": {},
   "outputs": [
    {
     "name": "stdout",
     "output_type": "stream",
     "text": [
      "Tell me what to do: apple\n",
      "Tell me what to do: quit\n"
     ]
    }
   ],
   "source": [
    "response = input('Tell me what to do: ')\n",
    "while response != 'quit':\n",
    "    # do something w/the response\n",
    "    # ...\n",
    "    response = input('Tell me what to do: ')"
   ]
  },
  {
   "cell_type": "code",
   "execution_count": 31,
   "id": "twenty-standing",
   "metadata": {},
   "outputs": [
    {
     "name": "stdout",
     "output_type": "stream",
     "text": [
      "Tell me what to do: apple\n",
      "Tell me what to do: lemon\n",
      "Tell me what to do: quit\n"
     ]
    }
   ],
   "source": [
    "while True: # infinite loop\n",
    "    response = input('Tell me what to do: ')\n",
    "    if response == 'quit': # test in middle of loop... 1.5 loop\n",
    "        break\n",
    "    # do the thing...\n",
    "    # more work..."
   ]
  },
  {
   "cell_type": "code",
   "execution_count": 30,
   "id": "seven-restoration",
   "metadata": {},
   "outputs": [
    {
     "ename": "SyntaxError",
     "evalue": "invalid syntax (<ipython-input-30-781a0a9987c9>, line 6)",
     "output_type": "error",
     "traceback": [
      "\u001b[0;36m  File \u001b[0;32m\"<ipython-input-30-781a0a9987c9>\"\u001b[0;36m, line \u001b[0;32m6\u001b[0m\n\u001b[0;31m    while (response := input('Enter something: ')) != 'quit':\u001b[0m\n\u001b[0m                    ^\u001b[0m\n\u001b[0;31mSyntaxError\u001b[0m\u001b[0;31m:\u001b[0m invalid syntax\n"
     ]
    }
   ],
   "source": [
    "# In Python 3.8 a new feature was added that\n",
    "# 1. Made the above much easier to write\n",
    "# 2. caused Guido/BDFL to step down\n",
    "# ...walrus operator\n",
    "\n",
    "while (response := input('Enter something: ')) != 'quit':\n",
    "     print('deal with response:', response)"
   ]
  },
  {
   "cell_type": "code",
   "execution_count": 52,
   "id": "binding-minimum",
   "metadata": {},
   "outputs": [
    {
     "name": "stdout",
     "output_type": "stream",
     "text": [
      "Tell me what to do: quit\n"
     ]
    }
   ],
   "source": [
    "# step 1: handle adding words to the list in each iteration\n",
    "words = []\n",
    "\n",
    "while True: # infinite loop\n",
    "    response = input('Tell me what to do: ')\n",
    "    if response == 'quit': # test in middle of loop... 1.5 loop\n",
    "        break\n",
    "    words.append(response)\n",
    "    print(words)"
   ]
  },
  {
   "cell_type": "code",
   "execution_count": 57,
   "id": "biological-first",
   "metadata": {},
   "outputs": [
    {
     "name": "stdout",
     "output_type": "stream",
     "text": [
      "Tell me what to do: apple\n",
      "['apple']\n",
      "Tell me what to do: -apple\n",
      "[]\n",
      "Tell me what to do: fig\n",
      "['fig']\n",
      "Tell me what to do: lemon\n",
      "['fig', 'lemon']\n",
      "Tell me what to do: -fig\n",
      "['lemon']\n",
      "Tell me what to do: quit\n"
     ]
    }
   ],
   "source": [
    "# step 2: handle removing words from the list (\"-foo\")\n",
    "words = []\n",
    "\n",
    "while True: # infinite loop\n",
    "    response = input('Tell me what to do: ')\n",
    "    if response == 'quit': # test in middle of loop... 1.5 loop\n",
    "        break\n",
    "    if response[0] == '-': # what if response is empty\n",
    "        words.remove(response[1:]) # what if it isn't in the list?\n",
    "    else:\n",
    "        words.append(response)\n",
    "    print(words)"
   ]
  },
  {
   "cell_type": "code",
   "execution_count": 58,
   "id": "opponent-brick",
   "metadata": {},
   "outputs": [
    {
     "name": "stdout",
     "output_type": "stream",
     "text": [
      "Tell me what to do: apple\n",
      "['apple']\n",
      "Tell me what to do: fig\n",
      "['apple', 'fig']\n",
      "Tell me what to do: pear\n",
      "['apple', 'fig', 'pear']\n",
      "Tell me what to do: -\n",
      "['pear', 'fig', 'apple']\n",
      "Tell me what to do: -apple\n",
      "['pear', 'fig']\n",
      "Tell me what to do: quit\n"
     ]
    }
   ],
   "source": [
    "# step 3: handle reversing the list (\"-\")\n",
    "words = []\n",
    "\n",
    "while True: # infinite loop\n",
    "    response = input('Tell me what to do: ')\n",
    "    if response == 'quit': # test in middle of loop... 1.5 loop\n",
    "        break\n",
    "    if response[0] == '-': # what if response is empty\n",
    "        if response == '-': # exactly a -\n",
    "            words = words[::-1] # .reverse()\n",
    "        else: # starts with a -\n",
    "            words.remove(response[1:]) # what if it isn't in the list?\n",
    "    else:\n",
    "        words.append(response)\n",
    "    print(words)"
   ]
  },
  {
   "cell_type": "code",
   "execution_count": 64,
   "id": "empirical-anatomy",
   "metadata": {},
   "outputs": [
    {
     "name": "stdout",
     "output_type": "stream",
     "text": [
      "Tell me what to do: \n",
      "Tell me what to do: \n",
      "Tell me what to do: \n",
      "Tell me what to do: \n",
      "Tell me what to do: \n",
      "Tell me what to do: quit\n"
     ]
    }
   ],
   "source": [
    "# step 4: handle 2+ words per line\n",
    "words = []\n",
    "\n",
    "while True: # infinite loop\n",
    "    response = input('Tell me what to do: ')\n",
    "    if response == 'quit': # test in middle of loop... 1.5 loop\n",
    "        break\n",
    "    if response == '': # they hit return\n",
    "    # if not response:\n",
    "        continue\n",
    "    if response[0] == '-': # what if response is empty\n",
    "        if response == '-': # exactly a -\n",
    "            words = words[::-1] # .reverse()\n",
    "        else: # starts with a -\n",
    "            for word in response[1:].split():\n",
    "                words.remove(word) # what if it isn't in the list?\n",
    "    else:\n",
    "        #for word in response.split():\n",
    "        words.append(response)\n",
    "    print(words)"
   ]
  },
  {
   "cell_type": "code",
   "execution_count": 41,
   "id": "german-commons",
   "metadata": {},
   "outputs": [
    {
     "data": {
      "text/plain": [
       "5"
      ]
     },
     "execution_count": 41,
     "metadata": {},
     "output_type": "execute_result"
    }
   ],
   "source": [
    "2 + 3"
   ]
  },
  {
   "cell_type": "code",
   "execution_count": 53,
   "id": "limiting-detector",
   "metadata": {},
   "outputs": [],
   "source": [
    "string = 'hello'"
   ]
  },
  {
   "cell_type": "code",
   "execution_count": 54,
   "id": "involved-recruitment",
   "metadata": {},
   "outputs": [
    {
     "data": {
      "text/plain": [
       "'h'"
      ]
     },
     "execution_count": 54,
     "metadata": {},
     "output_type": "execute_result"
    }
   ],
   "source": [
    "string[0]"
   ]
  },
  {
   "cell_type": "code",
   "execution_count": 55,
   "id": "neither-harvest",
   "metadata": {},
   "outputs": [],
   "source": [
    "string = ''"
   ]
  },
  {
   "cell_type": "code",
   "execution_count": 56,
   "id": "academic-modem",
   "metadata": {},
   "outputs": [
    {
     "ename": "IndexError",
     "evalue": "string index out of range",
     "output_type": "error",
     "traceback": [
      "\u001b[0;31m---------------------------------------------------------------------------\u001b[0m",
      "\u001b[0;31mIndexError\u001b[0m                                Traceback (most recent call last)",
      "\u001b[0;32m<ipython-input-56-5802b58638b2>\u001b[0m in \u001b[0;36m<module>\u001b[0;34m\u001b[0m\n\u001b[0;32m----> 1\u001b[0;31m \u001b[0mstring\u001b[0m\u001b[0;34m[\u001b[0m\u001b[0;36m0\u001b[0m\u001b[0;34m]\u001b[0m\u001b[0;34m\u001b[0m\u001b[0;34m\u001b[0m\u001b[0m\n\u001b[0m",
      "\u001b[0;31mIndexError\u001b[0m: string index out of range"
     ]
    }
   ],
   "source": [
    "string[0]"
   ]
  },
  {
   "cell_type": "code",
   "execution_count": 66,
   "id": "imposed-entry",
   "metadata": {},
   "outputs": [
    {
     "name": "stdout",
     "output_type": "stream",
     "text": [
      "yes\n"
     ]
    }
   ],
   "source": [
    "x = 5\n",
    "if x: # if x != 0 or 0.0\n",
    "    print('yes')"
   ]
  },
  {
   "cell_type": "code",
   "execution_count": 68,
   "id": "intimate-soviet",
   "metadata": {},
   "outputs": [
    {
     "name": "stdout",
     "output_type": "stream",
     "text": [
      "list has something in it\n"
     ]
    }
   ],
   "source": [
    "mylist = [1, 2, 3]\n",
    "if mylist: # if len(mylist) > 0\n",
    "    print('list has something in it')"
   ]
  },
  {
   "cell_type": "code",
   "execution_count": 69,
   "id": "divine-radiation",
   "metadata": {},
   "outputs": [],
   "source": [
    "empty = []\n",
    "if empty:\n",
    "    print('oops')"
   ]
  },
  {
   "cell_type": "code",
   "execution_count": 70,
   "id": "hydraulic-reason",
   "metadata": {},
   "outputs": [],
   "source": [
    "mylist = [1, 2, 3]"
   ]
  },
  {
   "cell_type": "code",
   "execution_count": 71,
   "id": "premier-horse",
   "metadata": {},
   "outputs": [
    {
     "data": {
      "text/plain": [
       "[3, 2, 1]"
      ]
     },
     "execution_count": 71,
     "metadata": {},
     "output_type": "execute_result"
    }
   ],
   "source": [
    "mylist.reverse()\n",
    "mylist"
   ]
  },
  {
   "cell_type": "code",
   "execution_count": 72,
   "id": "cognitive-movement",
   "metadata": {},
   "outputs": [
    {
     "data": {
      "text/plain": [
       "<function list.reverse()>"
      ]
     },
     "execution_count": 72,
     "metadata": {},
     "output_type": "execute_result"
    }
   ],
   "source": [
    "mylist.reverse"
   ]
  },
  {
   "cell_type": "code",
   "execution_count": 74,
   "id": "affiliated-village",
   "metadata": {},
   "outputs": [
    {
     "data": {
      "text/plain": [
       "<function len(obj, /)>"
      ]
     },
     "execution_count": 74,
     "metadata": {},
     "output_type": "execute_result"
    }
   ],
   "source": [
    "len"
   ]
  },
  {
   "cell_type": "code",
   "execution_count": 75,
   "id": "interstate-queens",
   "metadata": {},
   "outputs": [
    {
     "data": {
      "text/plain": [
       "2"
      ]
     },
     "execution_count": 75,
     "metadata": {},
     "output_type": "execute_result"
    }
   ],
   "source": [
    "2"
   ]
  },
  {
   "cell_type": "code",
   "execution_count": 76,
   "id": "civic-aquatic",
   "metadata": {},
   "outputs": [
    {
     "data": {
      "text/plain": [
       "True"
      ]
     },
     "execution_count": 76,
     "metadata": {},
     "output_type": "execute_result"
    }
   ],
   "source": [
    "1 in [0, 1, 2]"
   ]
  },
  {
   "cell_type": "code",
   "execution_count": 77,
   "id": "instructional-professional",
   "metadata": {},
   "outputs": [
    {
     "data": {
      "text/plain": [
       "True"
      ]
     },
     "execution_count": 77,
     "metadata": {},
     "output_type": "execute_result"
    }
   ],
   "source": [
    "'P' in 'Python'"
   ]
  },
  {
   "cell_type": "code",
   "execution_count": 78,
   "id": "neither-chase",
   "metadata": {},
   "outputs": [
    {
     "data": {
      "text/plain": [
       "True"
      ]
     },
     "execution_count": 78,
     "metadata": {},
     "output_type": "execute_result"
    }
   ],
   "source": [
    "'tho' in 'Python'"
   ]
  },
  {
   "cell_type": "code",
   "execution_count": 81,
   "id": "centered-chart",
   "metadata": {},
   "outputs": [
    {
     "name": "stdout",
     "output_type": "stream",
     "text": [
      "[1, 2, 3, 4, 5, 6, 7, 8, 9, 10, 11, 12, 13, 14, 15, 16, 17, 18, 19, 20, 21, 22, 23, 24, 25, 26, 27, 28, 29, 30, 31, 32, 33, 34, 35, 36, 37, 38, 39, 40, 41, 42, 43, 44, 45, 46, 47, 48, 49, 50, 51, 52, 53, 54, 55, 56, 57, 58, 59, 60, 61, 62, 63, 64, 65, 66, 67, 68, 69, 70, 71, 72, 73, 74, 75, 76, 77, 78, 79, 80, 81, 82, 83, 84, 85, 86, 87, 88, 89, 90, 91, 92, 93, 94, 95, 96, 97, 98, 99, 100]\n"
     ]
    }
   ],
   "source": [
    "print(list(range(1, 101)))"
   ]
  },
  {
   "cell_type": "markdown",
   "id": "consolidated-indian",
   "metadata": {},
   "source": [
    "## Lab: List Comprehensions\n",
    "*  Start with Cartesian product example (colors x sizes of t-shirts) and add a third list, __`sleeves = ['short', 'long']`__ then write a new listcomp which generates the Cartesian product __`colors x sizes x sleeves`__. __`tshirts`__ should look like this:<pre><b>\n",
    "    [['black', 'S', 'short'],\n",
    "     ['black', 'S', 'long'],\n",
    "     ['black', 'M', 'short'],\n",
    "     ['black', 'M', 'long'],\n",
    "     ['black', 'L', 'short'],\n",
    "     ['black', 'L', 'long'],\n",
    "     ['white', 'S', 'short'],\n",
    "     ['white', 'S', 'long'],\n",
    "     ['white', 'M', 'short'],\n",
    "     ['white', 'M', 'long'],\n",
    "     ['white', 'L', 'short'],\n",
    "     ['white', 'L', 'long']]\n",
    "</b></pre>"
   ]
  },
  {
   "cell_type": "code",
   "execution_count": 82,
   "id": "revised-welcome",
   "metadata": {},
   "outputs": [
    {
     "data": {
      "text/plain": [
       "[['black', 'S', 'short'],\n",
       " ['black', 'S', 'long'],\n",
       " ['black', 'M', 'short'],\n",
       " ['black', 'M', 'long'],\n",
       " ['black', 'L', 'short'],\n",
       " ['black', 'L', 'long'],\n",
       " ['black', 'XL', 'short'],\n",
       " ['black', 'XL', 'long'],\n",
       " ['white', 'S', 'short'],\n",
       " ['white', 'S', 'long'],\n",
       " ['white', 'M', 'short'],\n",
       " ['white', 'M', 'long'],\n",
       " ['white', 'L', 'short'],\n",
       " ['white', 'L', 'long'],\n",
       " ['white', 'XL', 'short'],\n",
       " ['white', 'XL', 'long']]"
      ]
     },
     "execution_count": 82,
     "metadata": {},
     "output_type": "execute_result"
    }
   ],
   "source": [
    "colors = ['black', 'white']\n",
    "sizes = ['S', 'M', 'L', 'XL']\n",
    "sleeves = ['short', 'long']\n",
    "\n",
    "tshirts = [[color, size, sleeve] for color in colors\n",
    "                                    for size in sizes\n",
    "                                       for sleeve in sleeves]\n",
    "tshirts"
   ]
  },
  {
   "cell_type": "markdown",
   "id": "numeric-lodging",
   "metadata": {},
   "source": [
    "* Use a list comprehension to create a list of the squares of the integers from 1 to 25 (i.e, 1, 4, 9, 16, …, 625)"
   ]
  },
  {
   "cell_type": "code",
   "execution_count": 91,
   "id": "liked-disaster",
   "metadata": {},
   "outputs": [
    {
     "name": "stdout",
     "output_type": "stream",
     "text": [
      "[1, 4, 9, 16, 25, 36, 49, 64, 81, 100, 121, 144, 169, 196, 225, 256, 289, 324, 361, 400, 441, 484, 529, 576, 625]\n"
     ]
    }
   ],
   "source": [
    "squares = [num * num for num in range(1, 26)]\n",
    "print(squares)"
   ]
  },
  {
   "cell_type": "markdown",
   "id": "silent-phase",
   "metadata": {},
   "source": [
    "* Given a list of words, create a second list which contains all the words from the first list which do not end with a vowel"
   ]
  },
  {
   "cell_type": "code",
   "execution_count": 87,
   "id": "rural-karaoke",
   "metadata": {},
   "outputs": [
    {
     "name": "stdout",
     "output_type": "stream",
     "text": [
      "['fig', 'pear', 'lemon']\n"
     ]
    }
   ],
   "source": [
    "words = 'apple fig pear banana lemon cherry guava'.split()\n",
    "words_no_end_in_vowel = [word for word in words\n",
    "                                    if word[-1] not in 'aeiouy']\n",
    "print(words_no_end_in_vowel)"
   ]
  },
  {
   "cell_type": "markdown",
   "id": "wrapped-carroll",
   "metadata": {},
   "source": [
    "* Use a list comprehension to create a list of the integers from 1 to 100 which are not divisible by 5"
   ]
  },
  {
   "cell_type": "code",
   "execution_count": 88,
   "id": "convinced-touch",
   "metadata": {},
   "outputs": [
    {
     "name": "stdout",
     "output_type": "stream",
     "text": [
      "[1, 2, 3, 4, 6, 7, 8, 9, 11, 12, 13, 14, 16, 17, 18, 19, 21, 22, 23, 24, 26, 27, 28, 29, 31, 32, 33, 34, 36, 37, 38, 39, 41, 42, 43, 44, 46, 47, 48, 49, 51, 52, 53, 54, 56, 57, 58, 59, 61, 62, 63, 64, 66, 67, 68, 69, 71, 72, 73, 74, 76, 77, 78, 79, 81, 82, 83, 84, 86, 87, 88, 89, 91, 92, 93, 94, 96, 97, 98, 99]\n"
     ]
    }
   ],
   "source": [
    "no_div_by_5 = [num for num in range(1, 101)\n",
    "                          if num % 5]\n",
    "print(no_div_by_5)"
   ]
  },
  {
   "cell_type": "markdown",
   "id": "ordered-adelaide",
   "metadata": {},
   "source": [
    "* Use a list comprehension and __`zip()`__ to create a list of lists, where the list items are name and ID number that you grabbed from separate lists of names and ID numbers\n",
    "  * start with a list of, say, 5 names ['John', 'Mary', 'Edward', 'Linda', 'Dinesh']\n",
    "  * and a list of, say, 5 ID numbers [1003, 2043, 8762, 7862, 1093]\n",
    "  * additional wrinkle: do not include any names whose corresponding ID is -1"
   ]
  },
  {
   "cell_type": "code",
   "execution_count": 89,
   "id": "controlled-basket",
   "metadata": {},
   "outputs": [
    {
     "name": "stdout",
     "output_type": "stream",
     "text": [
      "[['John', 1003], ['Mary', 2043], ['Edward', 8762], ['Linda', 7862], ['Dinesh', 1093]]\n"
     ]
    }
   ],
   "source": [
    "names = ['John', 'Mary', 'Edward', 'Linda', 'Dinesh']\n",
    "ids = [1003, 2043, 8762, 7862, 1093]\n",
    "employees = [[name, id] for name, id in zip(names, ids)]\n",
    "print(employees)"
   ]
  },
  {
   "cell_type": "code",
   "execution_count": 90,
   "id": "numerous-denver",
   "metadata": {},
   "outputs": [
    {
     "name": "stdout",
     "output_type": "stream",
     "text": [
      "[['John', 1003], ['Mary', 2043], ['Edward', 8762], ['Linda', 7862]]\n"
     ]
    }
   ],
   "source": [
    "names = ['John', 'Mary', 'Edward', 'Linda', 'Dinesh']\n",
    "ids = [1003, 2043, 8762, 7862, -1]\n",
    "\n",
    "employees = [[name, id] for name, id in zip(names, ids)\n",
    "                            if id != -1]\n",
    "print(employees)"
   ]
  },
  {
   "cell_type": "code",
   "execution_count": 92,
   "id": "corrected-account",
   "metadata": {},
   "outputs": [],
   "source": [
    "quot, rem = divmod(13, 5)"
   ]
  },
  {
   "cell_type": "code",
   "execution_count": 93,
   "id": "alpine-chassis",
   "metadata": {},
   "outputs": [
    {
     "data": {
      "text/plain": [
       "2"
      ]
     },
     "execution_count": 93,
     "metadata": {},
     "output_type": "execute_result"
    }
   ],
   "source": [
    "quot"
   ]
  },
  {
   "cell_type": "code",
   "execution_count": 95,
   "id": "robust-charlotte",
   "metadata": {},
   "outputs": [
    {
     "data": {
      "text/plain": [
       "3"
      ]
     },
     "execution_count": 95,
     "metadata": {},
     "output_type": "execute_result"
    }
   ],
   "source": [
    "rem"
   ]
  },
  {
   "cell_type": "code",
   "execution_count": 97,
   "id": "spanish-signature",
   "metadata": {},
   "outputs": [],
   "source": [
    "x, y = 1, 2"
   ]
  },
  {
   "cell_type": "code",
   "execution_count": 98,
   "id": "prostate-memorabilia",
   "metadata": {},
   "outputs": [],
   "source": [
    "x, y = y, x"
   ]
  },
  {
   "cell_type": "code",
   "execution_count": 100,
   "id": "green-instrumentation",
   "metadata": {},
   "outputs": [
    {
     "data": {
      "text/plain": [
       "2"
      ]
     },
     "execution_count": 100,
     "metadata": {},
     "output_type": "execute_result"
    }
   ],
   "source": [
    "x"
   ]
  },
  {
   "cell_type": "code",
   "execution_count": 101,
   "id": "respiratory-arrival",
   "metadata": {},
   "outputs": [
    {
     "data": {
      "text/plain": [
       "1"
      ]
     },
     "execution_count": 101,
     "metadata": {},
     "output_type": "execute_result"
    }
   ],
   "source": [
    "y"
   ]
  },
  {
   "cell_type": "code",
   "execution_count": 102,
   "id": "yellow-olive",
   "metadata": {},
   "outputs": [],
   "source": [
    "t = 1, 2, 3, \"\"\"hello\n",
    "there\"\"\""
   ]
  },
  {
   "cell_type": "code",
   "execution_count": 103,
   "id": "healthy-variation",
   "metadata": {},
   "outputs": [
    {
     "data": {
      "text/plain": [
       "(1, 2, 3, 'hello\\nthere')"
      ]
     },
     "execution_count": 103,
     "metadata": {},
     "output_type": "execute_result"
    }
   ],
   "source": [
    "t"
   ]
  },
  {
   "cell_type": "code",
   "execution_count": 107,
   "id": "alive-system",
   "metadata": {},
   "outputs": [],
   "source": [
    "t = 1, 2, 3 \\\n",
    ",4"
   ]
  },
  {
   "cell_type": "code",
   "execution_count": 108,
   "id": "missing-agenda",
   "metadata": {},
   "outputs": [
    {
     "data": {
      "text/plain": [
       "(1, 2, 3, 4)"
      ]
     },
     "execution_count": 108,
     "metadata": {},
     "output_type": "execute_result"
    }
   ],
   "source": [
    "t"
   ]
  },
  {
   "cell_type": "code",
   "execution_count": 109,
   "id": "flying-sterling",
   "metadata": {},
   "outputs": [],
   "source": [
    "employees = [('Smith', 'Mary', 123), \n",
    "             ('Jones', 'Sharon', 345)]"
   ]
  },
  {
   "cell_type": "code",
   "execution_count": 111,
   "id": "fatal-mouse",
   "metadata": {},
   "outputs": [
    {
     "data": {
      "text/plain": [
       "'Jones'"
      ]
     },
     "execution_count": 111,
     "metadata": {},
     "output_type": "execute_result"
    }
   ],
   "source": [
    "employees[1][0]"
   ]
  },
  {
   "cell_type": "code",
   "execution_count": 112,
   "id": "packed-valve",
   "metadata": {},
   "outputs": [
    {
     "data": {
      "text/plain": [
       "(1, 2, 3, 4)"
      ]
     },
     "execution_count": 112,
     "metadata": {},
     "output_type": "execute_result"
    }
   ],
   "source": [
    "t"
   ]
  },
  {
   "cell_type": "code",
   "execution_count": 113,
   "id": "turned-prayer",
   "metadata": {},
   "outputs": [
    {
     "ename": "AttributeError",
     "evalue": "'tuple' object has no attribute 'append'",
     "output_type": "error",
     "traceback": [
      "\u001b[0;31m---------------------------------------------------------------------------\u001b[0m",
      "\u001b[0;31mAttributeError\u001b[0m                            Traceback (most recent call last)",
      "\u001b[0;32m<ipython-input-113-7bc26d8122b5>\u001b[0m in \u001b[0;36m<module>\u001b[0;34m\u001b[0m\n\u001b[0;32m----> 1\u001b[0;31m \u001b[0mt\u001b[0m\u001b[0;34m.\u001b[0m\u001b[0mappend\u001b[0m\u001b[0;34m(\u001b[0m\u001b[0;36m5\u001b[0m\u001b[0;34m)\u001b[0m\u001b[0;34m\u001b[0m\u001b[0;34m\u001b[0m\u001b[0m\n\u001b[0m",
      "\u001b[0;31mAttributeError\u001b[0m: 'tuple' object has no attribute 'append'"
     ]
    }
   ],
   "source": [
    "t.append(5)"
   ]
  },
  {
   "cell_type": "code",
   "execution_count": 114,
   "id": "macro-budget",
   "metadata": {},
   "outputs": [],
   "source": [
    "t = t + (5,) # string = string + 'hello'"
   ]
  },
  {
   "cell_type": "code",
   "execution_count": 115,
   "id": "broad-brain",
   "metadata": {},
   "outputs": [
    {
     "data": {
      "text/plain": [
       "(1, 2, 3, 4, 5)"
      ]
     },
     "execution_count": 115,
     "metadata": {},
     "output_type": "execute_result"
    }
   ],
   "source": [
    "t"
   ]
  },
  {
   "cell_type": "code",
   "execution_count": 119,
   "id": "reserved-happiness",
   "metadata": {},
   "outputs": [],
   "source": [
    " t = 'foo', 1, 4.5, True"
   ]
  },
  {
   "cell_type": "code",
   "execution_count": 120,
   "id": "growing-queensland",
   "metadata": {},
   "outputs": [
    {
     "data": {
      "text/plain": [
       "tuple"
      ]
     },
     "execution_count": 120,
     "metadata": {},
     "output_type": "execute_result"
    }
   ],
   "source": [
    "type(t)"
   ]
  },
  {
   "cell_type": "code",
   "execution_count": 129,
   "id": "advisory-defendant",
   "metadata": {},
   "outputs": [],
   "source": [
    "t = 'zero', 'one', 'two'"
   ]
  },
  {
   "cell_type": "code",
   "execution_count": 130,
   "id": "second-denial",
   "metadata": {},
   "outputs": [
    {
     "data": {
      "text/plain": [
       "tuple"
      ]
     },
     "execution_count": 130,
     "metadata": {},
     "output_type": "execute_result"
    }
   ],
   "source": [
    "type(t)"
   ]
  },
  {
   "cell_type": "code",
   "execution_count": 131,
   "id": "manufactured-oasis",
   "metadata": {},
   "outputs": [
    {
     "data": {
      "text/plain": [
       "('zero', 'one', 'two')"
      ]
     },
     "execution_count": 131,
     "metadata": {},
     "output_type": "execute_result"
    }
   ],
   "source": [
    "t"
   ]
  },
  {
   "cell_type": "code",
   "execution_count": 132,
   "id": "dried-supervision",
   "metadata": {},
   "outputs": [
    {
     "data": {
      "text/plain": [
       "'zero'"
      ]
     },
     "execution_count": 132,
     "metadata": {},
     "output_type": "execute_result"
    }
   ],
   "source": [
    "t[0]"
   ]
  },
  {
   "cell_type": "code",
   "execution_count": 133,
   "id": "piano-health",
   "metadata": {},
   "outputs": [
    {
     "data": {
      "text/plain": [
       "'one'"
      ]
     },
     "execution_count": 133,
     "metadata": {},
     "output_type": "execute_result"
    }
   ],
   "source": [
    "t[1]"
   ]
  },
  {
   "cell_type": "code",
   "execution_count": 134,
   "id": "standing-seattle",
   "metadata": {},
   "outputs": [
    {
     "ename": "TypeError",
     "evalue": "'tuple' object does not support item assignment",
     "output_type": "error",
     "traceback": [
      "\u001b[0;31m---------------------------------------------------------------------------\u001b[0m",
      "\u001b[0;31mTypeError\u001b[0m                                 Traceback (most recent call last)",
      "\u001b[0;32m<ipython-input-134-c53026d12066>\u001b[0m in \u001b[0;36m<module>\u001b[0;34m\u001b[0m\n\u001b[0;32m----> 1\u001b[0;31m \u001b[0mt\u001b[0m\u001b[0;34m[\u001b[0m\u001b[0;36m1\u001b[0m\u001b[0;34m]\u001b[0m \u001b[0;34m=\u001b[0m \u001b[0;36m5\u001b[0m\u001b[0;34m\u001b[0m\u001b[0;34m\u001b[0m\u001b[0m\n\u001b[0m",
      "\u001b[0;31mTypeError\u001b[0m: 'tuple' object does not support item assignment"
     ]
    }
   ],
   "source": [
    "t[1] = 5"
   ]
  },
  {
   "cell_type": "markdown",
   "id": "selective-advertising",
   "metadata": {},
   "source": [
    "## Lab: Tuples\n",
    "* Create a tuple representing a city w/fields of your own choosing (e.g., city name, state/country, population, elevation, etc.)\n",
    "* \"Add\" a field to the tuple–since tuples are immutable, you will have to do this by concatenating tuples\n",
    "* Using the _in_ operator, check to see if a particular value is in the tuple\n",
    "* Using the __`.index()`__ method, find the position of a particular value in the tuple"
   ]
  },
  {
   "cell_type": "code",
   "execution_count": 149,
   "id": "egyptian-frost",
   "metadata": {},
   "outputs": [],
   "source": [
    "city = 'Hyderabad', 'Telengana', 6.81, 1778 # city, state, population in millions, elevation in feet"
   ]
  },
  {
   "cell_type": "code",
   "execution_count": 150,
   "id": "aerial-potato",
   "metadata": {},
   "outputs": [],
   "source": [
    "city += (251,) # Area in sq miles"
   ]
  },
  {
   "cell_type": "code",
   "execution_count": 151,
   "id": "intelligent-darkness",
   "metadata": {},
   "outputs": [
    {
     "data": {
      "text/plain": [
       "('Hyderabad', 'Telengana', 6.81, 1778, 251)"
      ]
     },
     "execution_count": 151,
     "metadata": {},
     "output_type": "execute_result"
    }
   ],
   "source": [
    "city"
   ]
  },
  {
   "cell_type": "code",
   "execution_count": 154,
   "id": "decent-magic",
   "metadata": {},
   "outputs": [
    {
     "data": {
      "text/plain": [
       "True"
      ]
     },
     "execution_count": 154,
     "metadata": {},
     "output_type": "execute_result"
    }
   ],
   "source": [
    "6.81 in city"
   ]
  },
  {
   "cell_type": "code",
   "execution_count": 155,
   "id": "swedish-anime",
   "metadata": {},
   "outputs": [
    {
     "data": {
      "text/plain": [
       "1"
      ]
     },
     "execution_count": 155,
     "metadata": {},
     "output_type": "execute_result"
    }
   ],
   "source": [
    "city.index('Telengana')"
   ]
  },
  {
   "cell_type": "code",
   "execution_count": 156,
   "id": "leading-surveillance",
   "metadata": {},
   "outputs": [
    {
     "ename": "ValueError",
     "evalue": "tuple.index(x): x not in tuple",
     "output_type": "error",
     "traceback": [
      "\u001b[0;31m---------------------------------------------------------------------------\u001b[0m",
      "\u001b[0;31mValueError\u001b[0m                                Traceback (most recent call last)",
      "\u001b[0;32m<ipython-input-156-522c40fd5307>\u001b[0m in \u001b[0;36m<module>\u001b[0;34m\u001b[0m\n\u001b[0;32m----> 1\u001b[0;31m \u001b[0mcity\u001b[0m\u001b[0;34m.\u001b[0m\u001b[0mindex\u001b[0m\u001b[0;34m(\u001b[0m\u001b[0;34m'nope'\u001b[0m\u001b[0;34m)\u001b[0m\u001b[0;34m\u001b[0m\u001b[0;34m\u001b[0m\u001b[0m\n\u001b[0m",
      "\u001b[0;31mValueError\u001b[0m: tuple.index(x): x not in tuple"
     ]
    }
   ],
   "source": [
    "city.index('nope')"
   ]
  },
  {
   "cell_type": "code",
   "execution_count": 158,
   "id": "fossil-psychology",
   "metadata": {},
   "outputs": [
    {
     "name": "stdout",
     "output_type": "stream",
     "text": [
      "['tall', 'venti', 'grande']\n",
      "['tall', 'venti', 'grande']\n",
      "['trenta', 'tall', 'venti', 'grande']\n"
     ]
    }
   ],
   "source": [
    "%%python\n",
    "# execute the cell in Python 2 instead of 3\n",
    "sbux_dict = {'venti': 20, 'tall': 12, 'grande': 16}\n",
    "keys = sbux_dict.keys()\n",
    "print(keys)\n",
    "sbux_dict['trenta'] = 31\n",
    "print(keys)\n",
    "print(sbux_dict.keys())"
   ]
  },
  {
   "cell_type": "code",
   "execution_count": 159,
   "id": "hollow-donor",
   "metadata": {},
   "outputs": [
    {
     "name": "stdout",
     "output_type": "stream",
     "text": [
      "['venti', 'tall', 'grande']\n",
      "['venti', 'tall', 'grande']\n"
     ]
    }
   ],
   "source": [
    "sbux_dict = {'venti': 20, 'tall': 12, 'grande': 16}\n",
    "keys = list(sbux_dict.keys()) # list-ify the view object\n",
    "print(keys)\n",
    "sbux_dict['trenta'] = 31\n",
    "print(keys)"
   ]
  },
  {
   "cell_type": "code",
   "execution_count": 160,
   "id": "welsh-corps",
   "metadata": {},
   "outputs": [
    {
     "name": "stdout",
     "output_type": "stream",
     "text": [
      "/usr/local/bin/2to3\r\n"
     ]
    }
   ],
   "source": [
    "!which 2to3"
   ]
  },
  {
   "cell_type": "code",
   "execution_count": 1,
   "id": "advanced-adrian",
   "metadata": {},
   "outputs": [],
   "source": [
    "mylist = 'this that other'.split()"
   ]
  },
  {
   "cell_type": "code",
   "execution_count": 2,
   "id": "accessory-restaurant",
   "metadata": {},
   "outputs": [
    {
     "data": {
      "text/plain": [
       "['this', 'that', 'other']"
      ]
     },
     "execution_count": 2,
     "metadata": {},
     "output_type": "execute_result"
    }
   ],
   "source": [
    "mylist"
   ]
  },
  {
   "cell_type": "code",
   "execution_count": 3,
   "id": "spectacular-month",
   "metadata": {},
   "outputs": [
    {
     "data": {
      "text/plain": [
       "'this'"
      ]
     },
     "execution_count": 3,
     "metadata": {},
     "output_type": "execute_result"
    }
   ],
   "source": [
    "# indices of the list are 0, 1, 2...\n",
    "mylist[0]"
   ]
  },
  {
   "cell_type": "code",
   "execution_count": 4,
   "id": "precious-publication",
   "metadata": {},
   "outputs": [],
   "source": [
    "d = { 'this': 45, 'that': -5, 'other': 71 }"
   ]
  },
  {
   "cell_type": "code",
   "execution_count": 6,
   "id": "utility-focus",
   "metadata": {},
   "outputs": [
    {
     "data": {
      "text/plain": [
       "{'this': 45, 'that': -5, 'other': 71}"
      ]
     },
     "execution_count": 6,
     "metadata": {},
     "output_type": "execute_result"
    }
   ],
   "source": [
    "# indices of the dict are the keys that I supplied\n",
    "d"
   ]
  },
  {
   "cell_type": "code",
   "execution_count": 7,
   "id": "pleasant-identity",
   "metadata": {},
   "outputs": [
    {
     "data": {
      "text/plain": [
       "45"
      ]
     },
     "execution_count": 7,
     "metadata": {},
     "output_type": "execute_result"
    }
   ],
   "source": [
    "d['this']"
   ]
  },
  {
   "cell_type": "code",
   "execution_count": 8,
   "id": "extraordinary-automation",
   "metadata": {},
   "outputs": [],
   "source": [
    "d = { 0: 'this', 1: 'that', 2: 'other' }"
   ]
  },
  {
   "cell_type": "code",
   "execution_count": 9,
   "id": "british-authorization",
   "metadata": {},
   "outputs": [
    {
     "data": {
      "text/plain": [
       "'this'"
      ]
     },
     "execution_count": 9,
     "metadata": {},
     "output_type": "execute_result"
    }
   ],
   "source": [
    "d[0]"
   ]
  },
  {
   "cell_type": "code",
   "execution_count": 10,
   "id": "unauthorized-stamp",
   "metadata": {},
   "outputs": [
    {
     "data": {
      "text/plain": [
       "'that'"
      ]
     },
     "execution_count": 10,
     "metadata": {},
     "output_type": "execute_result"
    }
   ],
   "source": [
    "d[1]"
   ]
  },
  {
   "cell_type": "code",
   "execution_count": 11,
   "id": "endless-tattoo",
   "metadata": {},
   "outputs": [
    {
     "data": {
      "text/plain": [
       "'other'"
      ]
     },
     "execution_count": 11,
     "metadata": {},
     "output_type": "execute_result"
    }
   ],
   "source": [
    "d[2]"
   ]
  },
  {
   "cell_type": "code",
   "execution_count": 12,
   "id": "tribal-measure",
   "metadata": {},
   "outputs": [
    {
     "name": "stdout",
     "output_type": "stream",
     "text": [
      "0\n",
      "1\n",
      "2\n"
     ]
    }
   ],
   "source": [
    "for thing in d:\n",
    "    print(thing)"
   ]
  },
  {
   "cell_type": "code",
   "execution_count": 13,
   "id": "fifteen-toyota",
   "metadata": {},
   "outputs": [
    {
     "data": {
      "text/plain": [
       "True"
      ]
     },
     "execution_count": 13,
     "metadata": {},
     "output_type": "execute_result"
    }
   ],
   "source": [
    "2 in d"
   ]
  },
  {
   "cell_type": "code",
   "execution_count": 14,
   "id": "bulgarian-telling",
   "metadata": {},
   "outputs": [
    {
     "data": {
      "text/plain": [
       "False"
      ]
     },
     "execution_count": 14,
     "metadata": {},
     "output_type": "execute_result"
    }
   ],
   "source": [
    "3 in d"
   ]
  },
  {
   "cell_type": "code",
   "execution_count": 15,
   "id": "undefined-unemployment",
   "metadata": {},
   "outputs": [
    {
     "data": {
      "text/plain": [
       "False"
      ]
     },
     "execution_count": 15,
     "metadata": {},
     "output_type": "execute_result"
    }
   ],
   "source": [
    "'this' in d"
   ]
  },
  {
   "cell_type": "code",
   "execution_count": 16,
   "id": "bigger-difficulty",
   "metadata": {},
   "outputs": [
    {
     "data": {
      "text/plain": [
       "True"
      ]
     },
     "execution_count": 16,
     "metadata": {},
     "output_type": "execute_result"
    }
   ],
   "source": [
    "'this' in d.values() # check to see if something one of the values"
   ]
  },
  {
   "cell_type": "code",
   "execution_count": 17,
   "id": "received-temperature",
   "metadata": {},
   "outputs": [
    {
     "data": {
      "text/plain": [
       "'other'"
      ]
     },
     "execution_count": 17,
     "metadata": {},
     "output_type": "execute_result"
    }
   ],
   "source": [
    "d[2] # same as d.get(2) except when the key isn't in the dictionary"
   ]
  },
  {
   "cell_type": "code",
   "execution_count": 18,
   "id": "accepting-prize",
   "metadata": {},
   "outputs": [
    {
     "data": {
      "text/plain": [
       "'other'"
      ]
     },
     "execution_count": 18,
     "metadata": {},
     "output_type": "execute_result"
    }
   ],
   "source": [
    "d.get(2)"
   ]
  },
  {
   "cell_type": "code",
   "execution_count": 19,
   "id": "caroline-loading",
   "metadata": {},
   "outputs": [
    {
     "ename": "KeyError",
     "evalue": "3",
     "output_type": "error",
     "traceback": [
      "\u001b[0;31m---------------------------------------------------------------------------\u001b[0m",
      "\u001b[0;31mKeyError\u001b[0m                                  Traceback (most recent call last)",
      "\u001b[0;32m<ipython-input-19-0acadf17a380>\u001b[0m in \u001b[0;36m<module>\u001b[0;34m\u001b[0m\n\u001b[0;32m----> 1\u001b[0;31m \u001b[0md\u001b[0m\u001b[0;34m[\u001b[0m\u001b[0;36m3\u001b[0m\u001b[0;34m]\u001b[0m\u001b[0;34m\u001b[0m\u001b[0;34m\u001b[0m\u001b[0m\n\u001b[0m",
      "\u001b[0;31mKeyError\u001b[0m: 3"
     ]
    }
   ],
   "source": [
    "d[3]"
   ]
  },
  {
   "cell_type": "code",
   "execution_count": 21,
   "id": "dental-diversity",
   "metadata": {},
   "outputs": [
    {
     "name": "stdout",
     "output_type": "stream",
     "text": [
      "None\n"
     ]
    }
   ],
   "source": [
    "print(d.get(3))"
   ]
  },
  {
   "cell_type": "code",
   "execution_count": 22,
   "id": "prepared-restoration",
   "metadata": {},
   "outputs": [],
   "source": [
    "names = {}"
   ]
  },
  {
   "cell_type": "code",
   "execution_count": 23,
   "id": "southern-princess",
   "metadata": {},
   "outputs": [
    {
     "data": {
      "text/plain": [
       "{}"
      ]
     },
     "execution_count": 23,
     "metadata": {},
     "output_type": "execute_result"
    }
   ],
   "source": [
    "names"
   ]
  },
  {
   "cell_type": "code",
   "execution_count": 24,
   "id": "commercial-mitchell",
   "metadata": {},
   "outputs": [],
   "source": [
    "names['Ravi'] = True"
   ]
  },
  {
   "cell_type": "code",
   "execution_count": 25,
   "id": "female-backing",
   "metadata": {},
   "outputs": [
    {
     "data": {
      "text/plain": [
       "{'Ravi': True}"
      ]
     },
     "execution_count": 25,
     "metadata": {},
     "output_type": "execute_result"
    }
   ],
   "source": [
    "names"
   ]
  },
  {
   "cell_type": "code",
   "execution_count": 26,
   "id": "exceptional-stewart",
   "metadata": {},
   "outputs": [],
   "source": [
    "names['Jigar'] = True"
   ]
  },
  {
   "cell_type": "code",
   "execution_count": 27,
   "id": "established-attribute",
   "metadata": {},
   "outputs": [
    {
     "data": {
      "text/plain": [
       "{'Ravi': True, 'Jigar': True}"
      ]
     },
     "execution_count": 27,
     "metadata": {},
     "output_type": "execute_result"
    }
   ],
   "source": [
    "names"
   ]
  },
  {
   "cell_type": "code",
   "execution_count": 28,
   "id": "improving-madrid",
   "metadata": {},
   "outputs": [],
   "source": [
    "names['Colleen'] = True"
   ]
  },
  {
   "cell_type": "code",
   "execution_count": 29,
   "id": "interior-directory",
   "metadata": {},
   "outputs": [
    {
     "data": {
      "text/plain": [
       "{'Ravi': True, 'Jigar': True, 'Colleen': True}"
      ]
     },
     "execution_count": 29,
     "metadata": {},
     "output_type": "execute_result"
    }
   ],
   "source": [
    "names"
   ]
  },
  {
   "cell_type": "code",
   "execution_count": 30,
   "id": "fatty-validation",
   "metadata": {},
   "outputs": [
    {
     "name": "stdout",
     "output_type": "stream",
     "text": [
      "Ravi has done volunteer hours\n"
     ]
    }
   ],
   "source": [
    "if 'Ravi' in names:\n",
    "    print('Ravi has done volunteer hours')"
   ]
  },
  {
   "cell_type": "code",
   "execution_count": 31,
   "id": "million-russian",
   "metadata": {},
   "outputs": [
    {
     "data": {
      "text/plain": [
       "['Colleen', 'Jigar', 'Ravi']"
      ]
     },
     "execution_count": 31,
     "metadata": {},
     "output_type": "execute_result"
    }
   ],
   "source": [
    "sorted(names)"
   ]
  },
  {
   "cell_type": "code",
   "execution_count": 32,
   "id": "educated-anthony",
   "metadata": {},
   "outputs": [
    {
     "data": {
      "text/plain": [
       "['Ravi', 'Jigar', 'Colleen']"
      ]
     },
     "execution_count": 32,
     "metadata": {},
     "output_type": "execute_result"
    }
   ],
   "source": [
    "sorted(names, key=names.get)"
   ]
  },
  {
   "cell_type": "code",
   "execution_count": 33,
   "id": "surprised-symposium",
   "metadata": {},
   "outputs": [],
   "source": [
    "sbux = { 'grande': 16, 'tall': 12, 'venti': 20, 'small': 12}"
   ]
  },
  {
   "cell_type": "code",
   "execution_count": 34,
   "id": "terminal-dancing",
   "metadata": {},
   "outputs": [
    {
     "data": {
      "text/plain": [
       "['tall', 'small', 'grande', 'venti']"
      ]
     },
     "execution_count": 34,
     "metadata": {},
     "output_type": "execute_result"
    }
   ],
   "source": [
    "sorted(sbux, key=sbux.get)"
   ]
  },
  {
   "cell_type": "code",
   "execution_count": 35,
   "id": "athletic-pressing",
   "metadata": {},
   "outputs": [],
   "source": [
    "# stable sort"
   ]
  },
  {
   "cell_type": "code",
   "execution_count": 36,
   "id": "vital-czech",
   "metadata": {},
   "outputs": [],
   "source": [
    "# Timsort ... named after Tim Peters (Zen of Python)"
   ]
  },
  {
   "cell_type": "markdown",
   "id": "signal-better",
   "metadata": {},
   "source": [
    "## Lab: dictionary\n",
    "* use a dict to translate Roman numerals into their Arabic equivalents\n",
    "1. load the dict with Roman numerals M (1000), D (500), C (100), L (50), X (10), V (5), I (1)\n",
    "2. read in a Roman numeral\n",
    "3. print Arabic equivalent\n",
    "4. try it with MCLX = 1000 + 100 + 50 + 10 = 1160\n",
    "4. __If you have time, deal with the case where a smaller number precedes a larger number, e.g., XC = 100 - 10 = 90, or MCM = 1000 + (1000-100) = 1900__\n",
    "4. __MCMXCIX = 1999__"
   ]
  },
  {
   "cell_type": "code",
   "execution_count": 37,
   "id": "liquid-keeping",
   "metadata": {},
   "outputs": [],
   "source": [
    "roman_to_arabic = { \n",
    "    'M': 1000,\n",
    "    'D': (500),\n",
    "    'C': (100),\n",
    "    'L': (50),\n",
    "    'X': (10),\n",
    "    'V': (5),\n",
    "    'I': (1),\n",
    "}"
   ]
  },
  {
   "cell_type": "code",
   "execution_count": 39,
   "id": "binary-civilization",
   "metadata": {},
   "outputs": [
    {
     "data": {
      "text/plain": [
       "{'M': 1000, 'D': 500, 'C': 100, 'L': 50, 'X': 10, 'V': 5, 'I': 1}"
      ]
     },
     "execution_count": 39,
     "metadata": {},
     "output_type": "execute_result"
    }
   ],
   "source": [
    "roman_to_arabic"
   ]
  },
  {
   "cell_type": "code",
   "execution_count": 40,
   "id": "subsequent-compiler",
   "metadata": {},
   "outputs": [
    {
     "data": {
      "text/plain": [
       "100"
      ]
     },
     "execution_count": 40,
     "metadata": {},
     "output_type": "execute_result"
    }
   ],
   "source": [
    "roman_to_arabic['C']"
   ]
  },
  {
   "cell_type": "code",
   "execution_count": null,
   "id": "victorian-scratch",
   "metadata": {},
   "outputs": [],
   "source": [
    "# pass 1: plug each digit into dict and get Arabic val and put into a list\n",
    "# MCMXCIX\n",
    "# [ 1000, 100, 1000, 10, 100, 1, 10 ] = 2221\n",
    "\n",
    "# pass 2:\n",
    "# go over the list one by one, and check to see if any item is less than its \"neighbor\" (index+1)\n",
    "# if so, make the item negative\n",
    "\n",
    "# [ 1000, -100, 1000, -10, 100, -1, 10 ] = 1999"
   ]
  },
  {
   "cell_type": "code",
   "execution_count": 56,
   "id": "victorian-parliament",
   "metadata": {},
   "outputs": [
    {
     "name": "stdout",
     "output_type": "stream",
     "text": [
      "Enter a Roman numeral: MCMXCIX\n"
     ]
    }
   ],
   "source": [
    "roman = input('Enter a Roman numeral: ')"
   ]
  },
  {
   "cell_type": "code",
   "execution_count": 52,
   "id": "pleasant-skating",
   "metadata": {},
   "outputs": [
    {
     "name": "stdout",
     "output_type": "stream",
     "text": [
      "Bad Roman digit: Z\n",
      "[1000, 100, 50, None]\n"
     ]
    }
   ],
   "source": [
    "arabic_vals = [] # empty list into which we will put the Arabic values\n",
    "\n",
    "# grab each digit, plug it in to the dict and get the Arabic value\n",
    "for digit in roman: # for each \"digit\"\n",
    "    arabic_vals.append(roman_to_arabic.get(digit)) # list comprehension? error checking?\n",
    "\n",
    "if None in arabic_vals:\n",
    "    print('Bad Roman digit:', roman[arabic_vals.index(None)])\n",
    "print(arabic_vals)"
   ]
  },
  {
   "cell_type": "code",
   "execution_count": 54,
   "id": "serial-matrix",
   "metadata": {},
   "outputs": [
    {
     "name": "stdout",
     "output_type": "stream",
     "text": [
      "Enter in a Roman numeral: MCLX\n",
      "[1000, 100, 50, 10]\n"
     ]
    },
    {
     "data": {
      "text/plain": [
       "1160"
      ]
     },
     "execution_count": 54,
     "metadata": {},
     "output_type": "execute_result"
    }
   ],
   "source": [
    "# Ger's solution\n",
    "response = input('Enter in a Roman numeral: ')\n",
    "arabic_list = [roman_to_arabic.get(letter) for letter in response]\n",
    "print(arabic_list)\n",
    "sum(arabic_list)"
   ]
  },
  {
   "cell_type": "code",
   "execution_count": 48,
   "id": "chicken-damage",
   "metadata": {},
   "outputs": [
    {
     "name": "stdout",
     "output_type": "stream",
     "text": [
      "[1000, -100, 1000, -10, 100, -1, 10]\n",
      "1999\n"
     ]
    }
   ],
   "source": [
    "# second pass\n",
    "for index in range(len(roman) - 1):\n",
    "    if arabic_vals[index] < arabic_vals[index + 1]: # is digit less than its \"neighbor\"\n",
    "        arabic_vals[index] *= -1 # yes, so make it negative\n",
    "        # or... arabic_vals[index] = -arabic_vals[index] \n",
    "print(arabic_vals)\n",
    "print(sum(arabic_vals))"
   ]
  },
  {
   "cell_type": "code",
   "execution_count": 58,
   "id": "upper-cement",
   "metadata": {},
   "outputs": [
    {
     "name": "stdout",
     "output_type": "stream",
     "text": [
      "[1000, 100, 1000, 10, 100, 1, 10]\n",
      "[1000, -100, 1000, -10, 100, -1, 10]\n",
      "1999\n"
     ]
    }
   ],
   "source": [
    "arabic_vals = [] # empty list into which we will put the Arabic values\n",
    "\n",
    "# grab each digit, plug it in to the dict and get the Arabic value\n",
    "for digit in roman: # for each \"digit\"\n",
    "    if digit in roman_to_arabic:\n",
    "        arabic_vals.append(roman_to_arabic[digit])\n",
    "    else:\n",
    "        print('Bad Roman digit:', digit)\n",
    "        break\n",
    "else:\n",
    "    print(arabic_vals)\n",
    "    # second pass\n",
    "    for index in range(len(roman) - 1): # fall off the end\n",
    "        if arabic_vals[index] < arabic_vals[index + 1]: # is digit less than its \"neighbor\"\n",
    "            arabic_vals[index] *= -1 # yes, so make it negative\n",
    "            # or... arabic_vals[index] = -arabic_vals[index] \n",
    "    print(arabic_vals)\n",
    "    print(sum(arabic_vals))"
   ]
  },
  {
   "cell_type": "code",
   "execution_count": 67,
   "id": "catholic-imaging",
   "metadata": {},
   "outputs": [
    {
     "name": "stdout",
     "output_type": "stream",
     "text": [
      "Enter in a Roman numeral: MCALZ\n"
     ]
    },
    {
     "data": {
      "text/plain": [
       "[1000, 100, None, 50, None]"
      ]
     },
     "execution_count": 67,
     "metadata": {},
     "output_type": "execute_result"
    }
   ],
   "source": [
    "# Ger's second solution\n",
    "response = input('Enter in a Roman numeral: ')\n",
    "arabicList = [roman_to_arabic.get(letter) for letter in response]\n",
    "arabicList"
   ]
  },
  {
   "cell_type": "code",
   "execution_count": 65,
   "id": "sitting-motel",
   "metadata": {},
   "outputs": [],
   "source": [
    "for item in arabicList:\n",
    "    if item not in roman_to_arabic.values(): # only checking keys\n",
    "        arabicList.remove(item)"
   ]
  },
  {
   "cell_type": "code",
   "execution_count": 70,
   "id": "immune-grounds",
   "metadata": {},
   "outputs": [
    {
     "data": {
      "text/plain": [
       "[1000, 100, 50]"
      ]
     },
     "execution_count": 70,
     "metadata": {},
     "output_type": "execute_result"
    }
   ],
   "source": [
    "arabicList"
   ]
  },
  {
   "cell_type": "code",
   "execution_count": 69,
   "id": "mathematical-wells",
   "metadata": {},
   "outputs": [],
   "source": [
    "# we know that the only bogus things possible are None\n",
    "while None in arabicList:\n",
    "    arabicList.remove(None)"
   ]
  },
  {
   "cell_type": "code",
   "execution_count": 71,
   "id": "general-newspaper",
   "metadata": {},
   "outputs": [],
   "source": [
    "d = { 'Python': ['duck-typed', 'dynamic typing', 'scripting'] }"
   ]
  },
  {
   "cell_type": "code",
   "execution_count": 72,
   "id": "electrical-winning",
   "metadata": {},
   "outputs": [
    {
     "data": {
      "text/plain": [
       "{'Python': ['duck-typed', 'dynamic typing', 'scripting']}"
      ]
     },
     "execution_count": 72,
     "metadata": {},
     "output_type": "execute_result"
    }
   ],
   "source": [
    "d"
   ]
  },
  {
   "cell_type": "code",
   "execution_count": 73,
   "id": "personal-static",
   "metadata": {},
   "outputs": [
    {
     "ename": "TypeError",
     "evalue": "unhashable type: 'list'",
     "output_type": "error",
     "traceback": [
      "\u001b[0;31m---------------------------------------------------------------------------\u001b[0m",
      "\u001b[0;31mTypeError\u001b[0m                                 Traceback (most recent call last)",
      "\u001b[0;32m<ipython-input-73-c5a7429b7c9a>\u001b[0m in \u001b[0;36m<module>\u001b[0;34m\u001b[0m\n\u001b[0;32m----> 1\u001b[0;31m \u001b[0mdict_inverse\u001b[0m \u001b[0;34m=\u001b[0m \u001b[0;34m{\u001b[0m \u001b[0mv\u001b[0m\u001b[0;34m:\u001b[0m \u001b[0mk\u001b[0m \u001b[0;32mfor\u001b[0m \u001b[0mk\u001b[0m\u001b[0;34m,\u001b[0m \u001b[0mv\u001b[0m \u001b[0;32min\u001b[0m \u001b[0md\u001b[0m\u001b[0;34m.\u001b[0m\u001b[0mitems\u001b[0m\u001b[0;34m(\u001b[0m\u001b[0;34m)\u001b[0m \u001b[0;34m}\u001b[0m\u001b[0;34m\u001b[0m\u001b[0;34m\u001b[0m\u001b[0m\n\u001b[0m",
      "\u001b[0;32m<ipython-input-73-c5a7429b7c9a>\u001b[0m in \u001b[0;36m<dictcomp>\u001b[0;34m(.0)\u001b[0m\n\u001b[0;32m----> 1\u001b[0;31m \u001b[0mdict_inverse\u001b[0m \u001b[0;34m=\u001b[0m \u001b[0;34m{\u001b[0m \u001b[0mv\u001b[0m\u001b[0;34m:\u001b[0m \u001b[0mk\u001b[0m \u001b[0;32mfor\u001b[0m \u001b[0mk\u001b[0m\u001b[0;34m,\u001b[0m \u001b[0mv\u001b[0m \u001b[0;32min\u001b[0m \u001b[0md\u001b[0m\u001b[0;34m.\u001b[0m\u001b[0mitems\u001b[0m\u001b[0;34m(\u001b[0m\u001b[0;34m)\u001b[0m \u001b[0;34m}\u001b[0m\u001b[0;34m\u001b[0m\u001b[0;34m\u001b[0m\u001b[0m\n\u001b[0m",
      "\u001b[0;31mTypeError\u001b[0m: unhashable type: 'list'"
     ]
    }
   ],
   "source": [
    "dict_inverse = { v: k for k, v in d.items() }"
   ]
  },
  {
   "cell_type": "code",
   "execution_count": 74,
   "id": "equal-saudi",
   "metadata": {},
   "outputs": [],
   "source": [
    "d = { 'Python': ('duck-typed', 'dynamic typing', 'scripting') }"
   ]
  },
  {
   "cell_type": "code",
   "execution_count": 75,
   "id": "regular-cradle",
   "metadata": {},
   "outputs": [],
   "source": [
    "dict_inverse = { v: k for k, v in d.items() }"
   ]
  },
  {
   "cell_type": "code",
   "execution_count": 76,
   "id": "violent-separate",
   "metadata": {},
   "outputs": [
    {
     "data": {
      "text/plain": [
       "{('duck-typed', 'dynamic typing', 'scripting'): 'Python'}"
      ]
     },
     "execution_count": 76,
     "metadata": {},
     "output_type": "execute_result"
    }
   ],
   "source": [
    "dict_inverse"
   ]
  },
  {
   "cell_type": "code",
   "execution_count": 77,
   "id": "specified-billion",
   "metadata": {},
   "outputs": [
    {
     "data": {
      "text/plain": [
       "65"
      ]
     },
     "execution_count": 77,
     "metadata": {},
     "output_type": "execute_result"
    }
   ],
   "source": [
    "ord('A')"
   ]
  },
  {
   "cell_type": "code",
   "execution_count": 78,
   "id": "patient-skill",
   "metadata": {},
   "outputs": [
    {
     "data": {
      "text/plain": [
       "97"
      ]
     },
     "execution_count": 78,
     "metadata": {},
     "output_type": "execute_result"
    }
   ],
   "source": [
    "ord('a')"
   ]
  },
  {
   "cell_type": "code",
   "execution_count": 79,
   "id": "comparative-miracle",
   "metadata": {},
   "outputs": [
    {
     "data": {
      "text/plain": [
       "8364"
      ]
     },
     "execution_count": 79,
     "metadata": {},
     "output_type": "execute_result"
    }
   ],
   "source": [
    "ord('€')"
   ]
  },
  {
   "cell_type": "code",
   "execution_count": 80,
   "id": "indie-gamma",
   "metadata": {},
   "outputs": [
    {
     "data": {
      "text/plain": [
       "163"
      ]
     },
     "execution_count": 80,
     "metadata": {},
     "output_type": "execute_result"
    }
   ],
   "source": [
    "ord('£')"
   ]
  },
  {
   "cell_type": "code",
   "execution_count": 81,
   "id": "loose-elizabeth",
   "metadata": {},
   "outputs": [
    {
     "data": {
      "text/plain": [
       "'A'"
      ]
     },
     "execution_count": 81,
     "metadata": {},
     "output_type": "execute_result"
    }
   ],
   "source": [
    "chr(65)"
   ]
  },
  {
   "cell_type": "code",
   "execution_count": 82,
   "id": "blank-damage",
   "metadata": {},
   "outputs": [
    {
     "data": {
      "text/plain": [
       "'€'"
      ]
     },
     "execution_count": 82,
     "metadata": {},
     "output_type": "execute_result"
    }
   ],
   "source": [
    "chr(8364)"
   ]
  },
  {
   "cell_type": "code",
   "execution_count": 83,
   "id": "great-physics",
   "metadata": {},
   "outputs": [
    {
     "data": {
      "text/plain": [
       "'N'"
      ]
     },
     "execution_count": 83,
     "metadata": {},
     "output_type": "execute_result"
    }
   ],
   "source": [
    "chr(65 + 13)"
   ]
  },
  {
   "cell_type": "code",
   "execution_count": 84,
   "id": "brief-updating",
   "metadata": {},
   "outputs": [
    {
     "data": {
      "text/plain": [
       "{'Python': ('duck-typed', 'dynamic typing', 'scripting')}"
      ]
     },
     "execution_count": 84,
     "metadata": {},
     "output_type": "execute_result"
    }
   ],
   "source": [
    "d"
   ]
  },
  {
   "cell_type": "code",
   "execution_count": 85,
   "id": "anonymous-rebecca",
   "metadata": {},
   "outputs": [
    {
     "data": {
      "text/plain": [
       "('duck-typed', 'dynamic typing', 'scripting')"
      ]
     },
     "execution_count": 85,
     "metadata": {},
     "output_type": "execute_result"
    }
   ],
   "source": [
    "d.get('Python')"
   ]
  },
  {
   "cell_type": "code",
   "execution_count": 89,
   "id": "efficient-jesus",
   "metadata": {},
   "outputs": [
    {
     "data": {
      "text/plain": [
       "-1"
      ]
     },
     "execution_count": 89,
     "metadata": {},
     "output_type": "execute_result"
    }
   ],
   "source": [
    "d.get('Golang', -1)"
   ]
  },
  {
   "cell_type": "code",
   "execution_count": 92,
   "id": "forced-cattle",
   "metadata": {},
   "outputs": [
    {
     "name": "stdout",
     "output_type": "stream",
     "text": [
      "The Zen of Python, by Tim Peters\n",
      "\n",
      "Beautiful is better than ugly.\n",
      "Explicit is better than implicit.\n",
      "Simple is better than complex.\n",
      "Complex is better than complicated.\n",
      "Flat is better than nested.\n",
      "Sparse is better than dense.\n"
     ]
    }
   ],
   "source": [
    "s = \"\"\"Gur Mra bs Clguba, ol Gvz Crgref\n",
    "\n",
    "Ornhgvshy vf orggre guna htyl.\n",
    "Rkcyvpvg vf orggre guna vzcyvpvg.\n",
    "Fvzcyr vf orggre guna pbzcyrk.\n",
    "Pbzcyrk vf orggre guna pbzcyvpngrq.\n",
    "Syng vf orggre guna arfgrq.\n",
    "Fcnefr vf orggre guna qrafr.\"\"\"\n",
    "\n",
    "d = {}\n",
    "for c in (65, 97):\n",
    "    for i in range(26):\n",
    "        d[chr(i+c)] = chr((i+13) % 26 + c)\n",
    "        \n",
    "print(''.join([d.get(c, c) for c in s]))"
   ]
  },
  {
   "cell_type": "markdown",
   "id": "imperial-bloom",
   "metadata": {},
   "source": [
    "# Quick Lab: File I/O\n",
    "* write a Python program which prompts the user for a filename, then opens that file and writes the contents of the file to a new file, in reverse order, i.e.,\n",
    "\n",
    "<pre><b>\n",
    "    Original file       Reversed file\n",
    "    Line 1              Line 4\n",
    "    Line 2              Line 3\n",
    "    Line 3              Line 2\n",
    "    Line 4              Line 1\n",
    "</b></pre>"
   ]
  },
  {
   "cell_type": "code",
   "execution_count": 21,
   "id": "empirical-stable",
   "metadata": {},
   "outputs": [
    {
     "name": "stdout",
     "output_type": "stream",
     "text": [
      "Enter a filename: poem.txt\n"
     ]
    }
   ],
   "source": [
    "filename = input('Enter a filename: ')\n",
    "\n",
    "with open(filename) as infile:\n",
    "    lines = infile.readlines() # get all lines of file as a list"
   ]
  },
  {
   "cell_type": "code",
   "execution_count": 23,
   "id": "norwegian-boutique",
   "metadata": {},
   "outputs": [
    {
     "data": {
      "text/plain": [
       "['TWO roads diverged in a yellow wood,\\n',\n",
       " 'And sorry I could not travel both\\n',\n",
       " 'And be one traveler, long I stood\\n',\n",
       " 'And looked down one as far as I could\\n',\n",
       " 'To where it bent in the undergrowth;\\n']"
      ]
     },
     "execution_count": 23,
     "metadata": {},
     "output_type": "execute_result"
    }
   ],
   "source": [
    "lines[:5]"
   ]
  },
  {
   "cell_type": "code",
   "execution_count": 27,
   "id": "laughing-payroll",
   "metadata": {},
   "outputs": [
    {
     "name": "stdout",
     "output_type": "stream",
     "text": [
      "And that has made all the difference.\n",
      "I took the one less traveled by,\n",
      "Two roads diverged in a wood, and I—\n",
      "Somewhere ages and ages hence:\n",
      "I shall be telling this with a sigh\n",
      "\n",
      "I doubted if I should ever come back.\n",
      "Yet knowing how way leads on to way,\n",
      "Oh, I kept the first for another day!\n",
      "In leaves no step had trodden black.\n",
      "And both that morning equally lay\n",
      "\n",
      "Had worn them really about the same,\n",
      "Though as for that the passing there\n",
      "Because it was grassy and wanted wear;\n",
      "And having perhaps the better claim,\n",
      "Then took the other, as just as fair,\n",
      "\n",
      "To where it bent in the undergrowth;\n",
      "And looked down one as far as I could\n",
      "And be one traveler, long I stood\n",
      "And sorry I could not travel both\n",
      "TWO roads diverged in a yellow wood,\n",
      "\n"
     ]
    }
   ],
   "source": [
    "print(''.join(lines[::-1]))"
   ]
  },
  {
   "cell_type": "code",
   "execution_count": 28,
   "id": "roman-prince",
   "metadata": {},
   "outputs": [],
   "source": [
    "with open(filename + '.rev', 'w') as outfile: # write to filename + .rev\n",
    "    print(''.join(lines[::-1]), end='', file=outfile) # lines already have \\n at end"
   ]
  },
  {
   "cell_type": "markdown",
   "id": "psychological-double",
   "metadata": {},
   "source": [
    "## Lab: File I/O + dicts\n",
    "* write a Python program to read a file and count the number of occurrences of each word in the file\n",
    "* use a __`dict`__, indexed by word, to count the occurrences\n",
    "* remember __`d.get(key)`__ will return __`None`__ if there is no such key in the dict (vs. __`d[key]`__ which will throw an exception) and also the __`in`__ operator\n",
    "  * or use a __`collections.defaultdict`__ if we've covered it\n",
    "* treat __The__ and __the__ as the same word when counting\n",
    "* print out words and counts, from most common to least common\n",
    "* EXTRA: remove punctuation, so __Hamlet,__ == __Hamlet__ # refer back to \"import this\"\n",
    "* Road Not Taken and Hamlet are in your materials"
   ]
  },
  {
   "cell_type": "code",
   "execution_count": 31,
   "id": "curious-copper",
   "metadata": {},
   "outputs": [
    {
     "name": "stdout",
     "output_type": "stream",
     "text": [
      "Enter a filename: hamlet.txt\n"
     ]
    }
   ],
   "source": [
    "filename = input('Enter a filename: ')"
   ]
  },
  {
   "cell_type": "code",
   "execution_count": 34,
   "id": "rolled-monroe",
   "metadata": {},
   "outputs": [
    {
     "name": "stdout",
     "output_type": "stream",
     "text": [
      "the 1137\n",
      "and 936\n",
      "to 728\n",
      "of 664\n",
      "a 527\n",
      "i 513\n",
      "my 513\n",
      "in 423\n",
      "you 405\n",
      "hamlet 401\n",
      "that 345\n",
      "it 325\n",
      "is 318\n",
      "his 294\n",
      "not 274\n",
      "with 263\n",
      "this 249\n",
      "your 242\n",
      "but 229\n",
      "for 228\n",
      "as 217\n",
      "be 208\n",
      "he 204\n",
      "what 187\n",
      "have 173\n",
      "king 157\n",
      "will 150\n",
      "so 141\n",
      "me 139\n",
      "we 136\n",
      "do 130\n",
      "are 127\n",
      "horatio 125\n",
      "him 118\n",
      "our 118\n",
      "by 114\n",
      "if 111\n",
      "claudius 109\n",
      "on 108\n",
      "or 108\n",
      "no 107\n",
      "polonius 107\n",
      "shall 106\n",
      "lord 106\n",
      "queen 103\n",
      "they 101\n",
      "all 100\n"
     ]
    }
   ],
   "source": [
    "wordcounts = {} # store the counts of each word\n",
    "\n",
    "with open(filename) as f:\n",
    "    for line in f: # get each line\n",
    "        for word in line.lower().split(): # make lower case and split into words\n",
    "            if word in wordcounts: # have we seen this word before?\n",
    "                wordcounts[word] += 1\n",
    "            else: # first time we've seen it...\n",
    "                wordcounts[word] = 1\n",
    "\n",
    "# we want to REVERSE sort by values not keys...\n",
    "for word in sorted(wordcounts, reverse=True, key=wordcounts.get): # use slicing to limit to top 10\n",
    "    if wordcounts[word] < 100:\n",
    "        break\n",
    "    print(word, wordcounts[word])"
   ]
  },
  {
   "cell_type": "code",
   "execution_count": 37,
   "id": "detected-discharge",
   "metadata": {},
   "outputs": [
    {
     "name": "stdout",
     "output_type": "stream",
     "text": [
      "the 1137\n",
      "and 936\n",
      "to 728\n",
      "of 664\n",
      "a 527\n",
      "i 513\n",
      "my 513\n",
      "in 423\n",
      "you 405\n",
      "hamlet 401\n"
     ]
    }
   ],
   "source": [
    "wordcounts = {} # store the counts of each word\n",
    "\n",
    "with open(filename) as f:\n",
    "    for line in f: # get each line\n",
    "        for word in line.lower().split(): # make lower case and split into words\n",
    "            wordcounts[word] = wordcounts.get(word, 0) + 1\n",
    "\n",
    "# we want to REVERSE sort by values not keys...\n",
    "for word in sorted(wordcounts, reverse=True, key=wordcounts.get)[:10]: # use slicing to limit to top 10\n",
    "    print(word, wordcounts[word])"
   ]
  },
  {
   "cell_type": "code",
   "execution_count": 44,
   "id": "roman-assembly",
   "metadata": {},
   "outputs": [
    {
     "name": "stdout",
     "output_type": "stream",
     "text": [
      "the 1142\n",
      "and 964\n",
      "to 737\n",
      "of 669\n",
      "i 567\n",
      "you 546\n",
      "a 531\n",
      "my 513\n",
      "hamlet 463\n",
      "in 436\n"
     ]
    }
   ],
   "source": [
    "# deal with punctuation\n",
    "from string import punctuation\n",
    "wordcounts = {} # store the counts of each word\n",
    "\n",
    "with open(filename) as f:\n",
    "    for line in f: # get each line\n",
    "        line = ''.join([char for char in line.lower()\n",
    "                       if char not in punctuation])\n",
    "        for word in line.split(): # make lower case and split into words\n",
    "            wordcounts[word] = wordcounts.get(word, 0) + 1\n",
    "\n",
    "# we want to REVERSE sort by values not keys...\n",
    "for word in sorted(wordcounts, reverse=True, key=wordcounts.get)[:10]: # use slicing to limit to top 10\n",
    "    print(word, wordcounts[word])"
   ]
  },
  {
   "cell_type": "code",
   "execution_count": 38,
   "id": "brazilian-relation",
   "metadata": {},
   "outputs": [
    {
     "name": "stdout",
     "output_type": "stream",
     "text": [
      "Hi, Hamlet, how are you?\n"
     ]
    }
   ],
   "source": [
    "line = 'Hi, Hamlet, how are you?'\n",
    "print(line)"
   ]
  },
  {
   "cell_type": "code",
   "execution_count": 41,
   "id": "august-wireless",
   "metadata": {},
   "outputs": [
    {
     "name": "stdout",
     "output_type": "stream",
     "text": [
      "Hi Hamlet how are you\n"
     ]
    }
   ],
   "source": [
    "line = ''.join([char for char in line\n",
    "                   if char not in ',?'])\n",
    "print(line)"
   ]
  },
  {
   "cell_type": "code",
   "execution_count": 42,
   "id": "color-header",
   "metadata": {},
   "outputs": [
    {
     "data": {
      "text/plain": [
       "['Formatter',\n",
       " 'Template',\n",
       " '_ChainMap',\n",
       " '_TemplateMetaclass',\n",
       " '__all__',\n",
       " '__builtins__',\n",
       " '__cached__',\n",
       " '__doc__',\n",
       " '__file__',\n",
       " '__loader__',\n",
       " '__name__',\n",
       " '__package__',\n",
       " '__spec__',\n",
       " '_re',\n",
       " '_string',\n",
       " 'ascii_letters',\n",
       " 'ascii_lowercase',\n",
       " 'ascii_uppercase',\n",
       " 'capwords',\n",
       " 'digits',\n",
       " 'hexdigits',\n",
       " 'octdigits',\n",
       " 'printable',\n",
       " 'punctuation',\n",
       " 'whitespace']"
      ]
     },
     "execution_count": 42,
     "metadata": {},
     "output_type": "execute_result"
    }
   ],
   "source": [
    "import string\n",
    "dir(string)"
   ]
  },
  {
   "cell_type": "code",
   "execution_count": 43,
   "id": "naughty-produce",
   "metadata": {},
   "outputs": [
    {
     "data": {
      "text/plain": [
       "'!\"#$%&\\'()*+,-./:;<=>?@[\\\\]^_`{|}~'"
      ]
     },
     "execution_count": 43,
     "metadata": {},
     "output_type": "execute_result"
    }
   ],
   "source": [
    "string.punctuation"
   ]
  },
  {
   "cell_type": "code",
   "execution_count": 19,
   "id": "postal-blade",
   "metadata": {},
   "outputs": [
    {
     "data": {
      "text/plain": [
       "'/home/nt-user/workspace'"
      ]
     },
     "execution_count": 19,
     "metadata": {},
     "output_type": "execute_result"
    }
   ],
   "source": [
    "%pwd"
   ]
  },
  {
   "cell_type": "code",
   "execution_count": 20,
   "id": "forty-walker",
   "metadata": {},
   "outputs": [
    {
     "name": "stdout",
     "output_type": "stream",
     "text": [
      "/home/nt-user/workspace/Python-Fundamentals\n"
     ]
    }
   ],
   "source": [
    "%cd Python-Fundamentals/"
   ]
  },
  {
   "cell_type": "code",
   "execution_count": 1,
   "id": "stylish-harrison",
   "metadata": {},
   "outputs": [],
   "source": [
    "amount = 1.89"
   ]
  },
  {
   "cell_type": "code",
   "execution_count": 2,
   "id": "seven-bunny",
   "metadata": {},
   "outputs": [],
   "source": [
    "dollars, cents = str(amount).split('.')"
   ]
  },
  {
   "cell_type": "code",
   "execution_count": 5,
   "id": "static-finland",
   "metadata": {},
   "outputs": [
    {
     "name": "stdout",
     "output_type": "stream",
     "text": [
      "Help on method randint in module random:\n",
      "\n",
      "randint(a, b) method of random.Random instance\n",
      "    Return random integer in range [a, b], including both end points.\n",
      "\n"
     ]
    }
   ],
   "source": [
    "import random\n",
    "help(random.randint)"
   ]
  },
  {
   "cell_type": "code",
   "execution_count": 9,
   "id": "internal-integer",
   "metadata": {},
   "outputs": [],
   "source": [
    "def f():\n",
    "    \"\"\"Silly function\"\"\"\n",
    "    print('in f')"
   ]
  },
  {
   "cell_type": "code",
   "execution_count": 7,
   "id": "juvenile-hometown",
   "metadata": {},
   "outputs": [
    {
     "name": "stdout",
     "output_type": "stream",
     "text": [
      "in f\n"
     ]
    }
   ],
   "source": [
    "f()"
   ]
  },
  {
   "cell_type": "code",
   "execution_count": 10,
   "id": "activated-upper",
   "metadata": {},
   "outputs": [
    {
     "data": {
      "text/plain": [
       "140711412384544"
      ]
     },
     "execution_count": 10,
     "metadata": {},
     "output_type": "execute_result"
    }
   ],
   "source": [
    "id(f)"
   ]
  },
  {
   "cell_type": "code",
   "execution_count": 11,
   "id": "musical-credits",
   "metadata": {},
   "outputs": [
    {
     "data": {
      "text/plain": [
       "'Silly function'"
      ]
     },
     "execution_count": 11,
     "metadata": {},
     "output_type": "execute_result"
    }
   ],
   "source": [
    "f.__doc__"
   ]
  },
  {
   "cell_type": "code",
   "execution_count": 12,
   "id": "fancy-pacific",
   "metadata": {},
   "outputs": [],
   "source": [
    "# pangram: The quick brown fox jumps over the lazy dog (\"jumps\" not \"jumped\")"
   ]
  },
  {
   "cell_type": "code",
   "execution_count": 14,
   "id": "comfortable-basement",
   "metadata": {},
   "outputs": [
    {
     "name": "stdout",
     "output_type": "stream",
     "text": [
      "{'f', 'p', 'n', 'l', 'h', 'e', 'q', 'm', 'b', ' ', 't', 'j', 'k', 'w', 'y', 'd', 'x', 'i', 'v', 's', 'z', 'g', 'a', 'T', 'c', 'r', 'u', 'o'}\n"
     ]
    }
   ],
   "source": [
    "print(set(\"The quick brown fox jumps over the lazy dog\"))"
   ]
  },
  {
   "cell_type": "markdown",
   "id": "sustainable-general",
   "metadata": {},
   "source": [
    "## Lab: functions\n",
    "* Write a function __`calculate`__ which is passed two operands and an operator and returns the calculated result, e.g., __`calculate(2, 4, '+')`__ would return 6"
   ]
  },
  {
   "cell_type": "code",
   "execution_count": 15,
   "id": "purple-andrews",
   "metadata": {},
   "outputs": [],
   "source": [
    "def calculate(op1, op2, oper):\n",
    "    if oper == '+':\n",
    "        return op1 + op2\n",
    "    if oper == '-':\n",
    "        return op1 - op2\n",
    "    if oper == '*':\n",
    "        return op1 * op2\n",
    "    if oper == '/':\n",
    "        return op1 // op2\n",
    "    print('bad operator:', oper)"
   ]
  },
  {
   "cell_type": "code",
   "execution_count": 38,
   "id": "federal-david",
   "metadata": {},
   "outputs": [
    {
     "data": {
      "text/plain": [
       "10"
      ]
     },
     "execution_count": 38,
     "metadata": {},
     "output_type": "execute_result"
    }
   ],
   "source": [
    "calculate(2, 5, '*')"
   ]
  },
  {
   "cell_type": "markdown",
   "id": "reserved-rwanda",
   "metadata": {},
   "source": [
    "* Write a function that, given a string, returns True or False whether the string is a pangram"
   ]
  },
  {
   "cell_type": "code",
   "execution_count": 39,
   "id": "surgical-philippines",
   "metadata": {},
   "outputs": [],
   "source": [
    "def pangram(sentence):\n",
    "    letters = {letter for letter in sentence.lower()\n",
    "                          if letter in 'abcdefghijklmnopqrstuvwxyz'} # string.ascii_lowercase\n",
    "    return len(letters) == 26"
   ]
  },
  {
   "cell_type": "code",
   "execution_count": 41,
   "id": "talented-tourist",
   "metadata": {},
   "outputs": [
    {
     "data": {
      "text/plain": [
       "False"
      ]
     },
     "execution_count": 41,
     "metadata": {},
     "output_type": "execute_result"
    }
   ],
   "source": [
    "pangram(\"The gnomes quickly jinxed the wizard before they vaporized\")"
   ]
  },
  {
   "cell_type": "markdown",
   "id": "north-dylan",
   "metadata": {},
   "source": [
    "* Write a function which takes an integer as a parameter, and sums up its digits. If the resulting sum contains more than 1 digit, the function should sum the digits again, e.g., __`sumdigits(1235)`__ should compute the sum of 1, 2, 3, and 5 (11), then compute the sum of 1 and 1, returning 2."
   ]
  },
  {
   "cell_type": "code",
   "execution_count": 22,
   "id": "variable-meter",
   "metadata": {},
   "outputs": [],
   "source": [
    "def sumdigits(num):\n",
    "    print('sumdigits(', num, ')', sep='')\n",
    "    total = 0\n",
    "    \n",
    "    for digit in str(num): # convert to string to make it easier to iterate over\n",
    "        total += int(digit) # convert back to int in order to sum up\n",
    "        \n",
    "    if total > 9:\n",
    "        return sumdigits(total)\n",
    "    else:\n",
    "        return total"
   ]
  },
  {
   "cell_type": "code",
   "execution_count": 23,
   "id": "inappropriate-father",
   "metadata": {},
   "outputs": [
    {
     "name": "stdout",
     "output_type": "stream",
     "text": [
      "sumdigits(1235)\n",
      "sumdigits(11)\n"
     ]
    },
    {
     "data": {
      "text/plain": [
       "2"
      ]
     },
     "execution_count": 23,
     "metadata": {},
     "output_type": "execute_result"
    }
   ],
   "source": [
    "sumdigits(1235)"
   ]
  },
  {
   "cell_type": "code",
   "execution_count": 26,
   "id": "negative-sucking",
   "metadata": {},
   "outputs": [
    {
     "name": "stdout",
     "output_type": "stream",
     "text": [
      "sumdigits(2673886773208433)\n",
      "sumdigits(77)\n",
      "sumdigits(14)\n"
     ]
    },
    {
     "data": {
      "text/plain": [
       "5"
      ]
     },
     "execution_count": 26,
     "metadata": {},
     "output_type": "execute_result"
    }
   ],
   "source": [
    "sumdigits(2673886773208433)"
   ]
  },
  {
   "cell_type": "markdown",
   "id": "maritime-lying",
   "metadata": {},
   "source": [
    "* Write a function which takes a number as a parameter and returns a string version of the number with commas representing thousands, e.g., __`add_commas(12345)`__ would return \"12,345\""
   ]
  },
  {
   "cell_type": "code",
   "execution_count": 29,
   "id": "alpha-worry",
   "metadata": {},
   "outputs": [],
   "source": [
    "def add_commas(num):\n",
    "    comma_num = str(num)[::-1]\n",
    "    result = ''\n",
    "    \n",
    "    for position in range(0, len(comma_num), 3):\n",
    "        result += comma_num[position:position + 3]\n",
    "        if position < len(comma_num) - 3:\n",
    "            result += ','\n",
    "            \n",
    "    return result[::-1]"
   ]
  },
  {
   "cell_type": "code",
   "execution_count": 31,
   "id": "distinguished-season",
   "metadata": {},
   "outputs": [
    {
     "data": {
      "text/plain": [
       "'123,456,789'"
      ]
     },
     "execution_count": 31,
     "metadata": {},
     "output_type": "execute_result"
    }
   ],
   "source": [
    "add_commas(123456789)"
   ]
  },
  {
   "cell_type": "markdown",
   "id": "collectible-attachment",
   "metadata": {},
   "source": [
    "* Write a function to demonstrate the Collatz Conjecture:\n",
    "  * for integer n > 1\n",
    "    * if n is even, then __`n = n // 2`__\n",
    "    * if n is odd, then __`n = n * 3 + 1`__\n",
    "  * ...will always converge to 1\n",
    "  * (your function should take n and keep printing new value of n until n is 1)"
   ]
  },
  {
   "cell_type": "code",
   "execution_count": 42,
   "id": "active-assault",
   "metadata": {},
   "outputs": [],
   "source": [
    "def collatz(n):\n",
    "    if type(n) != int or n < 1:\n",
    "        print('Not an int or not > 0!')\n",
    "        return\n",
    "    while n != 1:\n",
    "        print(n, end=' ')\n",
    "        if n % 2 == 0:\n",
    "            n //= 2\n",
    "        else:\n",
    "            n = n * 3 + 1\n",
    "    print(1)"
   ]
  },
  {
   "cell_type": "code",
   "execution_count": 33,
   "id": "indian-packing",
   "metadata": {},
   "outputs": [
    {
     "name": "stdout",
     "output_type": "stream",
     "text": [
      "97 292 146 73 220 110 55 166 83 250 125 376 188 94 47 142 71 214 107 322 161 484 242 121 364 182 91 274 137 412 206 103 310 155 466 233 700 350 175 526 263 790 395 1186 593 1780 890 445 1336 668 334 167 502 251 754 377 1132 566 283 850 425 1276 638 319 958 479 1438 719 2158 1079 3238 1619 4858 2429 7288 3644 1822 911 2734 1367 4102 2051 6154 3077 9232 4616 2308 1154 577 1732 866 433 1300 650 325 976 488 244 122 61 184 92 46 23 70 35 106 53 160 80 40 20 10 5 16 8 4 2 1\n"
     ]
    }
   ],
   "source": [
    "collatz(97)"
   ]
  },
  {
   "cell_type": "code",
   "execution_count": 43,
   "id": "assigned-bloom",
   "metadata": {},
   "outputs": [
    {
     "name": "stdout",
     "output_type": "stream",
     "text": [
      "871 2614 1307 3922 1961 5884 2942 1471 4414 2207 6622 3311 9934 4967 14902 7451 22354 11177 33532 16766 8383 25150 12575 37726 18863 56590 28295 84886 42443 127330 63665 190996 95498 47749 143248 71624 35812 17906 8953 26860 13430 6715 20146 10073 30220 15110 7555 22666 11333 34000 17000 8500 4250 2125 6376 3188 1594 797 2392 1196 598 299 898 449 1348 674 337 1012 506 253 760 380 190 95 286 143 430 215 646 323 970 485 1456 728 364 182 91 274 137 412 206 103 310 155 466 233 700 350 175 526 263 790 395 1186 593 1780 890 445 1336 668 334 167 502 251 754 377 1132 566 283 850 425 1276 638 319 958 479 1438 719 2158 1079 3238 1619 4858 2429 7288 3644 1822 911 2734 1367 4102 2051 6154 3077 9232 4616 2308 1154 577 1732 866 433 1300 650 325 976 488 244 122 61 184 92 46 23 70 35 106 53 160 80 40 20 10 5 16 8 4 2 1\n"
     ]
    }
   ],
   "source": [
    "collatz(871)"
   ]
  },
  {
   "cell_type": "code",
   "execution_count": 44,
   "id": "active-midnight",
   "metadata": {},
   "outputs": [
    {
     "name": "stdout",
     "output_type": "stream",
     "text": [
      "4096 2048 1024 512 256 128 64 32 16 8 4 2 1\n"
     ]
    }
   ],
   "source": [
    "collatz(4096)"
   ]
  },
  {
   "cell_type": "code",
   "execution_count": 36,
   "id": "straight-swedish",
   "metadata": {},
   "outputs": [
    {
     "name": "stdout",
     "output_type": "stream",
     "text": [
      "Not an int or not > 0!\n"
     ]
    }
   ],
   "source": [
    "collatz('zero')"
   ]
  },
  {
   "cell_type": "markdown",
   "id": "modified-partnership",
   "metadata": {},
   "source": [
    "## Lab: Variable Positional Arguments\n",
    "* write a function called __`product`__ which accepts a variable number of arguments and returns the product of all of its args. With no args, __`product()`__ should return 1    \n",
    "\n",
    "<pre><b>\n",
    ">>> product(3, 5)\n",
    "15\n",
    ">>> product(1, 2, 3)\n",
    "6\n",
    ">>> product(63, 12, 3, 0, 9)\n",
    "0\n",
    ">>> product()\n",
    "1\n",
    "</b></pre>"
   ]
  },
  {
   "cell_type": "code",
   "execution_count": 46,
   "id": "numerous-pizza",
   "metadata": {},
   "outputs": [],
   "source": [
    "def product(*terms):\n",
    "    result = 1\n",
    "    \n",
    "    for term in terms:\n",
    "        result *= term\n",
    "        \n",
    "    return result"
   ]
  },
  {
   "cell_type": "code",
   "execution_count": 50,
   "id": "portuguese-creek",
   "metadata": {},
   "outputs": [
    {
     "data": {
      "text/plain": [
       "1"
      ]
     },
     "execution_count": 50,
     "metadata": {},
     "output_type": "execute_result"
    }
   ],
   "source": [
    "product()"
   ]
  },
  {
   "cell_type": "code",
   "execution_count": 51,
   "id": "comparable-transmission",
   "metadata": {},
   "outputs": [
    {
     "name": "stdout",
     "output_type": "stream",
     "text": [
      "1 2 3 {'sep': '...', 'end': ''}\n"
     ]
    }
   ],
   "source": [
    "print(1, 2, 3, { 'sep': '...', 'end': '' })"
   ]
  },
  {
   "cell_type": "code",
   "execution_count": null,
   "id": "secret-instruction",
   "metadata": {},
   "outputs": [],
   "source": [
    "print(1, 2, 3)"
   ]
  },
  {
   "cell_type": "code",
   "execution_count": 52,
   "id": "separated-water",
   "metadata": {},
   "outputs": [],
   "source": [
    "def weird_func(x, y, z, *args, **kwargs):\n",
    "    print('req args:', x, y, z)\n",
    "    print('var pos args', args)\n",
    "    print('var keywd args', kwargs)\n",
    "    if 'debug' in kwargs:\n",
    "        if kwargs['debug'] == True: # because it could be false\n",
    "            turn_on_debugging = True\n",
    "            # utilize some of *args..."
   ]
  },
  {
   "cell_type": "code",
   "execution_count": 54,
   "id": "encouraging-worker",
   "metadata": {},
   "outputs": [
    {
     "name": "stdout",
     "output_type": "stream",
     "text": [
      "req args: 1 2 3\n",
      "var pos args ()\n",
      "var keywd args {}\n"
     ]
    }
   ],
   "source": [
    "weird_func(1, 2, 3)"
   ]
  },
  {
   "cell_type": "code",
   "execution_count": 56,
   "id": "pregnant-bradford",
   "metadata": {},
   "outputs": [
    {
     "name": "stdout",
     "output_type": "stream",
     "text": [
      "req args: 1 2 3\n",
      "var pos args (4, 5, 6)\n",
      "var keywd args {}\n"
     ]
    }
   ],
   "source": [
    "weird_func(1, 2, 3, 4, 5, 6)"
   ]
  },
  {
   "cell_type": "code",
   "execution_count": 57,
   "id": "exterior-vocabulary",
   "metadata": {},
   "outputs": [
    {
     "name": "stdout",
     "output_type": "stream",
     "text": [
      "req args: 1 2 3\n",
      "var pos args (4, 5, 6)\n",
      "var keywd args {'debug': True, 'color': 'pink'}\n"
     ]
    }
   ],
   "source": [
    "weird_func(1, 2, 3, 4, 5, 6, debug=False, color='pink')"
   ]
  },
  {
   "cell_type": "code",
   "execution_count": 58,
   "id": "finite-cologne",
   "metadata": {},
   "outputs": [],
   "source": [
    "import math"
   ]
  },
  {
   "cell_type": "code",
   "execution_count": 59,
   "id": "informed-hampshire",
   "metadata": {},
   "outputs": [
    {
     "name": "stdout",
     "output_type": "stream",
     "text": [
      "Help on built-in function sin in module math:\n",
      "\n",
      "sin(x, /)\n",
      "    Return the sine of x (measured in radians).\n",
      "\n"
     ]
    }
   ],
   "source": [
    "help(math.sin)"
   ]
  },
  {
   "cell_type": "code",
   "execution_count": 60,
   "id": "competent-treasury",
   "metadata": {},
   "outputs": [
    {
     "data": {
      "text/plain": [
       "[1, 3, 4]"
      ]
     },
     "execution_count": 60,
     "metadata": {},
     "output_type": "execute_result"
    }
   ],
   "source": [
    "sorted([1, 4, 3])"
   ]
  },
  {
   "cell_type": "code",
   "execution_count": 64,
   "id": "complicated-repeat",
   "metadata": {},
   "outputs": [
    {
     "ename": "TypeError",
     "evalue": "sorted expected 1 arguments, got 2",
     "output_type": "error",
     "traceback": [
      "\u001b[0;31m---------------------------------------------------------------------------\u001b[0m",
      "\u001b[0;31mTypeError\u001b[0m                                 Traceback (most recent call last)",
      "\u001b[0;32m<ipython-input-64-b0d7808b1484>\u001b[0m in \u001b[0;36m<module>\u001b[0;34m\u001b[0m\n\u001b[0;32m----> 1\u001b[0;31m \u001b[0msorted\u001b[0m\u001b[0;34m(\u001b[0m\u001b[0;34m[\u001b[0m\u001b[0;36m1\u001b[0m\u001b[0;34m,\u001b[0m \u001b[0;36m4\u001b[0m\u001b[0;34m,\u001b[0m \u001b[0;36m3\u001b[0m\u001b[0;34m]\u001b[0m\u001b[0;34m,\u001b[0m \u001b[0;32mTrue\u001b[0m\u001b[0;34m)\u001b[0m\u001b[0;34m\u001b[0m\u001b[0;34m\u001b[0m\u001b[0m\n\u001b[0m",
      "\u001b[0;31mTypeError\u001b[0m: sorted expected 1 arguments, got 2"
     ]
    }
   ],
   "source": [
    "sorted([1, 4, 3], reverse=True) # **kwarg"
   ]
  },
  {
   "cell_type": "code",
   "execution_count": 65,
   "id": "collected-greeting",
   "metadata": {},
   "outputs": [
    {
     "ename": "ZeroDivisionError",
     "evalue": "division by zero",
     "output_type": "error",
     "traceback": [
      "\u001b[0;31m---------------------------------------------------------------------------\u001b[0m",
      "\u001b[0;31mZeroDivisionError\u001b[0m                         Traceback (most recent call last)",
      "\u001b[0;32m<ipython-input-65-bc757c3fda29>\u001b[0m in \u001b[0;36m<module>\u001b[0;34m\u001b[0m\n\u001b[0;32m----> 1\u001b[0;31m \u001b[0;36m1\u001b[0m \u001b[0;34m/\u001b[0m \u001b[0;36m0\u001b[0m\u001b[0;34m\u001b[0m\u001b[0;34m\u001b[0m\u001b[0m\n\u001b[0m",
      "\u001b[0;31mZeroDivisionError\u001b[0m: division by zero"
     ]
    }
   ],
   "source": [
    "1 / 0"
   ]
  },
  {
   "cell_type": "code",
   "execution_count": null,
   "id": "mature-eagle",
   "metadata": {},
   "outputs": [],
   "source": []
  }
 ],
 "metadata": {
  "kernelspec": {
   "display_name": "Python 3",
   "language": "python",
   "name": "python3"
  },
  "language_info": {
   "codemirror_mode": {
    "name": "ipython",
    "version": 3
   },
   "file_extension": ".py",
   "mimetype": "text/x-python",
   "name": "python",
   "nbconvert_exporter": "python",
   "pygments_lexer": "ipython3",
   "version": "3.7.4"
  }
 },
 "nbformat": 4,
 "nbformat_minor": 5
}
