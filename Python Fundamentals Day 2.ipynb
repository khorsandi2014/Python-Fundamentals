{
 "cells": [
  {
   "cell_type": "markdown",
   "metadata": {
    "slideshow": {
     "slide_type": "slide"
    }
   },
   "source": [
    "# Day 2"
   ]
  },
  {
   "cell_type": "markdown",
   "metadata": {
    "slideshow": {
     "slide_type": "subslide"
    }
   },
   "source": [
    "## Day 2 Agenda\n",
    "* __`enumerate()/zip()`__\n",
    "* list comprehensions\n",
    "* tuples\n",
    "* dictionaries\n",
    "* explaining __`this.py`__\n",
    "* sets\n",
    "* file I/O"
   ]
  },
  {
   "cell_type": "markdown",
   "metadata": {
    "slideshow": {
     "slide_type": "subslide"
    }
   },
   "source": [
    "## \"Pythonic\""
   ]
  },
  {
   "cell_type": "code",
   "execution_count": null,
   "metadata": {},
   "outputs": [],
   "source": [
    "cars = ['Tesla', 'Fisker', 'Rivian', 'Lordstown']"
   ]
  },
  {
   "cell_type": "code",
   "execution_count": null,
   "metadata": {
    "tags": []
   },
   "outputs": [],
   "source": [
    "i = 0\n",
    "for car in cars: # for thing in container\n",
    "    print('index', i, 'is', car)\n",
    "    i += 1"
   ]
  },
  {
   "cell_type": "markdown",
   "metadata": {
    "slideshow": {
     "slide_type": "subslide"
    }
   },
   "source": [
    "## __`enumerate()`__\n",
    "* a builtin function which associates an index with each item in an iterable\n",
    "* returns an _enumerate_ object\n",
    "* return two things: the index AND the item\n"
   ]
  },
  {
   "cell_type": "code",
   "execution_count": null,
   "metadata": {
    "tags": []
   },
   "outputs": [],
   "source": [
    "for index, car in enumerate(cars, start=1):\n",
    "    print('car maker', index, 'is', car)"
   ]
  },
  {
   "cell_type": "code",
   "execution_count": null,
   "metadata": {},
   "outputs": [],
   "source": [
    "type(enumerate(cars))"
   ]
  },
  {
   "cell_type": "markdown",
   "metadata": {
    "slideshow": {
     "slide_type": "subslide"
    }
   },
   "source": [
    "## __`zip(*iterables)`__ # 0 or more containers\n",
    "* builtin function which matches up each item in an iterable with the corresponding item in the other iterable(s)\n",
    "* technically creates an iterator that aggregates elements from each iterable\n",
    "* why is it called __`zip`__?"
   ]
  },
  {
   "cell_type": "code",
   "execution_count": null,
   "metadata": {
    "tags": []
   },
   "outputs": [],
   "source": [
    "first_names = ['Dave', 'Bruce', 'Taylor']\n",
    "last_names = ['W-S', 'Lee', 'Swift']\n",
    "employee_nums = [3456, 1, 2]\n",
    "\n",
    "for first, last, num in zip(first_names, last_names, employee_nums):\n",
    "    print(first, last, num)"
   ]
  },
  {
   "cell_type": "code",
   "execution_count": null,
   "metadata": {
    "tags": []
   },
   "outputs": [],
   "source": [
    "stooges = ['Larry', 'Moe', 'Curly']\n",
    "marxbros = ['Groucho', 'Harpo', 'Chico', 'Zeppo']\n",
    "\n",
    "for stooge, marx in zip(stooges, marxbros):\n",
    "    print(stooge, marx)"
   ]
  },
  {
   "cell_type": "code",
   "execution_count": null,
   "metadata": {
    "scrolled": false,
    "tags": []
   },
   "outputs": [],
   "source": [
    "from itertools import zip_longest # module that helps with iteration\n",
    "stooges = ['Larry', 'Moe', 'Curly']\n",
    "marxbros = ['Groucho', 'Harpo', 'Chico', 'Zeppo']\n",
    "\n",
    "for stooge, marx in zip_longest(stooges, marxbros, fillvalue='***'):\n",
    "    print(stooge, marx)"
   ]
  },
  {
   "cell_type": "markdown",
   "metadata": {
    "slideshow": {
     "slide_type": "slide"
    }
   },
   "source": [
    "# List Comprehensions"
   ]
  },
  {
   "cell_type": "markdown",
   "metadata": {
    "slideshow": {
     "slide_type": "subslide"
    }
   },
   "source": [
    "## List Comprehensions (\"listcomps\")\n",
    "* quick/compact way to build a list\n",
    "* \"more readable\"/faster\n",
    "* which is easier to read?"
   ]
  },
  {
   "cell_type": "code",
   "execution_count": null,
   "metadata": {},
   "outputs": [],
   "source": [
    "fruits = 'apple lemon cherry fig lime watermelon'.split() # Pythonic\n",
    "fruits"
   ]
  },
  {
   "cell_type": "code",
   "execution_count": null,
   "metadata": {},
   "outputs": [],
   "source": [
    "fruit_lengths = [] # empty to start\n",
    "\n",
    "for fruit in fruits:\n",
    "    fruit_lengths.append(len(fruit))\n",
    "    \n",
    "print(fruit_lengths)"
   ]
  },
  {
   "cell_type": "code",
   "execution_count": null,
   "metadata": {
    "scrolled": true
   },
   "outputs": [],
   "source": [
    "fruit_lengths = [len(fruit) for fruit in fruits]\n",
    "\n",
    "print(fruit_lengths)"
   ]
  },
  {
   "cell_type": "markdown",
   "metadata": {
    "slideshow": {
     "slide_type": "subslide"
    }
   },
   "source": [
    "## List Comprehensions (cont'd)\n",
    "* listcomps can generate a list from the Cartesian product of two or more iterables"
   ]
  },
  {
   "cell_type": "code",
   "execution_count": null,
   "metadata": {},
   "outputs": [],
   "source": [
    "colors = ['black', 'white']\n",
    "sizes = ['S', 'M', 'L', 'XL']"
   ]
  },
  {
   "cell_type": "code",
   "execution_count": null,
   "metadata": {},
   "outputs": [],
   "source": [
    "tshirts = [[color, size] for color in colors\n",
    "                             for size in sizes]\n",
    "tshirts"
   ]
  },
  {
   "cell_type": "code",
   "execution_count": null,
   "metadata": {},
   "outputs": [],
   "source": [
    "string = 'alphabet soup tastes great!'"
   ]
  },
  {
   "cell_type": "code",
   "execution_count": null,
   "metadata": {},
   "outputs": [],
   "source": [
    "print(list(string))"
   ]
  },
  {
   "cell_type": "code",
   "execution_count": null,
   "metadata": {},
   "outputs": [],
   "source": [
    "# generate a list of all the consonants in a\n",
    "# string, discarding vowels and spaces\n",
    "\n",
    "consonants = [char for char in string \n",
    "                       if char not in 'aeiou! ']\n",
    "print(consonants)"
   ]
  },
  {
   "cell_type": "markdown",
   "metadata": {
    "slideshow": {
     "slide_type": "subslide"
    }
   },
   "source": [
    "## Lab: List Comprehensions\n",
    "*  Start with Cartesian product example (colors x sizes of t-shirts) and add a third list, __`sleeves = ['short', 'long']`__ then write a new listcomp which generates the Cartesian product __`colors x sizes x sleeves`__. __`tshirts`__ should look like this:<pre><b>\n",
    "    [['black', 'S', 'short'],\n",
    "     ['black', 'S', 'long'],\n",
    "     ['black', 'M', 'short'],\n",
    "     ['black', 'M', 'long'],\n",
    "     ['black', 'L', 'short'],\n",
    "     ['black', 'L', 'long'],\n",
    "     ['white', 'S', 'short'],\n",
    "     ['white', 'S', 'long'],\n",
    "     ['white', 'M', 'short'],\n",
    "     ['white', 'M', 'long'],\n",
    "     ['white', 'L', 'short'],\n",
    "     ['white', 'L', 'long']]\n",
    "     \n",
    " </b></pre>\n",
    "* Use a list comprehension to create a list of the squares of the integers from 1 to 25 (i.e, 1, 4, 9, 16, …, 625)\n",
    "* Given a list of words, create a second list which contains all the words from the first list which do not end with a vowel\n",
    "* Use a list comprehension to create a list of the integers from 1 to 100 which are not divisible by 5\n",
    "* Use a list comprehension and __`zip()`__ to create a list of lists, where the list items are name and ID number that you grabbed from separate lists of names and ID numbers\n",
    "  * start with a list of, say, 5 names ['John', 'Mary', 'Edward', 'Linda', 'Dinesh']\n",
    "  * and a list of, say, 5 ID numbers [1003, 2043, 8762, 7862, 1093]\n",
    "  * additional wrinkle: do not include any names whose corresponding ID is -1"
   ]
  },
  {
   "cell_type": "markdown",
   "metadata": {
    "slideshow": {
     "slide_type": "subslide"
    }
   },
   "source": [
    "## listcomps recap\n",
    "* keep them short\n",
    "* they are not _list incomprehensions_, so keep them simple\n",
    "* use line breaks since they are ignored inside [] (and (), {}) and you therefore don't need the ugly '\\\\' line continuation character\n",
    "* note that __`for`__ loops do many things (e.g., scan a sequence to count or select items), computing aggregates (sum, averages) or any number of other processing tasks\n",
    "  * in contrast, listcomps do ONE thing–generate lists!"
   ]
  },
  {
   "cell_type": "markdown",
   "metadata": {
    "slideshow": {
     "slide_type": "slide"
    }
   },
   "source": [
    "# Tuples"
   ]
  },
  {
   "cell_type": "markdown",
   "metadata": {
    "slideshow": {
     "slide_type": "subslide"
    }
   },
   "source": [
    "## Tuples\n",
    "* immutable data type\n",
    "* typically heterogeneous (cf. lists)\n",
    "* generally imply some structure\n",
    " * tuples typically represent a single object, but multiple aspects/attributes of it\n",
    " * if lists are typically used like the columns of a spreadsheet...\n",
    "   * then tuples are typically the rows..."
   ]
  },
  {
   "cell_type": "code",
   "execution_count": null,
   "metadata": {},
   "outputs": [],
   "source": [
    "t = () # empty tuple (cf. empty list...[])\n",
    "t"
   ]
  },
  {
   "cell_type": "code",
   "execution_count": null,
   "metadata": {},
   "outputs": [],
   "source": [
    "type(t)"
   ]
  },
  {
   "cell_type": "code",
   "execution_count": null,
   "metadata": {},
   "outputs": [],
   "source": [
    "t = ('foo',) # singleton tuple"
   ]
  },
  {
   "cell_type": "code",
   "execution_count": null,
   "metadata": {},
   "outputs": [],
   "source": [
    "t"
   ]
  },
  {
   "cell_type": "code",
   "execution_count": null,
   "metadata": {},
   "outputs": [],
   "source": [
    "t = 'Jones', 'John', 1023, True # no parens\n",
    "t"
   ]
  },
  {
   "cell_type": "code",
   "execution_count": null,
   "metadata": {},
   "outputs": [],
   "source": [
    "# tuple unpacking\n",
    "last_name, first_name, employee_num, full_time = t"
   ]
  },
  {
   "cell_type": "code",
   "execution_count": null,
   "metadata": {},
   "outputs": [],
   "source": [
    "employee_num # type(employee_num)"
   ]
  },
  {
   "cell_type": "code",
   "execution_count": null,
   "metadata": {},
   "outputs": [],
   "source": [
    "something = input('Enter something: ')\n",
    "as_a_list = something.split() # split() always returns a list\n",
    "as_a_tuple = tuple(as_a_list) # tuple() always returns a tuple"
   ]
  },
  {
   "cell_type": "code",
   "execution_count": null,
   "metadata": {},
   "outputs": [],
   "source": [
    "print(as_a_list, as_a_tuple, sep='\\n')"
   ]
  },
  {
   "cell_type": "code",
   "execution_count": null,
   "metadata": {},
   "outputs": [],
   "source": [
    "person = 'Sara Breedlove', 1867, 'Louisiana'"
   ]
  },
  {
   "cell_type": "code",
   "execution_count": null,
   "metadata": {},
   "outputs": [],
   "source": [
    "person[1]"
   ]
  },
  {
   "cell_type": "code",
   "execution_count": null,
   "metadata": {},
   "outputs": [],
   "source": [
    "person[1] = 1868"
   ]
  },
  {
   "cell_type": "code",
   "execution_count": null,
   "metadata": {
    "slideshow": {
     "slide_type": "subslide"
    }
   },
   "outputs": [],
   "source": [
    "# a tuple may contain a mutable object...\n",
    "\n",
    "person = 'Curie', 'Marie', 1867, []\n",
    "person"
   ]
  },
  {
   "cell_type": "code",
   "execution_count": null,
   "metadata": {},
   "outputs": [],
   "source": [
    "person[-1].extend(['physicist', 'chemist'])\n",
    "person"
   ]
  },
  {
   "cell_type": "markdown",
   "metadata": {
    "slideshow": {
     "slide_type": "subslide"
    }
   },
   "source": [
    "## Lab: Tuples\n",
    "* Create a tuple representing a city w/field of your own choosing (e.g., city name, state/country, population, elevation, etc.)\n",
    "* \"Add\" a field to the tuple–since tuples are immutable, you will have to do this by concatenating tuples\n",
    "* Using the _in_ operator, check to see if a particular value is in the tuple\n",
    "* Using the __`.index()`__ method, find the position of a particular value in the tuple"
   ]
  },
  {
   "cell_type": "markdown",
   "metadata": {
    "slideshow": {
     "slide_type": "subslide"
    }
   },
   "source": [
    "## Recap: Tuples\n",
    "* not just \"constant lists\" \n",
    " (see http://jtauber.com/blog/2006/04/15/python_tuples_are_not_just_constant_lists)\n",
    "* remember that lists are (typically) ordered sequences of homogeneous values (i.e., Excel/DB column)\n",
    "* and tuples typically imply some structure and refer to multiple attributes of ONE item (person, country, building, etc.)\n",
    " * i.e., database/Excel row"
   ]
  },
  {
   "cell_type": "markdown",
   "metadata": {
    "slideshow": {
     "slide_type": "slide"
    }
   },
   "source": [
    "# Dictionaries\n"
   ]
  },
  {
   "cell_type": "markdown",
   "metadata": {
    "slideshow": {
     "slide_type": "subslide"
    }
   },
   "source": [
    "\n",
    "# Dictionaries\n",
    "* \"unordered\" grouping of key/value pairs\n",
    "* sometimes called a \"map\", \"hashmap\", or \"associative array\""
   ]
  },
  {
   "cell_type": "code",
   "execution_count": null,
   "metadata": {},
   "outputs": [],
   "source": [
    "d = {} # empty dict"
   ]
  },
  {
   "cell_type": "code",
   "execution_count": null,
   "metadata": {},
   "outputs": [],
   "source": [
    "d = { 'X': 10, 'V': 5, 'I': 1 } # can be initialized when declared"
   ]
  },
  {
   "cell_type": "code",
   "execution_count": null,
   "metadata": {
    "tags": []
   },
   "outputs": [],
   "source": [
    "d"
   ]
  },
  {
   "cell_type": "code",
   "execution_count": null,
   "metadata": {
    "tags": []
   },
   "outputs": [],
   "source": [
    "d['L'] = 50 # add something to the dict\n",
    "print(d)"
   ]
  },
  {
   "cell_type": "code",
   "execution_count": null,
   "metadata": {
    "tags": []
   },
   "outputs": [],
   "source": [
    "# iterating through a dict iterates through the keys \n",
    "for key in d: # for thing in container\n",
    "    print(key, end=' ')"
   ]
  },
  {
   "cell_type": "code",
   "execution_count": null,
   "metadata": {
    "tags": []
   },
   "outputs": [],
   "source": [
    "# ...of course we can print the values while iterating\n",
    "for thing in d:\n",
    "    print(thing, d[thing])"
   ]
  },
  {
   "cell_type": "code",
   "execution_count": null,
   "metadata": {
    "tags": []
   },
   "outputs": [],
   "source": [
    "sbux_dict = {'venti': 20, 'tall': 12, 'grande': 16}\n",
    "print(sbux_dict)"
   ]
  },
  {
   "cell_type": "code",
   "execution_count": null,
   "metadata": {
    "scrolled": true,
    "tags": []
   },
   "outputs": [],
   "source": [
    "print(sbux_dict.keys(), sbux_dict.values(),\n",
    "      sbux_dict.items(), sep='\\n')"
   ]
  },
  {
   "cell_type": "code",
   "execution_count": null,
   "metadata": {},
   "outputs": [],
   "source": [
    "total_ounces = 0\n",
    "for amount in sbux_dict.values():\n",
    "    total_ounces += amount\n",
    "\n",
    "total_ounces"
   ]
  },
  {
   "cell_type": "code",
   "execution_count": null,
   "metadata": {},
   "outputs": [],
   "source": [
    "sum(sbux_dict.values())"
   ]
  },
  {
   "cell_type": "markdown",
   "metadata": {
    "slideshow": {
     "slide_type": "subslide"
    }
   },
   "source": [
    "## Dictionaries: View Objects\n",
    "* __`keys()`__, __`values()`__, and __`items()`__ are view objects\n",
    "* view objects provide a dynamic window into the dictionary"
   ]
  },
  {
   "cell_type": "code",
   "execution_count": null,
   "metadata": {},
   "outputs": [],
   "source": [
    "keys = sbux_dict.keys()\n",
    "keys"
   ]
  },
  {
   "cell_type": "code",
   "execution_count": null,
   "metadata": {},
   "outputs": [],
   "source": [
    "# keys will change automagically after we add to the dict\n",
    "print(keys)\n",
    "sbux_dict['trenta'] = 31\n",
    "print(keys)"
   ]
  },
  {
   "cell_type": "code",
   "execution_count": null,
   "metadata": {},
   "outputs": [],
   "source": [
    "keys"
   ]
  },
  {
   "cell_type": "markdown",
   "metadata": {
    "slideshow": {
     "slide_type": "subslide"
    }
   },
   "source": [
    "# __`get()`__: Dealing with missing dict values"
   ]
  },
  {
   "cell_type": "code",
   "execution_count": null,
   "metadata": {},
   "outputs": [],
   "source": [
    "d = {'foo': 'bar'}"
   ]
  },
  {
   "cell_type": "code",
   "execution_count": null,
   "metadata": {},
   "outputs": [],
   "source": [
    "d['foo']"
   ]
  },
  {
   "cell_type": "code",
   "execution_count": null,
   "metadata": {},
   "outputs": [],
   "source": [
    "d['foot']"
   ]
  },
  {
   "cell_type": "code",
   "execution_count": null,
   "metadata": {},
   "outputs": [],
   "source": [
    "if 'foot' in d: # is 'foot' a key in this dict\n",
    "    print(d['foot'])\n",
    "# or just... d.get('foot')"
   ]
  },
  {
   "cell_type": "code",
   "execution_count": null,
   "metadata": {},
   "outputs": [],
   "source": [
    "print(d.get('foot'))"
   ]
  },
  {
   "cell_type": "code",
   "execution_count": null,
   "metadata": {},
   "outputs": [],
   "source": [
    "# what if we sort a dict?\n",
    "for key in sorted(sbux_dict):\n",
    "    print(key, sbux_dict[key])"
   ]
  },
  {
   "cell_type": "code",
   "execution_count": null,
   "metadata": {},
   "outputs": [],
   "source": [
    "# In order to iterate in order, we have to sort the\n",
    "# dict by value (as opposed to key)\n",
    "# By default, sorted() will sort by key--\n",
    "# usually not what we want!\n",
    "\n",
    "for k in sorted(sbux_dict, key=sbux_dict.get):\n",
    "    print(k, '=>', sbux_dict[k])"
   ]
  },
  {
   "cell_type": "markdown",
   "metadata": {
    "slideshow": {
     "slide_type": "subslide"
    }
   },
   "source": [
    "## Removing items from a dict\n",
    "* __`del`__ = remove an item from the dict\n",
    "* __`dict.pop(key)`__ = remove item and return value\n",
    "* __`dict.clear()`__ = empty out the dict"
   ]
  },
  {
   "cell_type": "code",
   "execution_count": null,
   "metadata": {},
   "outputs": [],
   "source": [
    "mydict = {'trenta': 31, 'grande': 16, 'venti': 20,\n",
    "          'tall': 12}\n",
    "print(mydict)"
   ]
  },
  {
   "cell_type": "code",
   "execution_count": null,
   "metadata": {},
   "outputs": [],
   "source": [
    "del mydict['trenta']\n",
    "print(mydict)"
   ]
  },
  {
   "cell_type": "code",
   "execution_count": null,
   "metadata": {},
   "outputs": [],
   "source": [
    "print(mydict.pop('venti'))"
   ]
  },
  {
   "cell_type": "code",
   "execution_count": null,
   "metadata": {},
   "outputs": [],
   "source": [
    "print(mydict)"
   ]
  },
  {
   "cell_type": "code",
   "execution_count": null,
   "metadata": {},
   "outputs": [],
   "source": [
    "mydict.clear()\n",
    "mydict"
   ]
  },
  {
   "cell_type": "markdown",
   "metadata": {
    "slideshow": {
     "slide_type": "subslide"
    }
   },
   "source": [
    "## Lab: dictionary\n",
    "* use a dict to translate Roman numerals into their Arabic equivalents\n",
    "1. load the dict with Roman numerals M (1000), D (500), C (100), L (50), X (10), V (5), I (1)\n",
    "2. read in a Roman numeral\n",
    "3. print Arabic equivalent\n",
    "4. try it with MCLX = 1000 + 100 + 50 + 10 = 1160\n",
    "4. __If you have time, deal with the case where a smaller number precedes a larger number, e.g., XC = 100 - 10 = 90, or MCM = 1000 + (1000-100) = 1900__\n",
    "4. __MCMXCIX = 1999__"
   ]
  },
  {
   "cell_type": "markdown",
   "metadata": {
    "slideshow": {
     "slide_type": "subslide"
    }
   },
   "source": [
    "## Dict Comprehension\n",
    "* like a listcomp, a dictcomp creates a dict quickly"
   ]
  },
  {
   "cell_type": "code",
   "execution_count": null,
   "metadata": {},
   "outputs": [],
   "source": [
    "names = ['Sally', 'Bob', 'Martha', 'Dirk']\n",
    "employee_ids = [345, 286, 453, 119]\n",
    "id_dict = { name: emp_id + 1000\n",
    "                   for name, emp_id in zip(names, employee_ids)}\n",
    "print(id_dict)"
   ]
  },
  {
   "cell_type": "code",
   "execution_count": null,
   "metadata": {},
   "outputs": [],
   "source": [
    "d = { 'foo': 4, 'bar': -1, 'baz': -1, 'blah': 3, 'what': 2 }\n",
    "print(d)"
   ]
  },
  {
   "cell_type": "code",
   "execution_count": null,
   "metadata": {},
   "outputs": [],
   "source": [
    "d.items()"
   ]
  },
  {
   "cell_type": "code",
   "execution_count": null,
   "metadata": {},
   "outputs": [],
   "source": [
    "d = { key: val for key, val in d.items()\n",
    "               if val != -1 }\n",
    "print(d)"
   ]
  },
  {
   "cell_type": "code",
   "execution_count": null,
   "metadata": {},
   "outputs": [],
   "source": [
    "id_dict_inverse = { val : key for key, val in id_dict.items() }"
   ]
  },
  {
   "cell_type": "code",
   "execution_count": null,
   "metadata": {},
   "outputs": [],
   "source": [
    "id_dict_inverse"
   ]
  },
  {
   "cell_type": "markdown",
   "metadata": {
    "slideshow": {
     "slide_type": "subslide"
    }
   },
   "source": [
    "## Now we understand this code!"
   ]
  },
  {
   "cell_type": "code",
   "execution_count": null,
   "metadata": {},
   "outputs": [],
   "source": [
    "s = \"\"\"Gur Mra bs Clguba, ol Gvz Crgref\n",
    "\n",
    "Ornhgvshy vf orggre guna htyl.\n",
    "Rkcyvpvg vf orggre guna vzcyvpvg.\n",
    "Fvzcyr vf orggre guna pbzcyrk.\n",
    "Pbzcyrk vf orggre guna pbzcyvpngrq.\n",
    "Syng vf orggre guna arfgrq.\n",
    "Fcnefr vf orggre guna qrafr.\"\"\"\n",
    "\n",
    "d = {}\n",
    "for c in (65, 97):\n",
    "    for i in range(26):\n",
    "        d[chr(i+c)] = chr((i+13) % 26 + c)\n",
    "\n",
    "print(\"\".join([d.get(c, c) for c in s]))"
   ]
  },
  {
   "cell_type": "markdown",
   "metadata": {
    "slideshow": {
     "slide_type": "slide"
    }
   },
   "source": [
    "# Sets"
   ]
  },
  {
   "cell_type": "markdown",
   "metadata": {
    "slideshow": {
     "slide_type": "subslide"
    }
   },
   "source": [
    "## Sets\n",
    "* unordered collection, no duplicates\n",
    "* kind of a one-trick pony–remove duplicates"
   ]
  },
  {
   "cell_type": "code",
   "execution_count": null,
   "metadata": {
    "scrolled": true
   },
   "outputs": [],
   "source": [
    "s = { 'Annie', 'Betty', 'Cathy', 'Donna' }\n",
    "print(s)"
   ]
  },
  {
   "cell_type": "code",
   "execution_count": null,
   "metadata": {},
   "outputs": [],
   "source": [
    "s.add('Ellen')\n",
    "print(s)"
   ]
  },
  {
   "cell_type": "code",
   "execution_count": null,
   "metadata": {},
   "outputs": [],
   "source": [
    "s.add('Annie')\n",
    "print(s)"
   ]
  },
  {
   "cell_type": "code",
   "execution_count": null,
   "metadata": {},
   "outputs": [],
   "source": [
    "# we can use the 'in' operator\n",
    "if 'Annie' in s:\n",
    "    print('Yep!')"
   ]
  },
  {
   "cell_type": "markdown",
   "metadata": {
    "slideshow": {
     "slide_type": "subslide"
    }
   },
   "source": [
    "## Deleting from a Set\n",
    "* __`remove(item)`__: remove an item if it's in the set\n",
    "* __`discard(item)`__: remove an item whether or not it's in the set\n",
    "* __`pop()`__: pops a random element out of the set"
   ]
  },
  {
   "cell_type": "code",
   "execution_count": null,
   "metadata": {},
   "outputs": [],
   "source": [
    "print(s)"
   ]
  },
  {
   "cell_type": "code",
   "execution_count": null,
   "metadata": {},
   "outputs": [],
   "source": [
    "s.remove('Betty')"
   ]
  },
  {
   "cell_type": "code",
   "execution_count": null,
   "metadata": {},
   "outputs": [],
   "source": [
    "print(s)"
   ]
  },
  {
   "cell_type": "code",
   "execution_count": null,
   "metadata": {},
   "outputs": [],
   "source": [
    "s.discard('Loren')"
   ]
  },
  {
   "cell_type": "code",
   "execution_count": null,
   "metadata": {},
   "outputs": [],
   "source": [
    "print(s)"
   ]
  },
  {
   "cell_type": "code",
   "execution_count": null,
   "metadata": {},
   "outputs": [],
   "source": [
    "print(s.pop())\n",
    "print(s)"
   ]
  },
  {
   "cell_type": "code",
   "execution_count": null,
   "metadata": {},
   "outputs": [],
   "source": [
    "while s: # while the set is non-empty\n",
    "    print(s.pop())"
   ]
  },
  {
   "cell_type": "markdown",
   "metadata": {
    "slideshow": {
     "slide_type": "subslide"
    }
   },
   "source": [
    "## Lab: Sets\n",
    "* Use a set to find all of the unique words in the input and print them out in sorted order\n",
    "* If the user entered __There is no there there__, your program should print out \n",
    "   <pre><b>\n",
    "   is\n",
    "   no\n",
    "   there\n",
    "   </b></pre>\n",
    "* Note that `There` and `there` should be counted as the same word."
   ]
  },
  {
   "cell_type": "markdown",
   "metadata": {
    "slideshow": {
     "slide_type": "subslide"
    }
   },
   "source": [
    "## Sets Recap\n",
    "* unordered\n",
    "* no duplicates\n",
    "* use __`in`__ to test for membership\n"
   ]
  },
  {
   "cell_type": "markdown",
   "metadata": {
    "slideshow": {
     "slide_type": "slide"
    }
   },
   "source": [
    "# File I/O"
   ]
  },
  {
   "cell_type": "markdown",
   "metadata": {
    "slideshow": {
     "slide_type": "subslide"
    }
   },
   "source": [
    "## File I/O\n",
    "* __`fileobj = open(filename, mode)`__\n",
    "* mode is one or two letters\n",
    "  * r = read\n",
    "  * r+ = open for reading and writing\n",
    "  * w = write (create/overwrite)\n",
    "  * x = write, but only if file does not already exist\n",
    "  * a = append, if file exists (unless a+, then create)\n",
    "* second letter =\n",
    "  * t = text file (default)\n",
    "  * b = binary\n",
    "* __`fileobj.close()`__"
   ]
  },
  {
   "cell_type": "markdown",
   "metadata": {
    "slideshow": {
     "slide_type": "subslide"
    }
   },
   "source": [
    "## File I/O: Open/Close"
   ]
  },
  {
   "cell_type": "code",
   "execution_count": null,
   "metadata": {},
   "outputs": [],
   "source": [
    "f = open('test.txt', 'r')"
   ]
  },
  {
   "cell_type": "code",
   "execution_count": null,
   "metadata": {},
   "outputs": [],
   "source": [
    "f = open('test.txt', 'w')\n",
    "f.close()"
   ]
  },
  {
   "cell_type": "code",
   "execution_count": null,
   "metadata": {},
   "outputs": [],
   "source": [
    "!ls -l test.txt"
   ]
  },
  {
   "cell_type": "code",
   "execution_count": null,
   "metadata": {},
   "outputs": [],
   "source": [
    "f = open('test.txt', 'x')"
   ]
  },
  {
   "cell_type": "markdown",
   "metadata": {
    "slideshow": {
     "slide_type": "subslide"
    }
   },
   "source": [
    "## File I/O: Read/Write"
   ]
  },
  {
   "cell_type": "code",
   "execution_count": null,
   "metadata": {},
   "outputs": [],
   "source": [
    "poem = \"\"\"TWO roads diverged in a yellow wood,\n",
    "And sorry I could not travel both\n",
    "And be one traveler, long I stood\n",
    "And looked down one as far as I could\n",
    "To where it bent in the undergrowth;\n",
    "\n",
    "Then took the other, as just as fair,\n",
    "And having perhaps the better claim,\n",
    "Because it was grassy and wanted wear;\n",
    "Though as for that the passing there\n",
    "Had worn them really about the same,\n",
    "\n",
    "And both that morning equally lay\n",
    "In leaves no step had trodden black.\n",
    "Oh, I kept the first for another day!\n",
    "Yet knowing how way leads on to way,\n",
    "I doubted if I should ever come back.\n",
    "\n",
    "I shall be telling this with a sigh\n",
    "Somewhere ages and ages hence:\n",
    "Two roads diverged in a wood, and I—\n",
    "I took the one less traveled by,\n",
    "And that has made all the difference.\"\"\"\n",
    "\n",
    "len(poem)"
   ]
  },
  {
   "cell_type": "code",
   "execution_count": null,
   "metadata": {},
   "outputs": [],
   "source": [
    "f = open('poem.txt', 'w')\n",
    "f.write(poem)"
   ]
  },
  {
   "cell_type": "code",
   "execution_count": null,
   "metadata": {},
   "outputs": [],
   "source": [
    "f.close()"
   ]
  },
  {
   "cell_type": "code",
   "execution_count": null,
   "metadata": {},
   "outputs": [],
   "source": [
    "f = open('poem.txt')\n",
    "poem2 = f.read()\n",
    "f.close()"
   ]
  },
  {
   "cell_type": "code",
   "execution_count": null,
   "metadata": {},
   "outputs": [],
   "source": [
    "poem == poem2"
   ]
  },
  {
   "cell_type": "markdown",
   "metadata": {
    "slideshow": {
     "slide_type": "subslide"
    }
   },
   "source": [
    "## File I/O: __`write()`__ vs. __`print()`__\n"
   ]
  },
  {
   "cell_type": "code",
   "execution_count": null,
   "metadata": {},
   "outputs": [],
   "source": [
    "f = open('poem.txt', 'w')\n",
    "# another example of why print being a function is good\n",
    "print(poem, file=f, end='') \n",
    "f.close()"
   ]
  },
  {
   "cell_type": "code",
   "execution_count": null,
   "metadata": {},
   "outputs": [],
   "source": [
    "f = open('poem.txt')\n",
    "poem2 = f.read()\n",
    "f.close()"
   ]
  },
  {
   "cell_type": "code",
   "execution_count": null,
   "metadata": {},
   "outputs": [],
   "source": [
    "poem == poem2"
   ]
  },
  {
   "cell_type": "code",
   "execution_count": null,
   "metadata": {},
   "outputs": [],
   "source": [
    "len(poem2)"
   ]
  },
  {
   "cell_type": "markdown",
   "metadata": {
    "slideshow": {
     "slide_type": "subslide"
    }
   },
   "source": [
    "## __`print(*objects, sep=' ', end='\\n', file=sys.stdout, flush=False)`__\n",
    "* __`sep`__ = separator (default is space)\n",
    "* __`end`__ = what to print at end (default is newline)\n",
    "* __`file`__ = where to print, default is screen\n",
    "* __`flush`__ = whether to flush output buffer, default is no"
   ]
  },
  {
   "cell_type": "markdown",
   "metadata": {
    "slideshow": {
     "slide_type": "subslide"
    }
   },
   "source": [
    "## File I/O: How to Read Data\n",
    "* __`read()`__: slurps up entire file at once\n",
    "  * __`read(x)`__ reads a most __`x`__ bytes\n",
    "* __`readline()`__: reads a line at a time\n",
    "* __`readlines()`__ reads a line at a time and returns the lines as a list of strings\n",
    "* or use an iterator…"
   ]
  },
  {
   "cell_type": "code",
   "execution_count": null,
   "metadata": {},
   "outputs": [],
   "source": [
    "poem = ''\n",
    "f = open('poem.txt')\n",
    "for line in f: # Python reads each line\n",
    "    poem += line\n",
    "f.close()"
   ]
  },
  {
   "cell_type": "code",
   "execution_count": null,
   "metadata": {},
   "outputs": [],
   "source": [
    "print(poem)"
   ]
  },
  {
   "cell_type": "markdown",
   "metadata": {
    "slideshow": {
     "slide_type": "subslide"
    }
   },
   "source": [
    "## File I/O: __`with`__ statement\n",
    "* the __`with`__ statement sets up a temporary \"context\" and closes the file automatically so we don't have to bother with closing it"
   ]
  },
  {
   "cell_type": "code",
   "execution_count": null,
   "metadata": {},
   "outputs": [],
   "source": [
    "with open('poem.txt') as f1: # ~ f1 = open('poem.txt')\n",
    "    poem2 = f1.read()\n",
    "    # at this point file is open\n",
    "    print('in with statement, f1.closed =', f1.closed)"
   ]
  },
  {
   "cell_type": "code",
   "execution_count": null,
   "metadata": {},
   "outputs": [],
   "source": [
    "poem == poem2"
   ]
  },
  {
   "cell_type": "code",
   "execution_count": null,
   "metadata": {},
   "outputs": [],
   "source": [
    "f1.closed"
   ]
  },
  {
   "cell_type": "markdown",
   "metadata": {
    "slideshow": {
     "slide_type": "subslide"
    }
   },
   "source": [
    "## Quick Lab: File I/O\n",
    "* write a Python program which prompts the user for a filename, then opens that file and writes the contents of the file to a new file, in reverse order, i.e.,\n",
    "\n",
    "<pre><b>\n",
    "    Original file       Reversed file\n",
    "    Line 1              Line 4\n",
    "    Line 2              Line 3\n",
    "    Line 3              Line 2\n",
    "    Line 4              Line 1\n",
    "</b></pre>"
   ]
  },
  {
   "cell_type": "markdown",
   "metadata": {
    "slideshow": {
     "slide_type": "subslide"
    }
   },
   "source": [
    "## Lab: File I/O + dicts\n",
    "* write a Python program to read a file and count the number of occurrences of each word in the file\n",
    "* use a __`dict`__, indexed by word, to count the occurrences\n",
    "* remember __`d.get(key)`__ will return __`None`__ if there is no such key in the dict (vs. __`d[key]`__ which will throw an exception) and also the __`in`__ operator\n",
    "  * or use a __`collections.defaultdict`__ if we've covered it\n",
    "* treat __The__ and __the__ as the same word when counting\n",
    "* print out words and counts, from most common to least common\n",
    "* EXTRA: remove punctuation, so __Hamlet,__ == __Hamlet__ # refer back to \"import this\"\n",
    "* Road Not Taken and Hamlet are in your materials"
   ]
  },
  {
   "cell_type": "markdown",
   "metadata": {
    "slideshow": {
     "slide_type": "subslide"
    }
   },
   "source": [
    "## File I/O: recap\n",
    "* __`open()`__ returns file object\n",
    "* __`close()`__ closes the file\n",
    "* __`read()`__ reads bytes\n",
    "* __`readline()`__ reads a line at a time\n",
    "* __`readlines()`__ reads all lines–shouldn't be used\n",
    "* can also iterate through a file object a line at a time\n",
    "* __`with`__ statement sets up a temporary context (block) for file I/O and automatically closes file when block is exited"
   ]
  },
  {
   "cell_type": "markdown",
   "metadata": {
    "slideshow": {
     "slide_type": "slide"
    }
   },
   "source": [
    "# End of Day 2"
   ]
  }
 ],
 "metadata": {
  "celltoolbar": "Slideshow",
  "kernelspec": {
   "display_name": "Python 3",
   "language": "python",
   "name": "python3"
  },
  "language_info": {
   "codemirror_mode": {
    "name": "ipython",
    "version": 3
   },
   "file_extension": ".py",
   "mimetype": "text/x-python",
   "name": "python",
   "nbconvert_exporter": "python",
   "pygments_lexer": "ipython3",
   "version": "3.7.4"
  },
  "metadata": {
   "interpreter": {
    "hash": "082e9a3bcad0a290d0001e938aa60b99250c6c2ef33a923c00b70f9826caf4b7"
   }
  }
 },
 "nbformat": 4,
 "nbformat_minor": 1
}
